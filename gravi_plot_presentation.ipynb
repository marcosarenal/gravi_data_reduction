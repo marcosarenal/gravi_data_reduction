{
 "cells": [
  {
   "cell_type": "markdown",
   "metadata": {
    "slideshow": {
     "slide_type": "subslide"
    }
   },
   "source": [
    "# GRAVITY data reduction process: from raw data to science results\n",
    "\n",
    "\n",
    "**Pablo Marcos-Arenal**\n",
    "\n",
    "Centro de Astrobiología (INTA-CSIC)\n",
    "\n",
    "\n",
    "This file intends to cover the full data reduction process and analysis of near-infrared K- band observations with the GRAVITY interferometer at Very Large Telescope Interferometer (VLTI) at the Paranal Observatory. \n",
    "\n",
    "These observations of Herbig Ae/Be stars provide with spatially and spectrally resolved data of their inner disks."
   ]
  },
  {
   "cell_type": "markdown",
   "metadata": {
    "slideshow": {
     "slide_type": "slide"
    }
   },
   "source": [
    "# Summary\n",
    "\n",
    "* Jupyter\n",
    "* Data processing & Calibration\n",
    "* Post-processing\n",
    "* Modelling\n",
    "* Results and figures\n",
    "\n"
   ]
  },
  {
   "cell_type": "markdown",
   "metadata": {
    "slideshow": {
     "slide_type": "slide"
    }
   },
   "source": [
    "# Jupyter\n",
    "Jupyter environment, jupyter lab, conda\n",
    "conection\n",
    "presentation\n"
   ]
  },
  {
   "cell_type": "code",
   "execution_count": 260,
   "metadata": {
    "slideshow": {
     "slide_type": "-"
    }
   },
   "outputs": [],
   "source": [
    "# This line configures matplotlib to show figures embedded in the notebook, \n",
    "# instead of opening a new window for each figure. More about that later. \n",
    "# If you are using an old version of IPython, try using '%pylab inline' instead.\n",
    "\n",
    "#%matplotlib inline\n",
    "\n",
    "#%matplotlib qt"
   ]
  },
  {
   "cell_type": "code",
   "execution_count": 35,
   "metadata": {
    "tags": []
   },
   "outputs": [
    {
     "output_type": "error",
     "ename": "NameError",
     "evalue": "name 'GRAVIQL_test' is not defined",
     "traceback": [
      "\u001b[0;31m---------------------------------------------------------------------------\u001b[0m",
      "\u001b[0;31mNameError\u001b[0m                                 Traceback (most recent call last)",
      "\u001b[0;32m<ipython-input-35-96f93ec26ce6>\u001b[0m in \u001b[0;36m<module>\u001b[0;34m\u001b[0m\n\u001b[1;32m     11\u001b[0m \u001b[0;34m\u001b[0m\u001b[0m\n\u001b[1;32m     12\u001b[0m \u001b[0;34m\u001b[0m\u001b[0m\n\u001b[0;32m---> 13\u001b[0;31m \u001b[0mmiV590Mon\u001b[0m \u001b[0;34m=\u001b[0m \u001b[0mgpg\u001b[0m\u001b[0;34m.\u001b[0m\u001b[0mInputStar\u001b[0m\u001b[0;34m(\u001b[0m\u001b[0;34m'V590Mon'\u001b[0m\u001b[0;34m)\u001b[0m\u001b[0;34m\u001b[0m\u001b[0;34m\u001b[0m\u001b[0m\n\u001b[0m\u001b[1;32m     14\u001b[0m \u001b[0mmiPDS281\u001b[0m \u001b[0;34m=\u001b[0m \u001b[0mgpg\u001b[0m\u001b[0;34m.\u001b[0m\u001b[0mInputStar\u001b[0m\u001b[0;34m(\u001b[0m\u001b[0;34m'PDS281'\u001b[0m\u001b[0;34m)\u001b[0m\u001b[0;34m\u001b[0m\u001b[0;34m\u001b[0m\u001b[0m\n\u001b[1;32m     15\u001b[0m \u001b[0mmiHD94509\u001b[0m \u001b[0;34m=\u001b[0m \u001b[0mgpg\u001b[0m\u001b[0;34m.\u001b[0m\u001b[0mInputStar\u001b[0m\u001b[0;34m(\u001b[0m\u001b[0;34m'HD94509'\u001b[0m\u001b[0;34m)\u001b[0m\u001b[0;34m\u001b[0m\u001b[0;34m\u001b[0m\u001b[0m\n",
      "\u001b[0;32m~/GitHub/Marcos_Arenal_2020/gravi_data_reduction/gravity_plots_generator.py\u001b[0m in \u001b[0;36m__init__\u001b[0;34m(self, source, name)\u001b[0m\n\u001b[1;32m     59\u001b[0m \u001b[0;32mclass\u001b[0m \u001b[0mInputStar\u001b[0m\u001b[0;34m(\u001b[0m\u001b[0;34m)\u001b[0m\u001b[0;34m:\u001b[0m\u001b[0;34m\u001b[0m\u001b[0;34m\u001b[0m\u001b[0m\n\u001b[1;32m     60\u001b[0m     \u001b[0;32mdef\u001b[0m \u001b[0m__init__\u001b[0m\u001b[0;34m(\u001b[0m\u001b[0mself\u001b[0m\u001b[0;34m,\u001b[0m \u001b[0msource\u001b[0m\u001b[0;34m=\u001b[0m\u001b[0;34m'V590Mon'\u001b[0m\u001b[0;34m,\u001b[0m\u001b[0mname\u001b[0m\u001b[0;34m=\u001b[0m\u001b[0;32mNone\u001b[0m\u001b[0;34m)\u001b[0m\u001b[0;34m:\u001b[0m\u001b[0;34m\u001b[0m\u001b[0;34m\u001b[0m\u001b[0m\n\u001b[0;32m---> 61\u001b[0;31m         \u001b[0mself\u001b[0m\u001b[0;34m.\u001b[0m\u001b[0mset_fits_files\u001b[0m\u001b[0;34m(\u001b[0m\u001b[0msource\u001b[0m\u001b[0;34m)\u001b[0m\u001b[0;34m\u001b[0m\u001b[0;34m\u001b[0m\u001b[0m\n\u001b[0m\u001b[1;32m     62\u001b[0m         \u001b[0mself\u001b[0m\u001b[0;34m.\u001b[0m\u001b[0msource\u001b[0m \u001b[0;34m=\u001b[0m \u001b[0msource\u001b[0m\u001b[0;34m\u001b[0m\u001b[0;34m\u001b[0m\u001b[0m\n\u001b[1;32m     63\u001b[0m \u001b[0;34m\u001b[0m\u001b[0m\n",
      "\u001b[0;32m~/GitHub/Marcos_Arenal_2020/gravi_data_reduction/gravity_plots_generator.py\u001b[0m in \u001b[0;36mset_fits_files\u001b[0;34m(self, source)\u001b[0m\n\u001b[1;32m    155\u001b[0m         \u001b[0;31m# Import data from files with GRAVIQL\u001b[0m\u001b[0;34m\u001b[0m\u001b[0;34m\u001b[0m\u001b[0;34m\u001b[0m\u001b[0m\n\u001b[1;32m    156\u001b[0m         \u001b[0;31m#-------------------------------------\u001b[0m\u001b[0;34m\u001b[0m\u001b[0;34m\u001b[0m\u001b[0;34m\u001b[0m\u001b[0m\n\u001b[0;32m--> 157\u001b[0;31m         \u001b[0mres_A\u001b[0m\u001b[0;34m=\u001b[0m\u001b[0mql3\u001b[0m\u001b[0;34m.\u001b[0m\u001b[0mloadGravi\u001b[0m\u001b[0;34m(\u001b[0m\u001b[0minputpath_A\u001b[0m \u001b[0;34m+\u001b[0m \u001b[0mfilename_A\u001b[0m\u001b[0;34m,\u001b[0m \u001b[0minsname\u001b[0m\u001b[0;34m=\u001b[0m\u001b[0;34m'GRAVITY_SC'\u001b[0m\u001b[0;34m)\u001b[0m\u001b[0;34m\u001b[0m\u001b[0;34m\u001b[0m\u001b[0m\n\u001b[0m\u001b[1;32m    158\u001b[0m         \u001b[0mres_B\u001b[0m\u001b[0;34m=\u001b[0m\u001b[0mql3\u001b[0m\u001b[0;34m.\u001b[0m\u001b[0mloadGravi\u001b[0m\u001b[0;34m(\u001b[0m\u001b[0minputpath_B\u001b[0m \u001b[0;34m+\u001b[0m \u001b[0mfilename_B\u001b[0m\u001b[0;34m,\u001b[0m \u001b[0minsname\u001b[0m\u001b[0;34m=\u001b[0m\u001b[0;34m'GRAVITY_SC'\u001b[0m\u001b[0;34m)\u001b[0m\u001b[0;34m\u001b[0m\u001b[0;34m\u001b[0m\u001b[0m\n\u001b[1;32m    159\u001b[0m \u001b[0;34m\u001b[0m\u001b[0m\n",
      "\u001b[0;31mNameError\u001b[0m: name 'GRAVIQL_test' is not defined"
     ]
    }
   ],
   "source": [
    "\n",
    "#Import modules\n",
    "import numpy as np\n",
    "import pandas as pd\n",
    "#from .GRAVIQL_test.trunk import gravi_quick_look_3 as ql3\n",
    "import sys sys.path.append(\"..\")\n",
    "#from .GRAVIQL_test.trunk import gravi_quick_look_3 as ql3\n",
    "#import .GRAVIQL_test.trunk.gravi_quick_look_3 as ql3\n",
    "\n",
    "\n",
    "import gravity_plots_generator as gpg\n",
    "from gravi_plot_functions import *\n",
    "import matplotlib.gridspec as gridspec\n",
    "\n",
    "\n",
    "miV590Mon = gpg.InputStar('V590Mon')\n",
    "miPDS281 = gpg.InputStar('PDS281')\n",
    "miHD94509 = gpg.InputStar('HD94509')\n",
    "miDGCir = gpg.InputStar('DGCir')\n",
    "miHD141926 = gpg.InputStar('HD141926')\n",
    "\n",
    "all_sources = [miV590Mon,miPDS281,miHD94509,miDGCir,miHD141926]\n",
    "\n",
    "\n",
    "plot_figure = False\n",
    "save_figure = False\n",
    "\n"
   ]
  },
  {
   "cell_type": "markdown",
   "metadata": {
    "slideshow": {
     "slide_type": "slide"
    }
   },
   "source": [
    "# Data processing & Calibration\n",
    "\n"
   ]
  },
  {
   "cell_type": "markdown",
   "metadata": {
    "slideshow": {
     "slide_type": "subslide"
    }
   },
   "source": [
    "## Esoreflex processing\n",
    "The esoreflex processing tool provides with a GUI. The esoreflex GUI can be launched using the following command. In case you rather prefer the python_tools to continue the processing, jump to section *Python Tools processing*. \n",
    "\n",
    "Different processing pipelines can be selected just opening the corresponding configuration archive (.kar or .xml) where the type of workflow processing, setup directories and global parameters are set.\n",
    "It is necesary to set the ROOT_DATA_DIR parameter where all output products will be located. \n",
    "Output files are distributed in the generated directories:\n",
    "\n",
    "- *reflex_book_keeping*\n",
    "- *reflex_tmp_products*\n",
    "- *reflex_logs*\n",
    "- *reflex_end_products*\n",
    "\n",
    "\n",
    "Input files must be placed at the RAWDATA_DIR (this directory can be a subdirectory in ROOT_DATA_DIR).\n",
    "All directories in RAWDATA_DIR are searched for data, therefore ROOT_DATA_DIR (and its subdirectory *reflex_end_products* containing final output products) should NOT be inside RAWDATA_DIR in order to avoid recursive process. \n",
    "\n",
    "The CALIB_DATA_DIR parameter must be set with the path to the calibration data files, in case the whole calibration process is required. \n",
    "\n",
    "\n",
    "\n",
    "The *Animate at Runtime* option can be set at *Tools>Animate at Runtime...*, where *Delay for animation (Time (in ms) to hold highlight)* must be set, typically, to 100. "
   ]
  },
  {
   "cell_type": "code",
   "execution_count": 36,
   "metadata": {
    "slideshow": {
     "slide_type": "subslide"
    }
   },
   "outputs": [
    {
     "output_type": "error",
     "ename": "NameError",
     "evalue": "name 'subprocess' is not defined",
     "traceback": [
      "\u001b[0;31m---------------------------------------------------------------------------\u001b[0m",
      "\u001b[0;31mNameError\u001b[0m                                 Traceback (most recent call last)",
      "\u001b[0;32m<ipython-input-36-0aa37871c728>\u001b[0m in \u001b[0;36m<module>\u001b[0;34m\u001b[0m\n\u001b[1;32m      1\u001b[0m \u001b[0mcmd_esoreflex\u001b[0m \u001b[0;34m=\u001b[0m \u001b[0;34m\"esoreflex\"\u001b[0m\u001b[0;34m\u001b[0m\u001b[0;34m\u001b[0m\u001b[0m\n\u001b[0;32m----> 2\u001b[0;31m \u001b[0mreturned_value\u001b[0m \u001b[0;34m=\u001b[0m \u001b[0msubprocess\u001b[0m\u001b[0;34m.\u001b[0m\u001b[0mcall\u001b[0m\u001b[0;34m(\u001b[0m\u001b[0mcmd_esoreflex\u001b[0m\u001b[0;34m,\u001b[0m \u001b[0mshell\u001b[0m\u001b[0;34m=\u001b[0m\u001b[0;32mTrue\u001b[0m\u001b[0;34m)\u001b[0m  \u001b[0;31m# returns the exit code in unix\u001b[0m\u001b[0;34m\u001b[0m\u001b[0;34m\u001b[0m\u001b[0m\n\u001b[0m\u001b[1;32m      3\u001b[0m \u001b[0;32mif\u001b[0m \u001b[0mreturned_value\u001b[0m \u001b[0;34m!=\u001b[0m \u001b[0;36m0\u001b[0m\u001b[0;34m:\u001b[0m\u001b[0;34m\u001b[0m\u001b[0;34m\u001b[0m\u001b[0m\n\u001b[1;32m      4\u001b[0m     \u001b[0mprint\u001b[0m\u001b[0;34m(\u001b[0m\u001b[0;34m'An error occurred: '\u001b[0m\u001b[0;34m,\u001b[0m \u001b[0mreturned_value\u001b[0m\u001b[0;34m)\u001b[0m\u001b[0;34m\u001b[0m\u001b[0;34m\u001b[0m\u001b[0m\n",
      "\u001b[0;31mNameError\u001b[0m: name 'subprocess' is not defined"
     ]
    }
   ],
   "source": [
    "cmd_esoreflex = \"esoreflex\"\n",
    "returned_value = subprocess.call(cmd_esoreflex, shell=True)  # returns the exit code in unix\n",
    "if returned_value != 0:\n",
    "    print('An error occurred: ', returned_value)"
   ]
  },
  {
   "cell_type": "markdown",
   "metadata": {
    "slideshow": {
     "slide_type": "subslide"
    }
   },
   "source": [
    "## Python Tools processing\n",
    "### Dependencies\n",
    "Python_tools package depends on (at least) the following libraries:\n",
    "\n",
    "- future\n",
    "- reportlab\n",
    "- pdfrw\n",
    "- matplotlib\n",
    "- astropy\n",
    "- scipy\n",
    "\n",
    "All these libraries are installed at Anaconda environments as:\n",
    "\n",
    "```console\n",
    "conda install [library_name]\n",
    "```\n",
    "\n",
    "but these are included while setting python2 or python3 enviroments as in the following sections.\n",
    "\n"
   ]
  },
  {
   "cell_type": "markdown",
   "metadata": {
    "slideshow": {
     "slide_type": "subslide"
    }
   },
   "source": [
    "### Setting python3 environment\n",
    "The Anaconda 3 and python 3 versions of the Python_tools for the processing and visualization have been tested and used for the processing of all the observations. This version would be the reference version for the processing from now on. \n",
    "In order to set the DRS_Gravity3 environment is needed to launch the following alias:\n",
    "\n",
    "```console\n",
    "use-DRS_gravity_python3\n",
    "```\n",
    "This alias launches the script *.use-anaconda3* that sets python 3 and DRS_gravity3 environments in anaconda3.\n",
    "\n"
   ]
  },
  {
   "cell_type": "markdown",
   "metadata": {
    "slideshow": {
     "slide_type": "subslide"
    }
   },
   "source": [
    "## Run gravity reduction recipe \n",
    "In this section described how to launch the python script (*run_gravi_reduce.py*) that performs the main part of the Gravity reduction process, including the following steps:\n",
    "\n",
    "1. Trigger the recipe gravity_dark on all standalone DARK.\n",
    "2. Trigger the recipe gravity_p2vm on all sequences of 1 x DARK, 4 x FLAT, 6 x P2VM, 1 x WAVE, 1 x\n",
    "WAVESC.\n",
    "3. Trigger the recipe gravity_vis on all OBJECT,* files.\n",
    "\n",
    "The script will search for (static) calibrations in the current directory if any. It will also search in the upper\n",
    "directory ../common_calibration/. The products are created in the reduced/ subdirectory.\n",
    "Before triggering a recipe, the script writes the corresponding SOF and the esorex command in the reduced/\n",
    "subdirectory.\n",
    "\n",
    "\n",
    "\n",
    "The input data directory must be set in '--reduced-dir' unless it's the current working directory  "
   ]
  },
  {
   "cell_type": "markdown",
   "metadata": {
    "slideshow": {
     "slide_type": "subslide"
    }
   },
   "source": [
    "## Transfer Function calibration\n",
    "\n",
    "Transfer function and trending can be then triggered with the *run_gravi_trend.py* script in the *reduced* directory.\n",
    "\n",
    "NOTE: This script requires *use-DRS_gravity_python2* (and not use-DRS_gravity_python3) to run withour errors.\n",
    "\n",
    "The script performs the following steps:\n",
    "1. Trigger the recipe gravity_viscal on all *CAL_VIS.\n",
    "2. Trigger the recipe gravity_viscal on all *SCI_VIS.\n",
    "3. Produce trending plots to check the transfer function.\n",
    "The products are created in the calibrated/ and trend/ subdirectories."
   ]
  },
  {
   "cell_type": "code",
   "execution_count": 37,
   "metadata": {
    "slideshow": {
     "slide_type": "subslide"
    }
   },
   "outputs": [
    {
     "output_type": "error",
     "ename": "NameError",
     "evalue": "name 'subprocess' is not defined",
     "traceback": [
      "\u001b[0;31m---------------------------------------------------------------------------\u001b[0m",
      "\u001b[0;31mNameError\u001b[0m                                 Traceback (most recent call last)",
      "\u001b[0;32m<ipython-input-37-04f56689285d>\u001b[0m in \u001b[0;36m<module>\u001b[0;34m\u001b[0m\n\u001b[1;32m      3\u001b[0m \u001b[0;34m\u001b[0m\u001b[0m\n\u001b[1;32m      4\u001b[0m \u001b[0mcmd_useDRS_gravity_python2\u001b[0m \u001b[0;34m=\u001b[0m \u001b[0;34m\". ~/.use-DRS_gravity_python2\"\u001b[0m\u001b[0;34m\u001b[0m\u001b[0;34m\u001b[0m\u001b[0m\n\u001b[0;32m----> 5\u001b[0;31m \u001b[0mreturned_value\u001b[0m \u001b[0;34m=\u001b[0m \u001b[0msubprocess\u001b[0m\u001b[0;34m.\u001b[0m\u001b[0mcall\u001b[0m\u001b[0;34m(\u001b[0m\u001b[0mcmd_useDRS_gravity_python2\u001b[0m\u001b[0;34m,\u001b[0m \u001b[0mshell\u001b[0m\u001b[0;34m=\u001b[0m\u001b[0;32mTrue\u001b[0m\u001b[0;34m)\u001b[0m  \u001b[0;31m# returns the exit code in unix\u001b[0m\u001b[0;34m\u001b[0m\u001b[0;34m\u001b[0m\u001b[0m\n\u001b[0m\u001b[1;32m      6\u001b[0m \u001b[0;32mif\u001b[0m \u001b[0mreturned_value\u001b[0m \u001b[0;34m!=\u001b[0m \u001b[0;36m0\u001b[0m\u001b[0;34m:\u001b[0m\u001b[0;34m\u001b[0m\u001b[0;34m\u001b[0m\u001b[0m\n\u001b[1;32m      7\u001b[0m     \u001b[0mprint\u001b[0m\u001b[0;34m(\u001b[0m\u001b[0;34m'An error occurred: '\u001b[0m\u001b[0;34m,\u001b[0m \u001b[0mreturned_value\u001b[0m\u001b[0;34m)\u001b[0m\u001b[0;34m\u001b[0m\u001b[0;34m\u001b[0m\u001b[0m\n",
      "\u001b[0;31mNameError\u001b[0m: name 'subprocess' is not defined"
     ]
    }
   ],
   "source": [
    "#%cd /pcdisk/stark/pmarcos/Data/run_0102.C-0576_C/pytest/reduced8/reduced\n",
    "#%cd /pcdisk/stark/pmarcos/Data/run_0102.C-0576_E/pytest3/data_with_raw_calibs/\n",
    "\n",
    "cmd_useDRS_gravity_python2 = \". ~/.use-DRS_gravity_python2\"\n",
    "returned_value = subprocess.call(cmd_useDRS_gravity_python2, shell=True)  # returns the exit code in unix\n",
    "if returned_value != 0:\n",
    "    print('An error occurred: ', returned_value)\n",
    "\n",
    "\n",
    "%cd $calibrated_dir\n",
    "!python /pcdisk/stark/pmarcos/CAB/Development/python_tools/run_gravi_trend.py --gravity_viscal.force-calib=TRUE --reduced-dir=/pcdisk/stark/pmarcos/Data/run_0102.C-0576_E/pytest3/data_with_raw_calibs/reduced\n",
    "#!python /pcdisk/stark/pmarcos/CAB/Development/python_tools/run_gravi_trend.py --gravity_viscal.force-calib=TRUE "
   ]
  },
  {
   "cell_type": "markdown",
   "metadata": {
    "slideshow": {
     "slide_type": "slide"
    }
   },
   "source": [
    "# Post-processing\n",
    "The previously processed observation still need to get a post-processing calibration in order to retrieve some Bad-pixels effect and telluric lines. It will also be continuum-corrected afterwards.\n",
    "\n",
    "First, the Flux and visibilities for each telescope unit is represented as a function of wavelength.\n",
    "\n",
    "The calibration images do also need to get Bad-pixels correction.\n",
    "\n",
    "### Flux\n",
    "Plot of the flux for each of the units [U1,U2,U3,U4] and its averaged value. \n",
    "This plot outlines spurious lines that needs to be removed. "
   ]
  },
  {
   "cell_type": "code",
   "execution_count": 38,
   "metadata": {
    "scrolled": true,
    "slideshow": {
     "slide_type": "subslide"
    }
   },
   "outputs": [
    {
     "output_type": "error",
     "ename": "NameError",
     "evalue": "name 'miV590Mon' is not defined",
     "traceback": [
      "\u001b[0;31m---------------------------------------------------------------------------\u001b[0m",
      "\u001b[0;31mNameError\u001b[0m                                 Traceback (most recent call last)",
      "\u001b[0;32m<ipython-input-38-e57103a5e955>\u001b[0m in \u001b[0;36m<module>\u001b[0;34m\u001b[0m\n\u001b[0;32m----> 1\u001b[0;31m \u001b[0mmiV590Mon\u001b[0m\u001b[0;34m.\u001b[0m\u001b[0mfigure_flux_preprocessing\u001b[0m\u001b[0;34m(\u001b[0m\u001b[0mplot_figure\u001b[0m\u001b[0;34m,\u001b[0m \u001b[0msave_figure\u001b[0m\u001b[0;34m)\u001b[0m\u001b[0;34m\u001b[0m\u001b[0;34m\u001b[0m\u001b[0m\n\u001b[0m\u001b[1;32m      2\u001b[0m \u001b[0mmiPDS281\u001b[0m\u001b[0;34m.\u001b[0m\u001b[0mfigure_flux_preprocessing\u001b[0m\u001b[0;34m(\u001b[0m\u001b[0mplot_figure\u001b[0m\u001b[0;34m,\u001b[0m \u001b[0msave_figure\u001b[0m\u001b[0;34m)\u001b[0m\u001b[0;34m\u001b[0m\u001b[0;34m\u001b[0m\u001b[0m\n\u001b[1;32m      3\u001b[0m \u001b[0mmiDGCir\u001b[0m\u001b[0;34m.\u001b[0m\u001b[0mfigure_flux_preprocessing\u001b[0m\u001b[0;34m(\u001b[0m\u001b[0mplot_figure\u001b[0m\u001b[0;34m,\u001b[0m \u001b[0msave_figure\u001b[0m\u001b[0;34m)\u001b[0m\u001b[0;34m\u001b[0m\u001b[0;34m\u001b[0m\u001b[0m\n\u001b[1;32m      4\u001b[0m \u001b[0mmiHD94509\u001b[0m\u001b[0;34m.\u001b[0m\u001b[0mfigure_flux_preprocessing\u001b[0m\u001b[0;34m(\u001b[0m\u001b[0mplot_figure\u001b[0m\u001b[0;34m,\u001b[0m \u001b[0msave_figure\u001b[0m\u001b[0;34m)\u001b[0m\u001b[0;34m\u001b[0m\u001b[0;34m\u001b[0m\u001b[0m\n\u001b[1;32m      5\u001b[0m \u001b[0mmiHD141926\u001b[0m\u001b[0;34m.\u001b[0m\u001b[0mfigure_flux_preprocessing\u001b[0m\u001b[0;34m(\u001b[0m\u001b[0mplot_figure\u001b[0m\u001b[0;34m,\u001b[0m \u001b[0msave_figure\u001b[0m\u001b[0;34m)\u001b[0m\u001b[0;34m\u001b[0m\u001b[0;34m\u001b[0m\u001b[0m\n",
      "\u001b[0;31mNameError\u001b[0m: name 'miV590Mon' is not defined"
     ]
    }
   ],
   "source": [
    "miV590Mon.figure_flux_preprocessing(plot_figure, save_figure)\n",
    "miPDS281.figure_flux_preprocessing(plot_figure, save_figure)\n",
    "miDGCir.figure_flux_preprocessing(plot_figure, save_figure)\n",
    "miHD94509.figure_flux_preprocessing(plot_figure, save_figure)\n",
    "miHD141926.figure_flux_preprocessing(plot_figure, save_figure)"
   ]
  },
  {
   "cell_type": "markdown",
   "metadata": {
    "slideshow": {
     "slide_type": "slide"
    }
   },
   "source": [
    "## Visibility full range"
   ]
  },
  {
   "cell_type": "code",
   "execution_count": 39,
   "metadata": {
    "scrolled": true,
    "slideshow": {
     "slide_type": "subslide"
    }
   },
   "outputs": [
    {
     "output_type": "error",
     "ename": "NameError",
     "evalue": "name 'miV590Mon' is not defined",
     "traceback": [
      "\u001b[0;31m---------------------------------------------------------------------------\u001b[0m",
      "\u001b[0;31mNameError\u001b[0m                                 Traceback (most recent call last)",
      "\u001b[0;32m<ipython-input-39-d50cd24fcc7c>\u001b[0m in \u001b[0;36m<module>\u001b[0;34m\u001b[0m\n\u001b[0;32m----> 1\u001b[0;31m \u001b[0mmiV590Mon\u001b[0m\u001b[0;34m.\u001b[0m\u001b[0mfigure_full_range_visibility_preprocessing\u001b[0m\u001b[0;34m(\u001b[0m\u001b[0mplot_figure\u001b[0m\u001b[0;34m,\u001b[0m \u001b[0msave_figure\u001b[0m\u001b[0;34m)\u001b[0m\u001b[0;34m\u001b[0m\u001b[0;34m\u001b[0m\u001b[0m\n\u001b[0m\u001b[1;32m      2\u001b[0m \u001b[0mmiPDS281\u001b[0m\u001b[0;34m.\u001b[0m\u001b[0mfigure_full_range_visibility_preprocessing\u001b[0m\u001b[0;34m(\u001b[0m\u001b[0mplot_figure\u001b[0m\u001b[0;34m,\u001b[0m \u001b[0msave_figure\u001b[0m\u001b[0;34m)\u001b[0m\u001b[0;34m\u001b[0m\u001b[0;34m\u001b[0m\u001b[0m\n\u001b[1;32m      3\u001b[0m \u001b[0mmiDGCir\u001b[0m\u001b[0;34m.\u001b[0m\u001b[0mfigure_full_range_visibility_preprocessing\u001b[0m\u001b[0;34m(\u001b[0m\u001b[0mplot_figure\u001b[0m\u001b[0;34m,\u001b[0m \u001b[0msave_figure\u001b[0m\u001b[0;34m)\u001b[0m\u001b[0;34m\u001b[0m\u001b[0;34m\u001b[0m\u001b[0m\n\u001b[1;32m      4\u001b[0m \u001b[0mmiHD94509\u001b[0m\u001b[0;34m.\u001b[0m\u001b[0mfigure_full_range_visibility_preprocessing\u001b[0m\u001b[0;34m(\u001b[0m\u001b[0mplot_figure\u001b[0m\u001b[0;34m,\u001b[0m \u001b[0msave_figure\u001b[0m\u001b[0;34m)\u001b[0m\u001b[0;34m\u001b[0m\u001b[0;34m\u001b[0m\u001b[0m\n\u001b[1;32m      5\u001b[0m \u001b[0mmiHD141926\u001b[0m\u001b[0;34m.\u001b[0m\u001b[0mfigure_full_range_visibility_preprocessing\u001b[0m\u001b[0;34m(\u001b[0m\u001b[0mplot_figure\u001b[0m\u001b[0;34m,\u001b[0m \u001b[0msave_figure\u001b[0m\u001b[0;34m)\u001b[0m\u001b[0;34m\u001b[0m\u001b[0;34m\u001b[0m\u001b[0m\n",
      "\u001b[0;31mNameError\u001b[0m: name 'miV590Mon' is not defined"
     ]
    }
   ],
   "source": [
    "miV590Mon.figure_full_range_visibility_preprocessing(plot_figure, save_figure)\n",
    "miPDS281.figure_full_range_visibility_preprocessing(plot_figure, save_figure)\n",
    "miDGCir.figure_full_range_visibility_preprocessing(plot_figure, save_figure)\n",
    "miHD94509.figure_full_range_visibility_preprocessing(plot_figure, save_figure)\n",
    "miHD141926.figure_full_range_visibility_preprocessing(plot_figure, save_figure)"
   ]
  },
  {
   "cell_type": "markdown",
   "metadata": {
    "slideshow": {
     "slide_type": "slide"
    }
   },
   "source": [
    "### Bad pixels removal\n",
    "Using the previous figures as a reference, we will remove these sporeus lines coming from bad pixels adding signal to the spectrum and not coming from the observed source.\n",
    "\n",
    "It is created a *bad pixel map* where every wavelength channel has a value of 1 if it is correct and 0 if it is associated to a bad pixel. \n",
    "\n",
    "It is applied *rejection\\_criterium\\_flux* to establish whether a difference between to datasets can be considered a bad pixel or not. \n",
    "We apply this criterium to fluxes and visibilities to cross-calibrate the rejection criterium. \n",
    "\n",
    "The *general\\_rejection\\_criterium* is applied to the final *bad\\_pixel\\_mask* to take in account both fluxes and visibilities rejection criteria as a whole.\n",
    "\n",
    "These results are plotted in pixel maps where pixels associated to wavelength channels are distributed left to right and top to bottom to cover a rectangular map. \n",
    "\n",
    "\n"
   ]
  },
  {
   "cell_type": "code",
   "execution_count": 40,
   "metadata": {
    "scrolled": true,
    "slideshow": {
     "slide_type": "subslide"
    }
   },
   "outputs": [
    {
     "output_type": "error",
     "ename": "NameError",
     "evalue": "name 'miV590Mon' is not defined",
     "traceback": [
      "\u001b[0;31m---------------------------------------------------------------------------\u001b[0m",
      "\u001b[0;31mNameError\u001b[0m                                 Traceback (most recent call last)",
      "\u001b[0;32m<ipython-input-40-54e5c3d58776>\u001b[0m in \u001b[0;36m<module>\u001b[0;34m\u001b[0m\n\u001b[0;32m----> 1\u001b[0;31m \u001b[0mmiV590Mon\u001b[0m\u001b[0;34m.\u001b[0m\u001b[0mfigure_badpixel_flux_preprocessing\u001b[0m\u001b[0;34m(\u001b[0m\u001b[0mplot_figure\u001b[0m\u001b[0;34m,\u001b[0m \u001b[0msave_figure\u001b[0m\u001b[0;34m)\u001b[0m\u001b[0;34m\u001b[0m\u001b[0;34m\u001b[0m\u001b[0m\n\u001b[0m\u001b[1;32m      2\u001b[0m \u001b[0mmiPDS281\u001b[0m\u001b[0;34m.\u001b[0m\u001b[0mfigure_badpixel_flux_preprocessing\u001b[0m\u001b[0;34m(\u001b[0m\u001b[0mplot_figure\u001b[0m\u001b[0;34m,\u001b[0m \u001b[0msave_figure\u001b[0m\u001b[0;34m)\u001b[0m\u001b[0;34m\u001b[0m\u001b[0;34m\u001b[0m\u001b[0m\n\u001b[1;32m      3\u001b[0m \u001b[0mmiHD94509\u001b[0m\u001b[0;34m.\u001b[0m\u001b[0mfigure_badpixel_flux_preprocessing\u001b[0m\u001b[0;34m(\u001b[0m\u001b[0mplot_figure\u001b[0m\u001b[0;34m,\u001b[0m \u001b[0msave_figure\u001b[0m\u001b[0;34m)\u001b[0m\u001b[0;34m\u001b[0m\u001b[0;34m\u001b[0m\u001b[0m\n\u001b[1;32m      4\u001b[0m \u001b[0mmiDGCir\u001b[0m\u001b[0;34m.\u001b[0m\u001b[0mfigure_badpixel_flux_preprocessing\u001b[0m\u001b[0;34m(\u001b[0m\u001b[0mplot_figure\u001b[0m\u001b[0;34m,\u001b[0m \u001b[0msave_figure\u001b[0m\u001b[0;34m)\u001b[0m\u001b[0;34m\u001b[0m\u001b[0;34m\u001b[0m\u001b[0m\n\u001b[1;32m      5\u001b[0m \u001b[0mmiHD141926\u001b[0m\u001b[0;34m.\u001b[0m\u001b[0mfigure_badpixel_flux_preprocessing\u001b[0m\u001b[0;34m(\u001b[0m\u001b[0mplot_figure\u001b[0m\u001b[0;34m,\u001b[0m \u001b[0msave_figure\u001b[0m\u001b[0;34m)\u001b[0m\u001b[0;34m\u001b[0m\u001b[0;34m\u001b[0m\u001b[0m\n",
      "\u001b[0;31mNameError\u001b[0m: name 'miV590Mon' is not defined"
     ]
    }
   ],
   "source": [
    "miV590Mon.figure_badpixel_flux_preprocessing(plot_figure, save_figure)\n",
    "miPDS281.figure_badpixel_flux_preprocessing(plot_figure, save_figure)\n",
    "miHD94509.figure_badpixel_flux_preprocessing(plot_figure, save_figure)\n",
    "miDGCir.figure_badpixel_flux_preprocessing(plot_figure, save_figure)\n",
    "miHD141926.figure_badpixel_flux_preprocessing(plot_figure, save_figure)"
   ]
  },
  {
   "cell_type": "markdown",
   "metadata": {
    "slideshow": {
     "slide_type": "subslide"
    }
   },
   "source": [
    "### Bad Pixel removal from calibration spectra\n",
    "In this case, there is also a replacement of Bad Pixels by NaN data, but those holes are now replaced by an interpolated value through convolution.\n",
    "This cannot be the case in science image because we will be replacing observational data (which might be incorrect) by interpolated data. \n",
    "What we do is using NaN to make sure that we do not compute Bad Data in our wavelengths channels of interest.\n",
    "For calibration data we do can replace bad data with interpolated data, specially in that wavelengths ranges where we are interested in but the calibrator matches with Bad pixels.\n",
    "\n",
    "We use the averaged the flux of both observations in all telescope units to get the convolved flux. \n",
    "All fluxes (in both observations an all telescope units) are compared to this to remove bad pixels and substitute them by NaN. These are replaced afterwards by a new averaged flux (after bad pixels removal).  "
   ]
  },
  {
   "cell_type": "code",
   "execution_count": 41,
   "metadata": {
    "scrolled": true,
    "slideshow": {
     "slide_type": "subslide"
    }
   },
   "outputs": [
    {
     "output_type": "error",
     "ename": "NameError",
     "evalue": "name 'miV590Mon' is not defined",
     "traceback": [
      "\u001b[0;31m---------------------------------------------------------------------------\u001b[0m",
      "\u001b[0;31mNameError\u001b[0m                                 Traceback (most recent call last)",
      "\u001b[0;32m<ipython-input-41-20df6e859416>\u001b[0m in \u001b[0;36m<module>\u001b[0;34m\u001b[0m\n\u001b[0;32m----> 1\u001b[0;31m \u001b[0mmiV590Mon\u001b[0m\u001b[0;34m.\u001b[0m\u001b[0mfigure_badpixel_calibration_preprocessing\u001b[0m\u001b[0;34m(\u001b[0m\u001b[0mplot_figure\u001b[0m\u001b[0;34m,\u001b[0m \u001b[0msave_figure\u001b[0m\u001b[0;34m)\u001b[0m\u001b[0;34m\u001b[0m\u001b[0;34m\u001b[0m\u001b[0m\n\u001b[0m\u001b[1;32m      2\u001b[0m \u001b[0mmiPDS281\u001b[0m\u001b[0;34m.\u001b[0m\u001b[0mfigure_badpixel_calibration_preprocessing\u001b[0m\u001b[0;34m(\u001b[0m\u001b[0mplot_figure\u001b[0m\u001b[0;34m,\u001b[0m \u001b[0msave_figure\u001b[0m\u001b[0;34m)\u001b[0m\u001b[0;34m\u001b[0m\u001b[0;34m\u001b[0m\u001b[0m\n\u001b[1;32m      3\u001b[0m \u001b[0mmiHD94509\u001b[0m\u001b[0;34m.\u001b[0m\u001b[0mfigure_badpixel_calibration_preprocessing\u001b[0m\u001b[0;34m(\u001b[0m\u001b[0;36m0.5\u001b[0m\u001b[0;34m,\u001b[0m \u001b[0mplot_figure\u001b[0m\u001b[0;34m,\u001b[0m \u001b[0msave_figure\u001b[0m\u001b[0;34m)\u001b[0m\u001b[0;34m\u001b[0m\u001b[0;34m\u001b[0m\u001b[0m\n\u001b[1;32m      4\u001b[0m \u001b[0mmiDGCir\u001b[0m\u001b[0;34m.\u001b[0m\u001b[0mfigure_badpixel_calibration_preprocessing\u001b[0m\u001b[0;34m(\u001b[0m\u001b[0;36m0.5\u001b[0m\u001b[0;34m,\u001b[0m \u001b[0mplot_figure\u001b[0m\u001b[0;34m,\u001b[0m \u001b[0msave_figure\u001b[0m\u001b[0;34m)\u001b[0m\u001b[0;34m\u001b[0m\u001b[0;34m\u001b[0m\u001b[0m\n\u001b[1;32m      5\u001b[0m \u001b[0mmiHD141926\u001b[0m\u001b[0;34m.\u001b[0m\u001b[0mfigure_badpixel_calibration_preprocessing\u001b[0m\u001b[0;34m(\u001b[0m\u001b[0;36m0.5\u001b[0m\u001b[0;34m,\u001b[0m \u001b[0mplot_figure\u001b[0m\u001b[0;34m,\u001b[0m \u001b[0msave_figure\u001b[0m\u001b[0;34m)\u001b[0m\u001b[0;34m\u001b[0m\u001b[0;34m\u001b[0m\u001b[0m\n",
      "\u001b[0;31mNameError\u001b[0m: name 'miV590Mon' is not defined"
     ]
    }
   ],
   "source": [
    "miV590Mon.figure_badpixel_calibration_preprocessing(plot_figure, save_figure)\n",
    "miPDS281.figure_badpixel_calibration_preprocessing(plot_figure, save_figure)\n",
    "miHD94509.figure_badpixel_calibration_preprocessing(0.5, plot_figure, save_figure)\n",
    "miDGCir.figure_badpixel_calibration_preprocessing(0.5, plot_figure, save_figure)\n",
    "miHD141926.figure_badpixel_calibration_preprocessing(0.5, plot_figure, save_figure)"
   ]
  },
  {
   "cell_type": "markdown",
   "metadata": {},
   "source": [
    "### Bad Pixel removal from visibilities \n",
    "Outliers in visibilities are not necesarily removed in the previous bad pixel in flux\n",
    "since outliers in different baselines seem not to be related to a common pixel map. \n",
    "Therefore all outliers are rejected based on a different criterium. \n",
    "Since there are no shifts in visibilities for any of our sources (see figures generated at figure_full_range_visibility_preprocessing() function), we can simply reject outliers > sigma_coefficient * standard deviation. \n",
    "\n",
    "This is similar to use a different bad pixel mask for each baseline\n"
   ]
  },
  {
   "cell_type": "code",
   "execution_count": 42,
   "metadata": {
    "scrolled": true,
    "slideshow": {
     "slide_type": "subslide"
    }
   },
   "outputs": [
    {
     "output_type": "error",
     "ename": "NameError",
     "evalue": "name 'miV590Mon' is not defined",
     "traceback": [
      "\u001b[0;31m---------------------------------------------------------------------------\u001b[0m",
      "\u001b[0;31mNameError\u001b[0m                                 Traceback (most recent call last)",
      "\u001b[0;32m<ipython-input-42-1de8637d5322>\u001b[0m in \u001b[0;36m<module>\u001b[0;34m\u001b[0m\n\u001b[1;32m      4\u001b[0m \u001b[0my_axis_lim\u001b[0m \u001b[0;34m=\u001b[0m \u001b[0;34m[\u001b[0m\u001b[0;36m0\u001b[0m\u001b[0;34m,\u001b[0m\u001b[0;36m0.5\u001b[0m\u001b[0;34m]\u001b[0m\u001b[0;34m\u001b[0m\u001b[0;34m\u001b[0m\u001b[0m\n\u001b[1;32m      5\u001b[0m \u001b[0my_axis_lim\u001b[0m \u001b[0;34m=\u001b[0m \u001b[0;34m[\u001b[0m\u001b[0;34m-\u001b[0m\u001b[0;36m1\u001b[0m\u001b[0;34m,\u001b[0m\u001b[0;36m2\u001b[0m\u001b[0;34m]\u001b[0m\u001b[0;34m\u001b[0m\u001b[0;34m\u001b[0m\u001b[0m\n\u001b[0;32m----> 6\u001b[0;31m \u001b[0mmiV590Mon\u001b[0m\u001b[0;34m.\u001b[0m\u001b[0mfigure_badpixel_V2_preprocessing\u001b[0m\u001b[0;34m(\u001b[0m\u001b[0mx_axis_lim\u001b[0m\u001b[0;34m,\u001b[0m\u001b[0my_axis_lim\u001b[0m\u001b[0;34m,\u001b[0m \u001b[0msigma_coefficient\u001b[0m\u001b[0;34m,\u001b[0m \u001b[0mplot_figure\u001b[0m\u001b[0;34m,\u001b[0m \u001b[0msave_figure\u001b[0m\u001b[0;34m)\u001b[0m\u001b[0;34m\u001b[0m\u001b[0;34m\u001b[0m\u001b[0m\n\u001b[0m\u001b[1;32m      7\u001b[0m \u001b[0;34m\u001b[0m\u001b[0m\n\u001b[1;32m      8\u001b[0m \u001b[0my_axis_lim\u001b[0m \u001b[0;34m=\u001b[0m \u001b[0;34m[\u001b[0m\u001b[0;36m0.9\u001b[0m\u001b[0;34m,\u001b[0m\u001b[0;36m1.1\u001b[0m\u001b[0;34m]\u001b[0m\u001b[0;34m\u001b[0m\u001b[0;34m\u001b[0m\u001b[0m\n",
      "\u001b[0;31mNameError\u001b[0m: name 'miV590Mon' is not defined"
     ]
    }
   ],
   "source": [
    "sigma_coefficient = 4\n",
    "\n",
    "x_axis_lim = [1.98,2.45]\n",
    "y_axis_lim = [0,0.5]\n",
    "y_axis_lim = [-1,2]\n",
    "miV590Mon.figure_badpixel_V2_preprocessing(x_axis_lim,y_axis_lim, sigma_coefficient, plot_figure, save_figure)\n",
    "\n",
    "y_axis_lim = [0.9,1.1]\n",
    "y_axis_lim = [-1,2]\n",
    "miPDS281.figure_badpixel_V2_preprocessing(x_axis_lim,y_axis_lim, sigma_coefficient, plot_figure, save_figure)\n",
    "\n",
    "y_axis_lim = [0.0,1.25]\n",
    "y_axis_lim = [-1,2]\n",
    "miHD94509.figure_badpixel_V2_preprocessing(x_axis_lim,y_axis_lim, sigma_coefficient, plot_figure, save_figure)\n",
    "\n",
    "y_axis_lim = [0.0,1]\n",
    "y_axis_lim = [-1,2]\n",
    "miDGCir.figure_badpixel_V2_preprocessing(x_axis_lim,y_axis_lim, sigma_coefficient, plot_figure, save_figure)\n",
    "\n",
    "y_axis_lim = [0.6,1.4]\n",
    "y_axis_lim = [-2,4]\n",
    "miHD141926.figure_badpixel_V2_preprocessing(x_axis_lim,y_axis_lim, sigma_coefficient, plot_figure, save_figure)\n",
    "\n"
   ]
  },
  {
   "cell_type": "markdown",
   "metadata": {
    "slideshow": {
     "slide_type": "subslide"
    }
   },
   "source": [
    "### Replace NaN values in flux, visibilities and phases\n",
    "Once the Bad Pixel removal is applied, NaN values sustitute these Bad Pixels positions. We verify that these NaN values doesn't correspond to spectral lines were science data is retrieved before replacing these NaN values by a convolved value around that position with the *replace_nans_by_interpolated_gaussian()* function in module *gravi_plot_functions*."
   ]
  },
  {
   "cell_type": "code",
   "execution_count": 43,
   "metadata": {},
   "outputs": [
    {
     "output_type": "error",
     "ename": "NameError",
     "evalue": "name 'miV590Mon' is not defined",
     "traceback": [
      "\u001b[0;31m---------------------------------------------------------------------------\u001b[0m",
      "\u001b[0;31mNameError\u001b[0m                                 Traceback (most recent call last)",
      "\u001b[0;32m<ipython-input-43-22e940ae4a02>\u001b[0m in \u001b[0;36m<module>\u001b[0;34m\u001b[0m\n\u001b[1;32m      1\u001b[0m \u001b[0;31m#Replace NaN in BPcorrected_flux\u001b[0m\u001b[0;34m\u001b[0m\u001b[0;34m\u001b[0m\u001b[0;34m\u001b[0m\u001b[0m\n\u001b[0;32m----> 2\u001b[0;31m \u001b[0mmiV590Mon\u001b[0m\u001b[0;34m.\u001b[0m\u001b[0mBPcorrected_flux\u001b[0m\u001b[0;34m=\u001b[0m\u001b[0mreplace_nans_by_interpolated_gaussian\u001b[0m\u001b[0;34m(\u001b[0m\u001b[0mmiV590Mon\u001b[0m\u001b[0;34m.\u001b[0m\u001b[0mBPcorrected_flux\u001b[0m\u001b[0;34m,\u001b[0m\u001b[0;36m10\u001b[0m\u001b[0;34m)\u001b[0m\u001b[0;34m\u001b[0m\u001b[0;34m\u001b[0m\u001b[0m\n\u001b[0m\u001b[1;32m      3\u001b[0m \u001b[0mmiPDS281\u001b[0m\u001b[0;34m.\u001b[0m\u001b[0mBPcorrected_flux\u001b[0m\u001b[0;34m=\u001b[0m\u001b[0mreplace_nans_by_interpolated_gaussian\u001b[0m\u001b[0;34m(\u001b[0m\u001b[0mmiPDS281\u001b[0m\u001b[0;34m.\u001b[0m\u001b[0mBPcorrected_flux\u001b[0m\u001b[0;34m,\u001b[0m\u001b[0;36m10\u001b[0m\u001b[0;34m)\u001b[0m\u001b[0;34m\u001b[0m\u001b[0;34m\u001b[0m\u001b[0m\n\u001b[1;32m      4\u001b[0m \u001b[0mmiHD94509\u001b[0m\u001b[0;34m.\u001b[0m\u001b[0mBPcorrected_flux\u001b[0m\u001b[0;34m=\u001b[0m\u001b[0mreplace_nans_by_interpolated_gaussian\u001b[0m\u001b[0;34m(\u001b[0m\u001b[0mmiHD94509\u001b[0m\u001b[0;34m.\u001b[0m\u001b[0mBPcorrected_flux\u001b[0m\u001b[0;34m,\u001b[0m\u001b[0;36m10\u001b[0m\u001b[0;34m)\u001b[0m\u001b[0;34m\u001b[0m\u001b[0;34m\u001b[0m\u001b[0m\n\u001b[1;32m      5\u001b[0m \u001b[0mmiDGCir\u001b[0m\u001b[0;34m.\u001b[0m\u001b[0mBPcorrected_flux\u001b[0m\u001b[0;34m=\u001b[0m\u001b[0mreplace_nans_by_interpolated_gaussian\u001b[0m\u001b[0;34m(\u001b[0m\u001b[0mmiDGCir\u001b[0m\u001b[0;34m.\u001b[0m\u001b[0mBPcorrected_flux\u001b[0m\u001b[0;34m,\u001b[0m\u001b[0;36m10\u001b[0m\u001b[0;34m)\u001b[0m\u001b[0;34m\u001b[0m\u001b[0;34m\u001b[0m\u001b[0m\n",
      "\u001b[0;31mNameError\u001b[0m: name 'miV590Mon' is not defined"
     ]
    }
   ],
   "source": [
    "\n",
    "#Replace NaN in BPcorrected_flux \n",
    "miV590Mon.BPcorrected_flux=replace_nans_by_interpolated_gaussian(miV590Mon.BPcorrected_flux,10)\n",
    "miPDS281.BPcorrected_flux=replace_nans_by_interpolated_gaussian(miPDS281.BPcorrected_flux,10)\n",
    "miHD94509.BPcorrected_flux=replace_nans_by_interpolated_gaussian(miHD94509.BPcorrected_flux,10)\n",
    "miDGCir.BPcorrected_flux=replace_nans_by_interpolated_gaussian(miDGCir.BPcorrected_flux,10)\n",
    "miHD141926.BPcorrected_flux=replace_nans_by_interpolated_gaussian(miHD141926.BPcorrected_flux,10)\n",
    "\n",
    "#Replace NaN in visibility2 \n",
    "for key,value in miV590Mon.visibility2.items():\n",
    "    miV590Mon.visibility2[key]=replace_nans_by_interpolated_gaussian(miV590Mon.visibility2[key],5)\n",
    "for key,value in miPDS281.visibility2.items():\n",
    "    miPDS281.visibility2[key]=replace_nans_by_interpolated_gaussian(miPDS281.visibility2[key],5)\n",
    "for key,value in miHD94509.visibility2.items():\n",
    "    miHD94509.visibility2[key]=replace_nans_by_interpolated_gaussian(miHD94509.visibility2[key],5)\n",
    "for key,value in miDGCir.visibility2.items():\n",
    "    miDGCir.visibility2[key]=replace_nans_by_interpolated_gaussian(miDGCir.visibility2[key],5)\n",
    "for key,value in miDGCir.visibility2.items():\n",
    "    miHD141926.visibility2[key]=replace_nans_by_interpolated_gaussian(miHD141926.visibility2[key],5)\n",
    "\n",
    "    \n",
    "#Replace NaN in diff_phase \n",
    "for key,value in miV590Mon.diff_phase.items():\n",
    "    miV590Mon.diff_phase[key]=replace_nans_by_interpolated_gaussian(miV590Mon.diff_phase[key],5)\n",
    "for key,value in miPDS281.diff_phase.items():\n",
    "    miPDS281.diff_phase[key]=replace_nans_by_interpolated_gaussian(miPDS281.diff_phase[key],5)\n",
    "for key,value in miHD94509.diff_phase.items():\n",
    "    miHD94509.diff_phase[key]=replace_nans_by_interpolated_gaussian(miHD94509.diff_phase[key],5)\n",
    "for key,value in miDGCir.diff_phase.items():\n",
    "    miDGCir.diff_phase[key]=replace_nans_by_interpolated_gaussian(miDGCir.diff_phase[key],5)\n",
    "for key,value in miDGCir.diff_phase.items():\n",
    "    miHD141926.diff_phase[key]=replace_nans_by_interpolated_gaussian(miHD141926.diff_phase[key],5)\n"
   ]
  },
  {
   "cell_type": "markdown",
   "metadata": {
    "slideshow": {
     "slide_type": "subslide"
    }
   },
   "source": [
    "### Telluric lines\n",
    "The calibration flux is normalized to be used in telluric lines removal. \n",
    "The Flux is divided by this normalized calibration flux in order to retrieve continuum flux values around our spectral line of interest. \n",
    "The values of the spectral lines ($Br\\gamma$ in our case) are not taken from the divided by normalized calibration flux since the calibration source also has its own emission line ($Br\\gamma$) that shouldn't affect our spectral line of interest.\n",
    "\n",
    "The corresponding plot is shown in the following section, together with the continuum measurement.\n"
   ]
  },
  {
   "cell_type": "markdown",
   "metadata": {
    "slideshow": {
     "slide_type": "subslide"
    }
   },
   "source": [
    "### Continuum Flux measurement\n",
    "The continuum around our line of interest ($Br\\gamma$) is measured in the flux data (after Bad-pixel removal) divided by the normalized calibration flux (Bad-pixel removed).\n",
    "The following figure shows the wavelength range where the continuum is measured.\n",
    "\n",
    "For the function *figure_flux_continuum_measurement()* is required to provide x_axis_lim, y_axis_lim.\n",
    "\n",
    "It is required to provide the array *continuum_range*, where the first two elements are initial and final wavelengths of the left continuum range, while the last two elements are the initial and final wavelengths of the rigth continuum range.\n",
    "\n",
    "It is also required to provide the *line_range* array with the initial and final wavelengths of the line to be writen to the final spectra.\n",
    "\n",
    "**NOTE:** Line is not divided by calibrator."
   ]
  },
  {
   "cell_type": "code",
   "execution_count": 44,
   "metadata": {
    "scrolled": true,
    "slideshow": {
     "slide_type": "subslide"
    }
   },
   "outputs": [
    {
     "output_type": "error",
     "ename": "NameError",
     "evalue": "name 'miV590Mon' is not defined",
     "traceback": [
      "\u001b[0;31m---------------------------------------------------------------------------\u001b[0m",
      "\u001b[0;31mNameError\u001b[0m                                 Traceback (most recent call last)",
      "\u001b[0;32m<ipython-input-44-ac82b820e4aa>\u001b[0m in \u001b[0;36m<module>\u001b[0;34m\u001b[0m\n\u001b[1;32m      5\u001b[0m \u001b[0mcontinuum_range\u001b[0m\u001b[0;34m=\u001b[0m\u001b[0;34m[\u001b[0m\u001b[0;36m2.15\u001b[0m\u001b[0;34m,\u001b[0m\u001b[0;36m2.16\u001b[0m\u001b[0;34m,\u001b[0m\u001b[0;36m2.17\u001b[0m\u001b[0;34m,\u001b[0m\u001b[0;36m2.18\u001b[0m\u001b[0;34m]\u001b[0m\u001b[0;34m\u001b[0m\u001b[0;34m\u001b[0m\u001b[0m\n\u001b[1;32m      6\u001b[0m \u001b[0mline_range\u001b[0m\u001b[0;34m=\u001b[0m\u001b[0;34m[\u001b[0m\u001b[0;36m2.1636\u001b[0m\u001b[0;34m,\u001b[0m\u001b[0;36m2.17\u001b[0m\u001b[0;34m]\u001b[0m\u001b[0;34m\u001b[0m\u001b[0;34m\u001b[0m\u001b[0m\n\u001b[0;32m----> 7\u001b[0;31m \u001b[0mmiV590Mon\u001b[0m\u001b[0;34m.\u001b[0m\u001b[0mfigure_flux_continuum_measurement\u001b[0m\u001b[0;34m(\u001b[0m\u001b[0mx_axis_lim\u001b[0m\u001b[0;34m,\u001b[0m\u001b[0my_axis_lim\u001b[0m\u001b[0;34m,\u001b[0m\u001b[0mcontinuum_range\u001b[0m\u001b[0;34m,\u001b[0m\u001b[0mline_range\u001b[0m\u001b[0;34m,\u001b[0m \u001b[0mplot_figure\u001b[0m\u001b[0;34m,\u001b[0m \u001b[0msave_figure\u001b[0m\u001b[0;34m)\u001b[0m\u001b[0;34m\u001b[0m\u001b[0;34m\u001b[0m\u001b[0m\n\u001b[0m\u001b[1;32m      8\u001b[0m \u001b[0;34m\u001b[0m\u001b[0m\n\u001b[1;32m      9\u001b[0m \u001b[0my_axis_lim\u001b[0m \u001b[0;34m=\u001b[0m \u001b[0;34m[\u001b[0m\u001b[0;36m0.75\u001b[0m\u001b[0;34m,\u001b[0m\u001b[0;36m1.75\u001b[0m\u001b[0;34m]\u001b[0m\u001b[0;34m\u001b[0m\u001b[0;34m\u001b[0m\u001b[0m\n",
      "\u001b[0;31mNameError\u001b[0m: name 'miV590Mon' is not defined"
     ]
    }
   ],
   "source": [
    "x_axis_lim = [2.135,2.195]\n",
    "line_range=[2.16,2.17]\n",
    "\n",
    "y_axis_lim =[0.75,1.75] \n",
    "continuum_range=[2.15,2.16,2.17,2.18]\n",
    "line_range=[2.1636,2.17]\n",
    "miV590Mon.figure_flux_continuum_measurement(x_axis_lim,y_axis_lim,continuum_range,line_range, plot_figure, save_figure)\n",
    "\n",
    "y_axis_lim = [0.75,1.75]\n",
    "continuum_range=[2.14,2.16,2.17,2.19]\n",
    "line_range=[2.1615,2.17]\n",
    "miPDS281.figure_flux_continuum_measurement(x_axis_lim,y_axis_lim,continuum_range,line_range, plot_figure, save_figure)\n",
    "\n",
    "y_axis_lim = [0.75,1.75]\n",
    "continuum_range=[2.15,2.163,2.17,2.183]\n",
    "line_range=[2.1647,2.1684]\n",
    "miHD94509.figure_flux_continuum_measurement(x_axis_lim,y_axis_lim,continuum_range,line_range, plot_figure, save_figure)\n",
    "\n",
    "y_axis_lim = [0.75,1.75]\n",
    "continuum_range=[2.153,2.163,2.17,2.18]\n",
    "line_range=[2.1644,2.1684]\n",
    "miDGCir.figure_flux_continuum_measurement(x_axis_lim,y_axis_lim,continuum_range,line_range, plot_figure, save_figure)\n",
    "\n",
    "y_axis_lim = [0.75,2.1]\n",
    "continuum_range=[2.14,2.16,2.17,2.19]\n",
    "line_range=[2.1638,2.168]\n",
    "miHD141926.figure_flux_continuum_measurement(x_axis_lim,y_axis_lim,continuum_range,line_range, plot_figure, save_figure)\n"
   ]
  },
  {
   "cell_type": "markdown",
   "metadata": {},
   "source": [
    "### Continuum Visibility measurement\n"
   ]
  },
  {
   "cell_type": "code",
   "execution_count": 45,
   "metadata": {
    "scrolled": true
   },
   "outputs": [
    {
     "output_type": "error",
     "ename": "NameError",
     "evalue": "name 'miV590Mon' is not defined",
     "traceback": [
      "\u001b[0;31m---------------------------------------------------------------------------\u001b[0m",
      "\u001b[0;31mNameError\u001b[0m                                 Traceback (most recent call last)",
      "\u001b[0;32m<ipython-input-45-c48eb9f2b3b8>\u001b[0m in \u001b[0;36m<module>\u001b[0;34m\u001b[0m\n\u001b[1;32m      4\u001b[0m \u001b[0my_axis_lim\u001b[0m \u001b[0;34m=\u001b[0m \u001b[0;34m[\u001b[0m\u001b[0;36m0\u001b[0m\u001b[0;34m,\u001b[0m\u001b[0;36m0.5\u001b[0m\u001b[0;34m]\u001b[0m\u001b[0;34m\u001b[0m\u001b[0;34m\u001b[0m\u001b[0m\n\u001b[1;32m      5\u001b[0m \u001b[0mcontinuum_range\u001b[0m\u001b[0;34m=\u001b[0m\u001b[0;34m[\u001b[0m\u001b[0;36m2.141\u001b[0m\u001b[0;34m,\u001b[0m\u001b[0;36m2.1604\u001b[0m\u001b[0;34m]\u001b[0m\u001b[0;34m\u001b[0m\u001b[0;34m\u001b[0m\u001b[0m\n\u001b[0;32m----> 6\u001b[0;31m \u001b[0mmiV590Mon\u001b[0m\u001b[0;34m.\u001b[0m\u001b[0mfigure_visibility_continuum_measurement\u001b[0m\u001b[0;34m(\u001b[0m\u001b[0mx_axis_lim\u001b[0m\u001b[0;34m,\u001b[0m\u001b[0my_axis_lim\u001b[0m\u001b[0;34m,\u001b[0m\u001b[0mcontinuum_range\u001b[0m\u001b[0;34m,\u001b[0m\u001b[0mplot_figure\u001b[0m\u001b[0;34m,\u001b[0m \u001b[0msave_figure\u001b[0m\u001b[0;34m)\u001b[0m\u001b[0;34m\u001b[0m\u001b[0;34m\u001b[0m\u001b[0m\n\u001b[0m\u001b[1;32m      7\u001b[0m \u001b[0;34m\u001b[0m\u001b[0m\n\u001b[1;32m      8\u001b[0m \u001b[0my_axis_lim\u001b[0m \u001b[0;34m=\u001b[0m \u001b[0;34m[\u001b[0m\u001b[0;36m0.9\u001b[0m\u001b[0;34m,\u001b[0m\u001b[0;36m1.1\u001b[0m\u001b[0;34m]\u001b[0m\u001b[0;34m\u001b[0m\u001b[0;34m\u001b[0m\u001b[0m\n",
      "\u001b[0;31mNameError\u001b[0m: name 'miV590Mon' is not defined"
     ]
    }
   ],
   "source": [
    "x_axis_lim = [2.14,2.17]\n",
    "\n",
    "#x_axis_lim = Brg\n",
    "y_axis_lim = [0,0.5]\n",
    "continuum_range=[2.141,2.1604]\n",
    "miV590Mon.figure_visibility_continuum_measurement(x_axis_lim,y_axis_lim,continuum_range,plot_figure, save_figure)\n",
    "\n",
    "y_axis_lim = [0.9,1.1]\n",
    "continuum_range=[2.1552,2.1615]\n",
    "miPDS281.figure_visibility_continuum_measurement(x_axis_lim,y_axis_lim,continuum_range,plot_figure, save_figure)\n",
    "\n",
    "y_axis_lim = [0.75,1.25]\n",
    "continuum_range=[2.1546,2.1635]\n",
    "miHD94509.figure_visibility_continuum_measurement(x_axis_lim,y_axis_lim,continuum_range,plot_figure, save_figure)\n",
    "\n",
    "y_axis_lim = [0.4,1]\n",
    "continuum_range=[2.153,2.163]\n",
    "miDGCir.figure_visibility_continuum_measurement(x_axis_lim,y_axis_lim,continuum_range,plot_figure, save_figure)\n",
    "\n",
    "y_axis_lim = [0.0,1.5]\n",
    "continuum_range=[2.153,2.163]\n",
    "miHD141926.figure_visibility_continuum_measurement(x_axis_lim,y_axis_lim,continuum_range,plot_figure, save_figure)\n",
    "\n"
   ]
  },
  {
   "cell_type": "markdown",
   "metadata": {},
   "source": [
    "### Continuum Differential Phase measurement\n"
   ]
  },
  {
   "cell_type": "code",
   "execution_count": 46,
   "metadata": {
    "scrolled": true
   },
   "outputs": [
    {
     "output_type": "error",
     "ename": "NameError",
     "evalue": "name 'miV590Mon' is not defined",
     "traceback": [
      "\u001b[0;31m---------------------------------------------------------------------------\u001b[0m",
      "\u001b[0;31mNameError\u001b[0m                                 Traceback (most recent call last)",
      "\u001b[0;32m<ipython-input-46-40946bc82c2a>\u001b[0m in \u001b[0;36m<module>\u001b[0;34m\u001b[0m\n\u001b[1;32m      2\u001b[0m \u001b[0my_axis_lim\u001b[0m \u001b[0;34m=\u001b[0m \u001b[0;34m[\u001b[0m\u001b[0;34m-\u001b[0m\u001b[0;36m90\u001b[0m\u001b[0;34m,\u001b[0m\u001b[0;36m90.5\u001b[0m\u001b[0;34m]\u001b[0m\u001b[0;34m\u001b[0m\u001b[0;34m\u001b[0m\u001b[0m\n\u001b[1;32m      3\u001b[0m \u001b[0mcontinuum_range\u001b[0m\u001b[0;34m=\u001b[0m\u001b[0;34m[\u001b[0m\u001b[0;36m2.141\u001b[0m\u001b[0;34m,\u001b[0m\u001b[0;36m2.1604\u001b[0m\u001b[0;34m]\u001b[0m\u001b[0;34m\u001b[0m\u001b[0;34m\u001b[0m\u001b[0m\n\u001b[0;32m----> 4\u001b[0;31m \u001b[0mmiV590Mon\u001b[0m\u001b[0;34m.\u001b[0m\u001b[0mfigure_diff_phase_continuum_measurement\u001b[0m\u001b[0;34m(\u001b[0m\u001b[0mx_axis_lim\u001b[0m\u001b[0;34m,\u001b[0m\u001b[0my_axis_lim\u001b[0m\u001b[0;34m,\u001b[0m\u001b[0mcontinuum_range\u001b[0m\u001b[0;34m,\u001b[0m\u001b[0mplot_figure\u001b[0m\u001b[0;34m,\u001b[0m \u001b[0msave_figure\u001b[0m\u001b[0;34m)\u001b[0m\u001b[0;34m\u001b[0m\u001b[0;34m\u001b[0m\u001b[0m\n\u001b[0m\u001b[1;32m      5\u001b[0m \u001b[0;34m\u001b[0m\u001b[0m\n\u001b[1;32m      6\u001b[0m \u001b[0my_axis_lim\u001b[0m \u001b[0;34m=\u001b[0m \u001b[0;34m[\u001b[0m\u001b[0;34m-\u001b[0m\u001b[0;36m7\u001b[0m\u001b[0;34m,\u001b[0m\u001b[0;36m7.5\u001b[0m\u001b[0;34m]\u001b[0m\u001b[0;34m\u001b[0m\u001b[0;34m\u001b[0m\u001b[0m\n",
      "\u001b[0;31mNameError\u001b[0m: name 'miV590Mon' is not defined"
     ]
    }
   ],
   "source": [
    "\n",
    "#x_axis_lim = Brg\n",
    "y_axis_lim = [-90,90.5]\n",
    "continuum_range=[2.141,2.1604]\n",
    "miV590Mon.figure_diff_phase_continuum_measurement(x_axis_lim,y_axis_lim,continuum_range,plot_figure, save_figure)\n",
    "\n",
    "y_axis_lim = [-7,7.5]\n",
    "continuum_range=[2.131,2.161]\n",
    "miPDS281.figure_diff_phase_continuum_measurement(x_axis_lim,y_axis_lim,continuum_range,plot_figure, save_figure)\n",
    "\n",
    "y_axis_lim = [-15,15]\n",
    "continuum_range=[2.1485,2.1644]\n",
    "miHD94509.figure_diff_phase_continuum_measurement(x_axis_lim,y_axis_lim,continuum_range,plot_figure, save_figure)\n",
    "\n",
    "y_axis_lim = [-10,10.5]\n",
    "continuum_range=[2.153,2.163]\n",
    "miDGCir.figure_diff_phase_continuum_measurement(x_axis_lim,y_axis_lim,continuum_range,plot_figure, save_figure)\n",
    "\n",
    "y_axis_lim = [-10,10.5]\n",
    "continuum_range=[2.153,2.163]\n",
    "miHD141926.figure_diff_phase_continuum_measurement(x_axis_lim,y_axis_lim,continuum_range,plot_figure, save_figure)\n",
    "\n"
   ]
  },
  {
   "cell_type": "markdown",
   "metadata": {},
   "source": [
    "### Safe data to FITS file\n",
    "Before appliying the continuum removal, the previous results are saved to FITS file to check applicability of  continuum removal process (see below)."
   ]
  },
  {
   "cell_type": "code",
   "execution_count": 47,
   "metadata": {},
   "outputs": [
    {
     "output_type": "error",
     "ename": "NameError",
     "evalue": "name 'miV590Mon' is not defined",
     "traceback": [
      "\u001b[0;31m---------------------------------------------------------------------------\u001b[0m",
      "\u001b[0;31mNameError\u001b[0m                                 Traceback (most recent call last)",
      "\u001b[0;32m<ipython-input-47-9bc30e31cc61>\u001b[0m in \u001b[0;36m<module>\u001b[0;34m\u001b[0m\n\u001b[1;32m      1\u001b[0m \u001b[0moutput_filename\u001b[0m \u001b[0;34m=\u001b[0m \u001b[0;34m\"before_cont_removal\"\u001b[0m\u001b[0;34m\u001b[0m\u001b[0;34m\u001b[0m\u001b[0m\n\u001b[1;32m      2\u001b[0m \u001b[0;34m\u001b[0m\u001b[0m\n\u001b[0;32m----> 3\u001b[0;31m \u001b[0mmiV590Mon\u001b[0m\u001b[0;34m.\u001b[0m\u001b[0mwrite_to_files\u001b[0m\u001b[0;34m(\u001b[0m\u001b[0moutput_filename\u001b[0m\u001b[0;34m)\u001b[0m\u001b[0;34m\u001b[0m\u001b[0;34m\u001b[0m\u001b[0m\n\u001b[0m\u001b[1;32m      4\u001b[0m \u001b[0mmiPDS281\u001b[0m\u001b[0;34m.\u001b[0m\u001b[0mwrite_to_files\u001b[0m\u001b[0;34m(\u001b[0m\u001b[0moutput_filename\u001b[0m\u001b[0;34m)\u001b[0m\u001b[0;34m\u001b[0m\u001b[0;34m\u001b[0m\u001b[0m\n\u001b[1;32m      5\u001b[0m \u001b[0mmiHD94509\u001b[0m\u001b[0;34m.\u001b[0m\u001b[0mwrite_to_files\u001b[0m\u001b[0;34m(\u001b[0m\u001b[0moutput_filename\u001b[0m\u001b[0;34m)\u001b[0m\u001b[0;34m\u001b[0m\u001b[0;34m\u001b[0m\u001b[0m\n",
      "\u001b[0;31mNameError\u001b[0m: name 'miV590Mon' is not defined"
     ]
    }
   ],
   "source": [
    "output_filename = \"before_cont_removal\"\n",
    "\n",
    "miV590Mon.write_to_files(output_filename)\n",
    "miPDS281.write_to_files(output_filename)\n",
    "miHD94509.write_to_files(output_filename)\n",
    "miDGCir.write_to_files(output_filename)\n",
    "miHD141926.write_to_files(output_filename)"
   ]
  },
  {
   "cell_type": "markdown",
   "metadata": {
    "slideshow": {
     "slide_type": "slide"
    }
   },
   "source": [
    "\n",
    "### Continuum removal\n",
    "Once the continuum around $Br\\gamma$ is measured, we applied the continuum_corrector function to retrieve the flux and visibility of the line ($F_l$ and $V_l^2$, respectively).\n",
    "\n",
    "This function provides the continuum corrected differential phase and visibility of a spectral line, and their errors.\n",
    "See Eqs. (2) and (3) in Kraus et al. 2012, ApJ, 744, 19.\n",
    "\n",
    "$$F_l^2 V_l^2 = F^2 V^2 + F_c^2 V_c^2 - 2 · FV · F_c V_c ·\\cos\\phi$$\n",
    "$$\\sin\\phi_l = \\sin\\phi\\frac{\\mid FV\\mid}{\\mid F_l V_l \\mid}$$\n",
    "$$F_l = F - F_c$$\n",
    "\n",
    "The function is call into the *figure_continuum_corrector()* function as:\n",
    "\n",
    "*continuum_corrector(wavelength, F, error_F, V2, V2_error, phase, phase_error, cont_F, cont_V2, result_Vl2, result_phasel)*\n",
    "\n",
    "while *figure_continuum_corrector()* requires x_axis_lim, y_axis_lim and line_range (array with the wavelengths of the line range borders). In order to set these values, check *figure_flux_continuum_measurement()* to evaluate the line range to select."
   ]
  },
  {
   "cell_type": "code",
   "execution_count": 48,
   "metadata": {
    "slideshow": {
     "slide_type": "subslide"
    }
   },
   "outputs": [
    {
     "output_type": "error",
     "ename": "NameError",
     "evalue": "name 'miV590Mon' is not defined",
     "traceback": [
      "\u001b[0;31m---------------------------------------------------------------------------\u001b[0m",
      "\u001b[0;31mNameError\u001b[0m                                 Traceback (most recent call last)",
      "\u001b[0;32m<ipython-input-48-b8920afef8ce>\u001b[0m in \u001b[0;36m<module>\u001b[0;34m\u001b[0m\n\u001b[1;32m      6\u001b[0m \u001b[0mx_axis_lim\u001b[0m \u001b[0;34m=\u001b[0m \u001b[0;34m[\u001b[0m\u001b[0;36m2.16\u001b[0m\u001b[0;34m,\u001b[0m\u001b[0;36m2.172\u001b[0m\u001b[0;34m]\u001b[0m\u001b[0;34m\u001b[0m\u001b[0;34m\u001b[0m\u001b[0m\n\u001b[1;32m      7\u001b[0m \u001b[0my_axis_lim\u001b[0m \u001b[0;34m=\u001b[0m \u001b[0;34m[\u001b[0m\u001b[0;36m0\u001b[0m\u001b[0;34m,\u001b[0m\u001b[0;36m1.2\u001b[0m\u001b[0;34m]\u001b[0m\u001b[0;34m\u001b[0m\u001b[0;34m\u001b[0m\u001b[0m\n\u001b[0;32m----> 8\u001b[0;31m \u001b[0mmiV590Mon\u001b[0m\u001b[0;34m.\u001b[0m\u001b[0mfigure_continuum_corrector\u001b[0m\u001b[0;34m(\u001b[0m\u001b[0mx_axis_lim\u001b[0m\u001b[0;34m,\u001b[0m\u001b[0my_axis_lim\u001b[0m\u001b[0;34m,\u001b[0m\u001b[0mplot_figure\u001b[0m\u001b[0;34m,\u001b[0m\u001b[0msave_figure\u001b[0m\u001b[0;34m)\u001b[0m\u001b[0;34m\u001b[0m\u001b[0;34m\u001b[0m\u001b[0m\n\u001b[0m\u001b[1;32m      9\u001b[0m \u001b[0;34m\u001b[0m\u001b[0m\n\u001b[1;32m     10\u001b[0m \u001b[0mline_range\u001b[0m\u001b[0;34m=\u001b[0m\u001b[0;34m[\u001b[0m\u001b[0;36m2.1615\u001b[0m\u001b[0;34m,\u001b[0m\u001b[0;36m2.17\u001b[0m\u001b[0;34m]\u001b[0m\u001b[0;34m\u001b[0m\u001b[0;34m\u001b[0m\u001b[0m\n",
      "\u001b[0;31mNameError\u001b[0m: name 'miV590Mon' is not defined"
     ]
    }
   ],
   "source": [
    "#Check figure_flux_continuum_measurement to evaluate the line range to select\n",
    "line_range=[2.16,2.17]\n",
    "\n",
    "\n",
    "line_range=[2.1636,2.17]\n",
    "x_axis_lim = [2.16,2.172]\n",
    "y_axis_lim = [0,1.2]\n",
    "miV590Mon.figure_continuum_corrector(x_axis_lim,y_axis_lim,plot_figure,save_figure)\n",
    "\n",
    "line_range=[2.1615,2.17]\n",
    "y_axis_lim = [0,3]\n",
    "miPDS281.figure_continuum_corrector(x_axis_lim,y_axis_lim,plot_figure, save_figure)\n",
    "\n",
    "line_range=[2.1647,2.1684]\n",
    "y_axis_lim = [0,5]\n",
    "miHD94509.figure_continuum_corrector(x_axis_lim,y_axis_lim,plot_figure, save_figure)\n",
    "\n",
    "line_range=[2.1644,2.1684]\n",
    "y_axis_lim = [0.4,1.2]\n",
    "y_axis_lim = [0,3]\n",
    "miDGCir.figure_continuum_corrector(x_axis_lim,y_axis_lim,plot_figure, save_figure)\n",
    "\n",
    "line_range=[2.1638,2.168]\n",
    "y_axis_lim = [0.6,1.4]\n",
    "y_axis_lim = [0,3]\n",
    "miHD141926.figure_continuum_corrector(x_axis_lim,y_axis_lim,plot_figure, save_figure)\n",
    "\n"
   ]
  },
  {
   "cell_type": "code",
   "execution_count": 49,
   "metadata": {},
   "outputs": [
    {
     "output_type": "error",
     "ename": "NameError",
     "evalue": "name 'miV590Mon' is not defined",
     "traceback": [
      "\u001b[0;31m---------------------------------------------------------------------------\u001b[0m",
      "\u001b[0;31mNameError\u001b[0m                                 Traceback (most recent call last)",
      "\u001b[0;32m<ipython-input-49-581e1afb30a6>\u001b[0m in \u001b[0;36m<module>\u001b[0;34m\u001b[0m\n\u001b[1;32m      1\u001b[0m \u001b[0moutput_filename\u001b[0m \u001b[0;34m=\u001b[0m \u001b[0;34m\"continuum_removed\"\u001b[0m\u001b[0;34m\u001b[0m\u001b[0;34m\u001b[0m\u001b[0m\n\u001b[1;32m      2\u001b[0m \u001b[0;34m\u001b[0m\u001b[0m\n\u001b[0;32m----> 3\u001b[0;31m \u001b[0mmiV590Mon\u001b[0m\u001b[0;34m.\u001b[0m\u001b[0mwrite_to_files\u001b[0m\u001b[0;34m(\u001b[0m\u001b[0moutput_filename\u001b[0m\u001b[0;34m)\u001b[0m\u001b[0;34m\u001b[0m\u001b[0;34m\u001b[0m\u001b[0m\n\u001b[0m\u001b[1;32m      4\u001b[0m \u001b[0mmiPDS281\u001b[0m\u001b[0;34m.\u001b[0m\u001b[0mwrite_to_files\u001b[0m\u001b[0;34m(\u001b[0m\u001b[0moutput_filename\u001b[0m\u001b[0;34m)\u001b[0m\u001b[0;34m\u001b[0m\u001b[0;34m\u001b[0m\u001b[0m\n\u001b[1;32m      5\u001b[0m \u001b[0mmiHD94509\u001b[0m\u001b[0;34m.\u001b[0m\u001b[0mwrite_to_files\u001b[0m\u001b[0;34m(\u001b[0m\u001b[0moutput_filename\u001b[0m\u001b[0;34m)\u001b[0m\u001b[0;34m\u001b[0m\u001b[0;34m\u001b[0m\u001b[0m\n",
      "\u001b[0;31mNameError\u001b[0m: name 'miV590Mon' is not defined"
     ]
    }
   ],
   "source": [
    "output_filename = \"continuum_removed\"\n",
    "\n",
    "miV590Mon.write_to_files(output_filename)\n",
    "miPDS281.write_to_files(output_filename)\n",
    "miHD94509.write_to_files(output_filename)\n",
    "miDGCir.write_to_files(output_filename)\n",
    "miHD141926.write_to_files(output_filename)"
   ]
  },
  {
   "cell_type": "markdown",
   "metadata": {
    "slideshow": {
     "slide_type": "slide"
    }
   },
   "source": [
    "# Results \n",
    "### 3 plots: Flux, $V^2$ and differential phase for each baseline \n",
    "\n"
   ]
  },
  {
   "cell_type": "code",
   "execution_count": 50,
   "metadata": {
    "slideshow": {
     "slide_type": "subslide"
    }
   },
   "outputs": [
    {
     "output_type": "error",
     "ename": "NameError",
     "evalue": "name 'miV590Mon' is not defined",
     "traceback": [
      "\u001b[0;31m---------------------------------------------------------------------------\u001b[0m",
      "\u001b[0;31mNameError\u001b[0m                                 Traceback (most recent call last)",
      "\u001b[0;32m<ipython-input-50-7ea469ea421f>\u001b[0m in \u001b[0;36m<module>\u001b[0;34m\u001b[0m\n\u001b[1;32m     10\u001b[0m \u001b[0mvisibility_yticks\u001b[0m \u001b[0;34m=\u001b[0m\u001b[0mnp\u001b[0m\u001b[0;34m.\u001b[0m\u001b[0marange\u001b[0m\u001b[0;34m(\u001b[0m\u001b[0;36m0.1\u001b[0m\u001b[0;34m,\u001b[0m\u001b[0;36m0.35\u001b[0m\u001b[0;34m,\u001b[0m\u001b[0;36m0.1\u001b[0m\u001b[0;34m)\u001b[0m\u001b[0;34m\u001b[0m\u001b[0;34m\u001b[0m\u001b[0m\n\u001b[1;32m     11\u001b[0m \u001b[0mdiff_phase_yticks\u001b[0m\u001b[0;34m=\u001b[0m\u001b[0mnp\u001b[0m\u001b[0;34m.\u001b[0m\u001b[0marange\u001b[0m\u001b[0;34m(\u001b[0m\u001b[0;34m-\u001b[0m\u001b[0;36m30\u001b[0m\u001b[0;34m,\u001b[0m\u001b[0;36m40\u001b[0m\u001b[0;34m,\u001b[0m\u001b[0;36m30\u001b[0m\u001b[0;34m)\u001b[0m\u001b[0;34m\u001b[0m\u001b[0;34m\u001b[0m\u001b[0m\n\u001b[0;32m---> 12\u001b[0;31m \u001b[0mmiV590Mon\u001b[0m\u001b[0;34m.\u001b[0m\u001b[0mfigure_3_plots\u001b[0m\u001b[0;34m(\u001b[0m\u001b[0mx_axis_lim\u001b[0m\u001b[0;34m,\u001b[0m\u001b[0mflux_ylim\u001b[0m\u001b[0;34m,\u001b[0m\u001b[0mvisibility_ylim\u001b[0m\u001b[0;34m,\u001b[0m\u001b[0mdiff_phase_ylim\u001b[0m\u001b[0;34m,\u001b[0m\u001b[0mflux_yticks\u001b[0m\u001b[0;34m,\u001b[0m\u001b[0mvisibility_yticks\u001b[0m\u001b[0;34m,\u001b[0m\u001b[0mdiff_phase_yticks\u001b[0m\u001b[0;34m,\u001b[0m\u001b[0mplot_figure\u001b[0m\u001b[0;34m,\u001b[0m \u001b[0msave_figure\u001b[0m\u001b[0;34m)\u001b[0m\u001b[0;34m\u001b[0m\u001b[0;34m\u001b[0m\u001b[0m\n\u001b[0m\u001b[1;32m     13\u001b[0m \u001b[0;34m\u001b[0m\u001b[0m\n\u001b[1;32m     14\u001b[0m \u001b[0mflux_ylim\u001b[0m\u001b[0;34m=\u001b[0m\u001b[0;34m[\u001b[0m\u001b[0;36m0.85\u001b[0m\u001b[0;34m,\u001b[0m\u001b[0;36m1.2\u001b[0m\u001b[0;34m]\u001b[0m\u001b[0;34m\u001b[0m\u001b[0;34m\u001b[0m\u001b[0m\n",
      "\u001b[0;31mNameError\u001b[0m: name 'miV590Mon' is not defined"
     ]
    }
   ],
   "source": [
    "\n",
    "save_figure=False\n",
    "\n",
    "x_axis_lim = [2.159,2.173]\n",
    "#x_axis_lim = [2.165,2.167]\n",
    "\n",
    "flux_ylim=[0.9,1.5]\n",
    "visibility_ylim = [0,0.4]\n",
    "diff_phase_ylim = [-40,40]\n",
    "flux_yticks=np.arange(1,1.6,0.4)\n",
    "visibility_yticks =np.arange(0.1,0.35,0.1)\n",
    "diff_phase_yticks=np.arange(-30,40,30)\n",
    "miV590Mon.figure_3_plots(x_axis_lim,flux_ylim,visibility_ylim,diff_phase_ylim,flux_yticks,visibility_yticks,diff_phase_yticks,plot_figure, save_figure)\n",
    "\n",
    "flux_ylim=[0.85,1.2]\n",
    "visibility_ylim = [0.6,1.2]\n",
    "diff_phase_ylim = [-5,5]\n",
    "flux_yticks=np.arange(1,1.2,0.1)\n",
    "visibility_yticks =np.arange(0.8,1.4,0.2)\n",
    "diff_phase_yticks =np.arange(-5,6,5)\n",
    "miPDS281.figure_3_plots(x_axis_lim,flux_ylim,visibility_ylim,diff_phase_ylim, flux_yticks, visibility_yticks,diff_phase_yticks,plot_figure, save_figure)\n",
    "\n",
    "flux_ylim=[0.9,1.5]\n",
    "visibility_ylim = [0.7,1.3]\n",
    "diff_phase_ylim = [-12.5,12]\n",
    "flux_yticks=np.arange(1,1.6,0.4)\n",
    "visibility_yticks =np.arange(0.8,1.3,0.2)\n",
    "diff_phase_yticks =np.arange(-10,11,5)\n",
    "miHD94509.figure_3_plots(x_axis_lim,flux_ylim,visibility_ylim,diff_phase_ylim, flux_yticks, visibility_yticks,diff_phase_yticks,plot_figure, save_figure)\n",
    "\n",
    "flux_ylim=[0.9,1.6]\n",
    "visibility_ylim = [0,1.15]\n",
    "diff_phase_ylim = [-10,10]\n",
    "flux_yticks=np.arange(1,1.6,0.4)\n",
    "visibility_yticks =np.arange(0.2,1.1,0.2)\n",
    "diff_phase_yticks =np.arange(-5,10,5)\n",
    "miDGCir.figure_3_plots(x_axis_lim,flux_ylim,visibility_ylim,diff_phase_ylim, flux_yticks, visibility_yticks,diff_phase_yticks,plot_figure, save_figure)\n",
    "\n",
    "\n",
    "flux_ylim=[0.75,1.9]\n",
    "visibility_ylim = [0.6,1.3]\n",
    "diff_phase_ylim = [-10,10]\n",
    "flux_yticks=np.arange(1,1.6,0.5)\n",
    "visibility_yticks =np.arange(0.8,1.3,0.2)\n",
    "diff_phase_yticks =np.arange(-5,10,5)\n",
    "miHD141926.figure_3_plots(x_axis_lim,flux_ylim,visibility_ylim,diff_phase_ylim, flux_yticks, visibility_yticks,diff_phase_yticks,plot_figure, save_figure)\n",
    "\n"
   ]
  },
  {
   "cell_type": "markdown",
   "metadata": {},
   "source": [
    "### Full bandwidth flux plot\n",
    "This plot shows the full bandwidth of the science observation and a embeded zoom-in picture of the $Br\\gamma$ region. The full picture includes science and calibrator relative in that region. \n"
   ]
  },
  {
   "cell_type": "code",
   "execution_count": 51,
   "metadata": {},
   "outputs": [
    {
     "output_type": "error",
     "ename": "NameError",
     "evalue": "name 'miHD141926' is not defined",
     "traceback": [
      "\u001b[0;31m---------------------------------------------------------------------------\u001b[0m",
      "\u001b[0;31mNameError\u001b[0m                                 Traceback (most recent call last)",
      "\u001b[0;32m<ipython-input-51-1c497b670d21>\u001b[0m in \u001b[0;36m<module>\u001b[0;34m\u001b[0m\n\u001b[1;32m      5\u001b[0m \u001b[0mzoom_ylim\u001b[0m \u001b[0;34m=\u001b[0m \u001b[0;34m[\u001b[0m\u001b[0;36m10000\u001b[0m\u001b[0;34m,\u001b[0m\u001b[0;36m18000\u001b[0m\u001b[0;34m]\u001b[0m\u001b[0;34m\u001b[0m\u001b[0;34m\u001b[0m\u001b[0m\n\u001b[1;32m      6\u001b[0m \u001b[0msave_figure\u001b[0m \u001b[0;34m=\u001b[0m \u001b[0;32mFalse\u001b[0m\u001b[0;34m\u001b[0m\u001b[0;34m\u001b[0m\u001b[0m\n\u001b[0;32m----> 7\u001b[0;31m \u001b[0mmiHD141926\u001b[0m\u001b[0;34m.\u001b[0m\u001b[0mfigure_full_bandwidth_flux\u001b[0m\u001b[0;34m(\u001b[0m\u001b[0mx_axis_lim\u001b[0m\u001b[0;34m,\u001b[0m\u001b[0mflux_ylim\u001b[0m\u001b[0;34m,\u001b[0m \u001b[0mzoom_lower_xlim\u001b[0m\u001b[0;34m,\u001b[0m\u001b[0mzoom_higher_xlim\u001b[0m\u001b[0;34m,\u001b[0m\u001b[0mzoom_ylim\u001b[0m\u001b[0;34m,\u001b[0m\u001b[0mplot_figure\u001b[0m\u001b[0;34m,\u001b[0m \u001b[0msave_figure\u001b[0m\u001b[0;34m)\u001b[0m\u001b[0;34m\u001b[0m\u001b[0;34m\u001b[0m\u001b[0m\n\u001b[0m",
      "\u001b[0;31mNameError\u001b[0m: name 'miHD141926' is not defined"
     ]
    }
   ],
   "source": [
    "\n",
    "x_axis_lim = [1.98,2.46]\n",
    "flux_ylim = [0,18000] \n",
    "zoom_lower_xlim =2.163\n",
    "zoom_higher_xlim = 2.170\n",
    "zoom_ylim = [10000,18000] \n",
    "save_figure = False\n",
    "miHD141926.figure_full_bandwidth_flux(x_axis_lim,flux_ylim, zoom_lower_xlim,zoom_higher_xlim,zoom_ylim,plot_figure, save_figure)\n"
   ]
  },
  {
   "cell_type": "markdown",
   "metadata": {},
   "source": [
    "### Closure Phase"
   ]
  },
  {
   "cell_type": "code",
   "execution_count": 52,
   "metadata": {},
   "outputs": [
    {
     "output_type": "error",
     "ename": "NameError",
     "evalue": "name 'all_sources' is not defined",
     "traceback": [
      "\u001b[0;31m---------------------------------------------------------------------------\u001b[0m",
      "\u001b[0;31mNameError\u001b[0m                                 Traceback (most recent call last)",
      "\u001b[0;32m<ipython-input-52-742bc576f48f>\u001b[0m in \u001b[0;36m<module>\u001b[0;34m\u001b[0m\n\u001b[1;32m     12\u001b[0m \u001b[0mj\u001b[0m\u001b[0;34m=\u001b[0m\u001b[0;36m0\u001b[0m\u001b[0;34m\u001b[0m\u001b[0;34m\u001b[0m\u001b[0m\n\u001b[1;32m     13\u001b[0m \u001b[0;34m\u001b[0m\u001b[0m\n\u001b[0;32m---> 14\u001b[0;31m \u001b[0;32mfor\u001b[0m \u001b[0msource\u001b[0m \u001b[0;32min\u001b[0m \u001b[0mall_sources\u001b[0m\u001b[0;34m:\u001b[0m\u001b[0;34m\u001b[0m\u001b[0;34m\u001b[0m\u001b[0m\n\u001b[0m\u001b[1;32m     15\u001b[0m     \u001b[0;31m#Plot closure phases\u001b[0m\u001b[0;34m\u001b[0m\u001b[0;34m\u001b[0m\u001b[0;34m\u001b[0m\u001b[0m\n\u001b[1;32m     16\u001b[0m     \u001b[0;32mfor\u001b[0m  \u001b[0mkey\u001b[0m\u001b[0;34m,\u001b[0m \u001b[0mvalue\u001b[0m \u001b[0;32min\u001b[0m \u001b[0msource\u001b[0m\u001b[0;34m.\u001b[0m\u001b[0mphase_closure\u001b[0m\u001b[0;34m.\u001b[0m\u001b[0mitems\u001b[0m\u001b[0;34m(\u001b[0m\u001b[0;34m)\u001b[0m\u001b[0;34m:\u001b[0m\u001b[0;34m\u001b[0m\u001b[0;34m\u001b[0m\u001b[0m\n",
      "\u001b[0;31mNameError\u001b[0m: name 'all_sources' is not defined"
     ]
    }
   ],
   "source": [
    "fig = plt.figure(figsize =([14, 12])) \n",
    "\n",
    "gs = gridspec.GridSpec(3, 4, wspace = 0.5, hspace = 0.3) \n",
    "  \n",
    "ax1 = plt.subplot(gs[0, 0:2]) \n",
    "ax2 = plt.subplot(gs[0, 2:4]) \n",
    "ax3 = plt.subplot(gs[1, 0:2]) \n",
    "ax4 = plt.subplot(gs[1, 2:4]) \n",
    "  \n",
    "ax5 = plt.subplot(gs[2, 1:3]) \n",
    "axes = [ax1, ax2, ax3, ax4, ax5]\n",
    "j=0\n",
    "\n",
    "for source in all_sources:\n",
    "    #Plot closure phases\n",
    "    for  key, value in source.phase_closure.items():\n",
    "        axes[j].plot(source.wl_A,source.phase_closure[key], alpha=0.6, label=key)\n",
    "    \n",
    "        axes[j].legend(loc=1, fontsize = 8) # upper left corner\n",
    "        axes[j].set_ylabel('Closure phase (deg)', fontsize = 10)\n",
    "        axes[j].set_xlabel('Wavelength ($\\mu m$)', fontsize = 10)\n",
    "        axes[j].set_title(str(source.source), fontsize=12)  \n",
    "        axes[j].set_xlim([2.14,2.19]) \n",
    "        axes[j].set_ylim([-12,12])\n",
    "        axes[j].axvline(miHD94509.Brg, color=\"green\", lw=1, ls='-')\n",
    "\n",
    "    j=j+1\n",
    "\n",
    "      \n",
    "      \n",
    "#Save figure to disk\n",
    "if save_figure:\n",
    "    fig.savefig(\"./figures/closure_phases_Brg.eps\", dpi=300)\n",
    "\n",
    "#Close figure if plot_figure=False\n",
    "if plot_figure==False:\n",
    "    plt.close(fig)    # close the figure window\n",
    "\n"
   ]
  },
  {
   "cell_type": "markdown",
   "metadata": {},
   "source": [
    "### u,v coverage\n"
   ]
  },
  {
   "cell_type": "code",
   "execution_count": 53,
   "metadata": {},
   "outputs": [
    {
     "output_type": "error",
     "ename": "NameError",
     "evalue": "name 'all_sources' is not defined",
     "traceback": [
      "\u001b[0;31m---------------------------------------------------------------------------\u001b[0m",
      "\u001b[0;31mNameError\u001b[0m                                 Traceback (most recent call last)",
      "\u001b[0;32m<ipython-input-53-4ac7e1e87904>\u001b[0m in \u001b[0;36m<module>\u001b[0;34m\u001b[0m\n\u001b[1;32m     15\u001b[0m \u001b[0mj\u001b[0m\u001b[0;34m=\u001b[0m\u001b[0;36m0\u001b[0m\u001b[0;34m\u001b[0m\u001b[0;34m\u001b[0m\u001b[0m\n\u001b[1;32m     16\u001b[0m \u001b[0;34m\u001b[0m\u001b[0m\n\u001b[0;32m---> 17\u001b[0;31m \u001b[0;32mfor\u001b[0m \u001b[0msource\u001b[0m \u001b[0;32min\u001b[0m \u001b[0mall_sources\u001b[0m\u001b[0;34m:\u001b[0m\u001b[0;34m\u001b[0m\u001b[0;34m\u001b[0m\u001b[0m\n\u001b[0m\u001b[1;32m     18\u001b[0m     \u001b[0;31m#Plot scatter (u,v) coverage\u001b[0m\u001b[0;34m\u001b[0m\u001b[0;34m\u001b[0m\u001b[0;34m\u001b[0m\u001b[0m\n\u001b[1;32m     19\u001b[0m     \u001b[0;32mfor\u001b[0m  \u001b[0mkey\u001b[0m\u001b[0;34m,\u001b[0m \u001b[0mvalue\u001b[0m \u001b[0;32min\u001b[0m \u001b[0msource\u001b[0m\u001b[0;34m.\u001b[0m\u001b[0muV2_A\u001b[0m\u001b[0;34m.\u001b[0m\u001b[0mitems\u001b[0m\u001b[0;34m(\u001b[0m\u001b[0;34m)\u001b[0m\u001b[0;34m:\u001b[0m\u001b[0;34m\u001b[0m\u001b[0;34m\u001b[0m\u001b[0m\n",
      "\u001b[0;31mNameError\u001b[0m: name 'all_sources' is not defined"
     ]
    }
   ],
   "source": [
    "#Plot u,v coverages for each pair of observations of each source.\n",
    "#fig, ax = plt.subplots(nrows=3, ncols=2, figsize=(15, 12))\n",
    "\n",
    "fig = plt.figure(figsize =([14, 12])) \n",
    "        \n",
    "gs = gridspec.GridSpec(3, 4, wspace = 0.5, hspace = 0.3) \n",
    "  \n",
    "ax1 = plt.subplot(gs[0, 0:2]) \n",
    "ax2 = plt.subplot(gs[0, 2:4]) \n",
    "ax3 = plt.subplot(gs[1, 0:2]) \n",
    "ax4 = plt.subplot(gs[1, 2:4]) \n",
    "  \n",
    "ax5 = plt.subplot(gs[2, 1:3]) \n",
    "axes = [ax1, ax2, ax3, ax4, ax5]\n",
    "j=0\n",
    "\n",
    "for source in all_sources:\n",
    "    #Plot scatter (u,v) coverage\n",
    "    for  key, value in source.uV2_A.items():\n",
    "        axes[j].scatter( source.uV2_A[key],source.vV2_A[key],  marker=\"o\", color='blue', facecolor=\"none\", s=100, label='Obs. A' if key == 'U4U3' else \"\")\n",
    "        axes[j].scatter( source.uV2_B[key],source.vV2_B[key],  marker=\"o\", color='red' , facecolor=\"none\", s=100, label='Obs. B' if key == 'U4U3' else \"\")\n",
    "        axes[j].scatter(-source.uV2_A[key],-source.vV2_A[key], marker=\"o\", color='blue', facecolor=\"none\", s=100)\n",
    "        axes[j].scatter(-source.uV2_B[key],-source.vV2_B[key], marker=\"o\", color='red' , facecolor=\"none\", s=100)\n",
    "    \n",
    "        axes[j].axhline(0, color=\"black\", lw=1, ls='-')\n",
    "        axes[j].axvline(0, color=\"black\", lw=1, ls='-')\n",
    "        axes[j].set_xlabel('u (m)', fontsize = 12)\n",
    "        axes[j].set_ylabel('v (m)', fontsize = 12)\n",
    "        axes[j].set_xlim([-140,140])\n",
    "        axes[j].set_ylim([-140,140])\n",
    "        axes[j].legend(loc=2) # upper left corner\n",
    "\n",
    "\n",
    "        axes[j].set_title(str(source.source), fontsize=12) \n",
    "\n",
    "\n",
    "    j=j+1\n",
    "\n",
    "      \n",
    "#Save figure to disk\n",
    "if save_figure:\n",
    "    fig.savefig(\"./figures/all_sources_u_v_coverage.eps\", dpi=300) \n",
    "\n",
    "#Close figure if plot_figure=False\n",
    "if plot_figure==False:\n",
    "    plt.close(fig)    # close the figure window\n",
    "               \n",
    "\n",
    "\n"
   ]
  },
  {
   "cell_type": "markdown",
   "metadata": {
    "slideshow": {
     "slide_type": "slide"
    }
   },
   "source": [
    "# Modelling\n",
    "## LITpro input files\n",
    "Once the processing itself is completed, we used the OIFITS Library to merge the final FITS data products in one single *OIFITS* file. \n",
    "This is not required for the python processing or visualization, but will be required for the LITpro modelling. \n",
    "\n",
    "### Continuum \n",
    "#### V590Mon Continuum crop and merge to OIFITS\n",
    "```console\n",
    "oifits-filter --wave-min=2150 --wave-max=2160 copy_V590Mon.fits continuum_V590Mon_left.fits \n",
    "oifits-filter --wave-min=2170 --wave-max=2180 copy_V590Mon.fits continuum_V590Mon_right.fits \n",
    "\n",
    "oifits-merge merged_continuum_V590Mon.oifits continuum_V590Mon_left.fits continuum_V590Mon_right.fits\n",
    "```\n",
    "\n",
    "#### PDS281 Continuum crop and merge to OIFITS\n",
    "```console\n",
    "oifits-filter --wave-min=2140 --wave-max=2160 copy_PDS281.fits continuum_PDS281_left.fits \n",
    "oifits-filter --wave-min=2170 --wave-max=2190 copy_PDS281.fits continuum_PDS281_right.fits \n",
    "\n",
    "oifits-merge merged_continuum_PDS281.oifits continuum_PDS281_left.fits continuum_PDS281_right.fits\n",
    "```\n",
    "\n",
    "#### HD94509 Continuum crop and merge to OIFITS\n",
    "```console\n",
    "oifits-filter --wave-min=2150 --wave-max=2163 copy_HD94509.fits continuum_HD94509_left.fits \n",
    "oifits-filter --wave-min=2170 --wave-max=2183 copy_HD94509.fits continuum_HD94509_right.fits \n",
    "\n",
    "oifits-merge merged_continuum_HD94509.oifits continuum_HD94509_left.fits continuum_HD94509_right.fits\n",
    "```\n",
    "\n",
    "#### DGCir Continuum crop and merge to OIFITS\n",
    "```console\n",
    "oifits-filter --wave-min=2153 --wave-max=2163 copy_DGCir.fits continuum_DGCir_left.fits \n",
    "oifits-filter --wave-min=2170 --wave-max=2180 copy_DGCir.fits continuum_DGCir_right.fits \n",
    "\n",
    "oifits-merge merged_continuum_DGCir.oifits continuum_DGCir_left.fits continuum_DGCir_right.fits\n",
    "```\n",
    "\n",
    "#### HD141926 Continuum crop and merge to OIFITS\n",
    "```console\n",
    "oifits-filter --wave-min=2140 --wave-max=2160 copy_HD141926.fits continuum_HD141926_left.fits \n",
    "oifits-filter --wave-min=2170 --wave-max=2190 copy_HD141926.fits continuum_HD141926_right.fits \n",
    "\n",
    "oifits-merge merged_continuum_HD141926.oifits continuum_HD141926_left.fits continuum_HD141926_right.fits\n",
    "```\n",
    "### $Br\\gamma$\n",
    "\n",
    "#### V590Mon $Br\\gamma$ crop and set to OIFITS\n",
    "```console\n",
    "oifits-filter --wave-min=2165.2 --wave-max=2168 copy_V590Mon.fits Brg_V590Mon.fits \n",
    "\n",
    "oifits-merge Brg_V590Mon.oifits Brg_V590Mon.fits Brg_V590Mon.fits\n",
    "```\n",
    "\n",
    "#### PDS281 $Br\\gamma$ crop and set  to OIFITS\n",
    "```console\n",
    "oifits-filter --wave-min=2164.5 --wave-max=2169 copy_PDS281.fits Brg_PDS281.fits \n",
    "\n",
    "oifits-merge Brg_PDS281.oifits Brg_PDS281.fits Brg_PDS281.fits\n",
    "```\n",
    "\n",
    "#### HD 94509 $Br\\gamma$ crop, merge and set to OIFITS\n",
    "We do also want to apply the LITpro modelling to the two peaks of Brg in HD 94509, so we choose two especific spectral channels: Brg1 (2164.8-2166.3 A) and Brg2 (2166.3 - 2167.8 A). \n",
    "In the case of HD94509, the continuum removal process is providing with uncertain results, therefore we decide not to apply this process and use the HD94509_before_cont_removal.fits file.\n",
    "First, it was applied the filter to these spectral channels in both processed files, and the merge is applied afterwards (to the same BrgX_HD94509.fits file) to generate a OIFITS file.\n",
    "Therefore, it were applied the following commands:\n",
    "\n",
    "```console\n",
    "oifits-filter --wave-min=2164.8 --wave-max=2166.3 HD94509_before_cont_removal.fits Brg1_HD94509.fits\n",
    "oifits-filter --wave-min=2166.3 --wave-max=2167.8 HD94509_before_cont_removal.fits Brg2_HD94509.fits\n",
    "\n",
    "oifits-merge Brg1_HD94509.oifits Brg1_HD94509.fits Brg1_HD94509.fits \n",
    "oifits-merge Brg2_HD94509.oifits Brg2_HD94509.fits Brg2_HD94509.fits \n",
    "```\n",
    "This process generates two different OIFits files, one for each $Br\\gamma$ peak. Both files will be load into the LITpro tool in order to perform the modelling.\n",
    "\n",
    "#### DGCir $Br\\gamma$ crop and set to OIFITS\n",
    "```console\n",
    "oifits-filter --wave-min=2165.2 --wave-max=2167.7 copy_DGCir.fits Brg_DGCir.fits \n",
    "\n",
    "oifits-merge Brg_DGCir.oifits Brg_DGCir.fits Brg_DGCir.fits\n",
    "```\n",
    "\n",
    "#### HD141926 $Br\\gamma$ crop and set to OIFITS\n",
    "```console\n",
    "oifits-filter --wave-min=21640 --wave-max=2167.7 copy_HD141926.fits Brg_HD141926.fits \n",
    "\n",
    "oifits-merge Brg_HD141926.oifits Brg_HD141926.fits Brg_HD141926.fits\n",
    "```\n",
    "\n",
    "\n",
    "\n",
    "The [OIFits Validator online tool](http://oival.jmmc.fr/index.html) can be used to verify the output files.\n",
    "\n",
    "## LITpro Modelling\n",
    "We modelled all our sources as gaussian elongated disks with a centered punctual source centered in the same position. DGCir also requires a background flux in its model to adjust to a good aproximated result. \n",
    "\n",
    "- LITpro INPUTS\n",
    "- LIpro provides with OUTPUT\n",
    "\n",
    "## Initial data\n",
    "\n",
    "### Calculation of initial fluxes for source and disk in LITpro model\n",
    "For calculating the initial fluxes in continuum, corresponding to source and disk in continuum, around $Br\\gamma$, we use data of K band ($2.16\\mu m$) excess for each source provided in Table 2 by [Vioque et al. (2018)](https://www.aanda.org/component/makeref/?task=show&type=html&doi=10.1051/0004-6361/201832870).\n",
    "\n",
    "From that value we calculate the initial flux of source and disk to be applied in LITpro modelling, together with their minimum and maximum acotations. \n",
    "\n",
    "\n",
    "### V590Mon\n",
    "There is no data of K_excess therefore we use SED provided by [Chumpon et al. 2020]() and [Guzmán et al. 2020]() to provide with the initial relative fluxes of source and disk. According to this figure it is applied 15\\% due to the disk and 85\\% due to the host star, and no maximum or minimum restrictions.\n",
    "![V590Mon SED](./figures/SED_V590Mon.png)\n",
    "\n",
    "### PDS281\n",
    "There is no data of K_excess therefore we use SED provided by [Chumpon et al. 2020]() and [Guzmán et al. 2020]() to provide with the initial relative fluxes of source and disk.\n",
    "According to this figure it is applied 0\\% due to the disk and 100\\% due to the host star, and no maximum or minimum restrictions.\n",
    "![PDS281 SED](./figures/SED_PDS281.png)\n",
    "\n",
    "|Name    | Kexcess| Fd0_min| Fd0  |Fd0_max  | F\\*0_min|F\\*0 | F\\*0_max | \n",
    "| :-----:|:------:|:------:|:-----|:-------:|:-------:|:---:|:--------:|\n",
    "|V590Mon |  -     | -      | 0.90 |    -    |    -    | 0.10|    -     |\n",
    "|PDS281  |  -     | -      | 0.00 |    -    |    -    | 1.00|    -     |\n",
    "|HD94509 |  1.53  | 0.27   | 0.35 | 0.41    | 0.59    | 0.65| 0.73     |\n",
    "|DG Cir  | 30.63  | 0.964  | 0.968| 0.970   | 0.030   |0.032| 0.036    |\n",
    "|HD141926|  2.31  | 0.52   | 0.57 | 0.61    | 0.39    | 0.43| 0.48     |\n",
    "\n",
    "\n"
   ]
  },
  {
   "cell_type": "markdown",
   "metadata": {},
   "source": [
    "# LITpro Results\n",
    "We get the following results in the LITpro model:\n",
    "\n",
    "## V2 vs spectral frecuency\n",
    "In the following function we get the baselines and the squared visibility as a function of each baseline.\n",
    "This includes the model fitting results provided by LITpro as the red points.\n",
    "The dashed line is also provided by LITpro, although in this case LITpro doesn't provide with a *.tsv* value but an image. We used the application [automeris.io](https://apps.automeris.io/wpd/) to retrieve these values from the image.\n",
    "\n",
    "Here is represented V² as a function of the spatial frecuency 𝐵/𝜆 [𝑚/𝜇𝑚] given in [rad] units."
   ]
  },
  {
   "cell_type": "code",
   "execution_count": 54,
   "metadata": {},
   "outputs": [
    {
     "output_type": "error",
     "ename": "NameError",
     "evalue": "name 'miV590Mon' is not defined",
     "traceback": [
      "\u001b[0;31m---------------------------------------------------------------------------\u001b[0m",
      "\u001b[0;31mNameError\u001b[0m                                 Traceback (most recent call last)",
      "\u001b[0;32m<ipython-input-54-8d3d8d40e18d>\u001b[0m in \u001b[0;36m<module>\u001b[0;34m\u001b[0m\n\u001b[1;32m      4\u001b[0m \u001b[0;34m\u001b[0m\u001b[0m\n\u001b[1;32m      5\u001b[0m \u001b[0my_axis_lim\u001b[0m \u001b[0;34m=\u001b[0m \u001b[0;34m[\u001b[0m\u001b[0;36m0\u001b[0m\u001b[0;34m,\u001b[0m\u001b[0;36m1.1\u001b[0m\u001b[0;34m]\u001b[0m\u001b[0;34m\u001b[0m\u001b[0;34m\u001b[0m\u001b[0m\n\u001b[0;32m----> 6\u001b[0;31m \u001b[0mmiV590Mon\u001b[0m\u001b[0;34m.\u001b[0m\u001b[0mfigure_V2_vs_spatial_frecuency\u001b[0m\u001b[0;34m(\u001b[0m\u001b[0mx_axis_lim\u001b[0m\u001b[0;34m,\u001b[0m\u001b[0my_axis_lim\u001b[0m\u001b[0;34m,\u001b[0m\u001b[0mplot_figure\u001b[0m\u001b[0;34m,\u001b[0m \u001b[0msave_figure\u001b[0m\u001b[0;34m)\u001b[0m\u001b[0;34m\u001b[0m\u001b[0;34m\u001b[0m\u001b[0m\n\u001b[0m\u001b[1;32m      7\u001b[0m \u001b[0;34m\u001b[0m\u001b[0m\n\u001b[1;32m      8\u001b[0m \u001b[0my_axis_lim\u001b[0m \u001b[0;34m=\u001b[0m \u001b[0;34m[\u001b[0m\u001b[0;36m0.8\u001b[0m\u001b[0;34m,\u001b[0m\u001b[0;36m1.1\u001b[0m\u001b[0;34m]\u001b[0m\u001b[0;34m\u001b[0m\u001b[0;34m\u001b[0m\u001b[0m\n",
      "\u001b[0;31mNameError\u001b[0m: name 'miV590Mon' is not defined"
     ]
    }
   ],
   "source": [
    "save_figure=False\n",
    "\n",
    "x_axis_lim = [0, 65000000]\n",
    "\n",
    "y_axis_lim = [0,1.1]\n",
    "miV590Mon.figure_V2_vs_spatial_frecuency(x_axis_lim,y_axis_lim,plot_figure, save_figure)\n",
    "\n",
    "y_axis_lim = [0.8,1.1]\n",
    "miPDS281.figure_V2_vs_spatial_frecuency(x_axis_lim,y_axis_lim,plot_figure, save_figure)\n",
    "\n",
    "y_axis_lim = [0.4,1.1]\n",
    "#miHD94509.figure_V2_vs_spatial_frecuency(x_axis_lim,y_axis_lim,plot_figure, save_figure)\n",
    "\n",
    "y_axis_lim = [0.4,1.1]\n",
    "miDGCir.figure_V2_vs_spatial_frecuency(x_axis_lim,y_axis_lim,plot_figure, save_figure)\n",
    "\n",
    "x_axis_lim = [0, 17000000]\n",
    "y_axis_lim = [0.8,1.1]\n",
    "miHD141926.figure_V2_vs_spatial_frecuency(x_axis_lim,y_axis_lim,plot_figure, save_figure)"
   ]
  },
  {
   "cell_type": "markdown",
   "metadata": {},
   "source": [
    "### Specific plot for HD94509 with two separated $Br\\gamma$ lines"
   ]
  },
  {
   "cell_type": "code",
   "execution_count": 55,
   "metadata": {},
   "outputs": [
    {
     "output_type": "error",
     "ename": "NameError",
     "evalue": "name 'miHD94509' is not defined",
     "traceback": [
      "\u001b[0;31m---------------------------------------------------------------------------\u001b[0m",
      "\u001b[0;31mNameError\u001b[0m                                 Traceback (most recent call last)",
      "\u001b[0;32m<ipython-input-55-8481f544c54e>\u001b[0m in \u001b[0;36m<module>\u001b[0;34m\u001b[0m\n\u001b[1;32m     18\u001b[0m \u001b[0mbaseline_B\u001b[0m \u001b[0;34m=\u001b[0m \u001b[0;34m{\u001b[0m\u001b[0;34m}\u001b[0m\u001b[0;34m\u001b[0m\u001b[0;34m\u001b[0m\u001b[0m\n\u001b[1;32m     19\u001b[0m \u001b[0mbaseline\u001b[0m \u001b[0;34m=\u001b[0m \u001b[0;34m{\u001b[0m\u001b[0;34m}\u001b[0m\u001b[0;34m\u001b[0m\u001b[0;34m\u001b[0m\u001b[0m\n\u001b[0;32m---> 20\u001b[0;31m \u001b[0;32mfor\u001b[0m  \u001b[0mkey\u001b[0m\u001b[0;34m,\u001b[0m \u001b[0mvalue\u001b[0m \u001b[0;32min\u001b[0m \u001b[0mmiHD94509\u001b[0m\u001b[0;34m.\u001b[0m\u001b[0muV2_A\u001b[0m\u001b[0;34m.\u001b[0m\u001b[0mitems\u001b[0m\u001b[0;34m(\u001b[0m\u001b[0;34m)\u001b[0m\u001b[0;34m:\u001b[0m\u001b[0;34m\u001b[0m\u001b[0;34m\u001b[0m\u001b[0m\n\u001b[0m\u001b[1;32m     21\u001b[0m     \u001b[0mbaseline_A\u001b[0m\u001b[0;34m[\u001b[0m\u001b[0mkey\u001b[0m\u001b[0;34m]\u001b[0m \u001b[0;34m=\u001b[0m \u001b[0msqrt\u001b[0m\u001b[0;34m(\u001b[0m\u001b[0mmiHD94509\u001b[0m\u001b[0;34m.\u001b[0m\u001b[0muV2_A\u001b[0m\u001b[0;34m[\u001b[0m\u001b[0mkey\u001b[0m\u001b[0;34m]\u001b[0m\u001b[0;34m**\u001b[0m\u001b[0;36m2\u001b[0m \u001b[0;34m+\u001b[0m \u001b[0mmiHD94509\u001b[0m\u001b[0;34m.\u001b[0m\u001b[0mvV2_A\u001b[0m\u001b[0;34m[\u001b[0m\u001b[0mkey\u001b[0m\u001b[0;34m]\u001b[0m\u001b[0;34m**\u001b[0m\u001b[0;36m2\u001b[0m\u001b[0;34m)\u001b[0m\u001b[0;34m\u001b[0m\u001b[0;34m\u001b[0m\u001b[0m\n\u001b[1;32m     22\u001b[0m     \u001b[0mbaseline_B\u001b[0m\u001b[0;34m[\u001b[0m\u001b[0mkey\u001b[0m\u001b[0;34m]\u001b[0m \u001b[0;34m=\u001b[0m \u001b[0msqrt\u001b[0m\u001b[0;34m(\u001b[0m\u001b[0mmiHD94509\u001b[0m\u001b[0;34m.\u001b[0m\u001b[0muV2_B\u001b[0m\u001b[0;34m[\u001b[0m\u001b[0mkey\u001b[0m\u001b[0;34m]\u001b[0m\u001b[0;34m**\u001b[0m\u001b[0;36m2\u001b[0m \u001b[0;34m+\u001b[0m \u001b[0mmiHD94509\u001b[0m\u001b[0;34m.\u001b[0m\u001b[0mvV2_B\u001b[0m\u001b[0;34m[\u001b[0m\u001b[0mkey\u001b[0m\u001b[0;34m]\u001b[0m\u001b[0;34m**\u001b[0m\u001b[0;36m2\u001b[0m\u001b[0;34m)\u001b[0m\u001b[0;34m\u001b[0m\u001b[0;34m\u001b[0m\u001b[0m\n",
      "\u001b[0;31mNameError\u001b[0m: name 'miHD94509' is not defined"
     ]
    }
   ],
   "source": [
    "\n",
    "import pandas as pd\n",
    "from scipy.interpolate import interp1d\n",
    "\n",
    "save_figure=True\n",
    "\n",
    "x_axis_lim = [0, 65000000]\n",
    "y_axis_lim = [0.8,1.1]\n",
    "\n",
    "\n",
    "\n",
    "\"\"\"\n",
    "In this function is represented V² as a function of the spatial frecuency 𝐵/𝜆 [𝑚/𝜇𝑚] given in [rad] units.\n",
    "\n",
    "\"\"\"\n",
    "\n",
    "##Get baselines values B/lambda \n",
    "baseline_A = {}\n",
    "baseline_B = {}\n",
    "baseline = {}\n",
    "for  key, value in miHD94509.uV2_A.items():\n",
    "    baseline_A[key] = sqrt(miHD94509.uV2_A[key]**2 + miHD94509.vV2_A[key]**2)\n",
    "    baseline_B[key] = sqrt(miHD94509.uV2_B[key]**2 + miHD94509.vV2_B[key]**2)\n",
    "    baseline[key] = mean([baseline_A[key],baseline_B[key]])\n",
    "\n",
    "\n",
    "# Read fitting data from automeris .csv file  \n",
    "# (in the LITpro_output directory)  \n",
    "LITpro_continuum_visibility2 = pd.read_csv(\"./LITpro_output/\"+miHD94509.source+\"_cont_LITpro_fit.tsv\", sep='\\t', header=3)\n",
    "LITpro_Brg1_visibility2 = pd.read_csv(\"./LITpro_output/\"+miHD94509.source+\"_Brg1_LITpro_fit.tsv\", sep='\\t', header=3)\n",
    "LITpro_Brg2_visibility2 = pd.read_csv(\"./LITpro_output/\"+miHD94509.source+\"_Brg2_LITpro_fit.tsv\", sep='\\t', header=3)\n",
    "\n",
    "LITpro_continuum_visibility2=LITpro_continuum_visibility2.sort_values(by=['#x'])\n",
    "wave_LITpro = LITpro_continuum_visibility2['#x'].to_numpy()\n",
    "modelValue_LITpro = LITpro_continuum_visibility2['modelValue'].to_numpy()\n",
    "\n",
    "LITpro_Brg1_visibility2=LITpro_Brg1_visibility2.sort_values(by=['#x'])\n",
    "LITpro_Brg2_visibility2=LITpro_Brg2_visibility2.sort_values(by=['#x'])\n",
    "#wave_LITpro = LITpro_Brg_visibility2['#x'].to_numpy()\n",
    "#modelValue_LITpro = LITpro_Brg_visibility2['modelValue'].to_numpy()\n",
    "\n",
    "# Read fitting data from LITpro .tsv file  \n",
    "# (in the same directory than gravi_plot_genereator.py)\n",
    "fitted_continuum_visibility2 = pd.read_csv(\"./LITpro_output/\"+miHD94509.source+\"_automeris_cont.csv\", sep=';', header=0)\n",
    "fitted_Brg1_visibility2 = pd.read_csv(\"./LITpro_output/\"+miHD94509.source+\"_automeris_Brg_1.csv\", sep=';', header=0)\n",
    "fitted_Brg2_visibility2 = pd.read_csv(\"./LITpro_output/\"+miHD94509.source+\"_automeris_Brg_2.csv\", sep=';', header=0)\n",
    "\n",
    "#Sort, just in case \n",
    "fitted_continuum_visibility2=fitted_continuum_visibility2.sort_values(by=['X_data'])\n",
    "fitted_Brg1_visibility2=fitted_Brg1_visibility2.sort_values(by=['X_data'])\n",
    "fitted_Brg2_visibility2=fitted_Brg2_visibility2.sort_values(by=['X_data'])\n",
    "\n",
    "wave_cont = fitted_continuum_visibility2['X_data'].to_numpy()\n",
    "modelValue_cont = fitted_continuum_visibility2['Y_data'].to_numpy()\n",
    "\n",
    "#Generate interpolated curve to fit values\n",
    "interpolated_modelValue_cont = interp1d(wave_cont, modelValue_cont, kind='cubic')\n",
    "wave_cont_oversampled = np.linspace(min(wave_cont), max(wave_cont), num=5, endpoint=True)\n",
    "\n",
    "\n",
    "wave_Brg1 = fitted_Brg1_visibility2['X_data'].to_numpy()\n",
    "modelValue_Brg1 = fitted_Brg1_visibility2['Y_data'].to_numpy()\n",
    "wave_Brg2 = fitted_Brg2_visibility2['X_data'].to_numpy()\n",
    "modelValue_Brg2 = fitted_Brg2_visibility2['Y_data'].to_numpy()\n",
    "\n",
    "fig, ax = plt.subplots(figsize=(10, 10))\n",
    "\n",
    "i=0\n",
    "for  key, value in miHD94509.visibility2.items():\n",
    "    #Generate interpolated model fitting values\n",
    "    ax.errorbar(baseline[key]*1000000/miHD94509.Brg, miHD94509.continuum_visibility2[key], yerr=miHD94509.continuum_visibility2_error[key], c='black',fmt='o', capthick=2, label='$V^2$ continuum value with errorbar' if i == 0 else \"\")\n",
    "    \n",
    "    if i == 0:\n",
    "        #ax.plot(wave_cont,modelValue_cont, '--', color='black',label='Fit to $V^2$ continuum model')\n",
    "        #ax.plot(wave_cont_oversampled,interpolated_modelValue_cont(wave_cont_oversampled), '-', color='green',label='TEST to $V^2$ continuum model')\n",
    "        ax.plot(wave_cont_oversampled,interpolated_modelValue_cont(wave_cont_oversampled), '--', color='black',label='Fit to $V^2$ continuum model')\n",
    "        ax.plot(wave_Brg1,modelValue_Brg1, '-.', color='blue',label='Fit to $V^2 \\; Br\\gamma$ blue peak model')\n",
    "        ax.plot(wave_Brg2,modelValue_Brg2, '-.', color='red',label='Fit to $V^2 Br\\gamma$ red peak model')\n",
    "        #ax.scatter(fitted_continuum_visibility2[['#x']], fitted_continuum_visibility2[['dataValue']],label=' $V^2$ Data')\n",
    "        ax.scatter(LITpro_continuum_visibility2[['#x']], LITpro_continuum_visibility2[['modelValue']],label='$V^2$ continuum model', color='black', marker='x',s=280)\n",
    "        ax.scatter(LITpro_Brg1_visibility2[['#x']], LITpro_Brg1_visibility2[['modelValue']],label='$V^2 \\: Br\\gamma$ blue peak model', color='blue', marker='x',s=280)\n",
    "        ax.scatter(LITpro_Brg2_visibility2[['#x']], LITpro_Brg2_visibility2[['modelValue']],label='$V^2 \\: Br\\gamma$ red peak model', color='red', marker='x',s=280)\n",
    "\n",
    "    i=i+1\n",
    " \n",
    "ax.set_xlim(x_axis_lim)\n",
    "ax.set_ylim(y_axis_lim)\n",
    "ax.set_title(str(miHD94509.source))\n",
    "ax.set_xlabel('$B/\\lambda \\: (rad^{-1}$)', size=16)\n",
    "ax.set_ylabel('$V²$', size=16)\n",
    "ax.legend(loc=0,fontsize=14)        \n",
    "ax.tick_params(labelsize=14)\n",
    "        \n",
    "#Ensure no overlapping in plots\n",
    "fig.tight_layout()\n",
    "\n",
    "\n",
    "#Save figure\n",
    "if save_figure:\n",
    "    #Save figure to disk\n",
    "    fig.savefig('./figures/'+str(miHD94509.source) + \"_V2_vs_spatial_frecuency\" + \".eps\", dpi=300)\n",
    "\n",
    "\n"
   ]
  },
  {
   "cell_type": "markdown",
   "metadata": {},
   "source": [
    "## Setting star parameters in tables\n"
   ]
  },
  {
   "cell_type": "code",
   "execution_count": 56,
   "metadata": {},
   "outputs": [],
   "source": [
    "#Setting star parameteres in dataframe\n",
    "\n",
    "names = ['V590Mon','PDS281','HD94509','DGcir','HD141926']\n",
    "log_luminosity=[1.38,3.59,2.99,1.58,4.74]\n",
    "\n",
    "\n",
    "#Set Gaia distances in parsecs\n",
    "distance_pc=[1722, 932, 1830, 833, 1340]\n",
    "distance_pc_error_plus=[171, 47, 210, 52, 150]\n",
    "distance_pc_error_minus=[160, 40, 150, 43,110]\n",
    "\n",
    "#Set Meeus groups and JHK (as in Guzman-Diaz et al. 2020)\n",
    "meeus_group=[ \"I\", \"I\", \"II?\", \"I\", \"II\"]\n",
    "jhk_group=[ \"J\", \">Ks\", \">Ks\", \"J\", \"J\"]\n"
   ]
  },
  {
   "cell_type": "markdown",
   "metadata": {},
   "source": [
    "\n",
    "## Gaussian elongated disk and punctual source\n",
    "\n",
    "### Setting LITpro results\n",
    "\n"
   ]
  },
  {
   "cell_type": "code",
   "execution_count": 57,
   "metadata": {},
   "outputs": [],
   "source": [
    "#Setting results in egauss_model_results dataframe\n",
    "estimated_inner_disk=[0.172,9.015,5.377,0.388,15.156]\n",
    "estimated_luminosity=[1.34,3.59,3.17,2.07,5.13]\n",
    "\n",
    "#Set continuum LITpro modelled angular sizes (disk diameter) and errors(mas)\n",
    "angular_size_cont = [5.96/2, 3.5/2, 0.45/2, 0.7/2, 0.4/2]\n",
    "angular_size_cont_error = [0.4/2, 0.3/2, 2.03/2, 0.2/2, 3/2]\n",
    "\n",
    "#Set Brg LITpro modelled angular sizes (disk diameter) and errors(mas)\n",
    "angular_size_Brg = [6.16/2, 0.0/2, 0.013/2, 0.7/2,0.007/2]\n",
    "angular_size_Brg_error = [0.18/2, 0.0/2, 48/2, 0.3/2,33/2]\n",
    "\n",
    "\n",
    "#Set values in one single dataframe\n",
    "egauss_model_results = pd.DataFrame(names,columns=['Name'])\n",
    "egauss_model_results['log_luminosity']=pd.Series(log_luminosity)\n",
    "egauss_model_results['estimated_inner_disk']=pd.Series(estimated_inner_disk)\n",
    "egauss_model_results['estimated_luminosity']=pd.Series(estimated_luminosity)\n",
    "egauss_model_results['distance_pc']=pd.Series(distance_pc)\n",
    "egauss_model_results['distance_pc_error_plus']=pd.Series(distance_pc_error_plus)\n",
    "egauss_model_results['distance_pc_error_minus']=pd.Series(distance_pc_error_minus)\n",
    "egauss_model_results['angular_size_cont']=pd.Series(angular_size_cont)\n",
    "egauss_model_results['angular_size_cont_error']=pd.Series(angular_size_cont_error)\n",
    "egauss_model_results['angular_size_Brg']=pd.Series(angular_size_Brg)\n",
    "egauss_model_results['angular_size_Brg_error']=pd.Series(angular_size_Brg_error)\n"
   ]
  },
  {
   "cell_type": "markdown",
   "metadata": {},
   "source": [
    "### Disk Sizes\n",
    "Using LITpro results on disk angular sizes (${\\delta}[mas]$),  we calculate its disk radius ($d[au]$) from its distance ($D$) through the *disk_size_calculator(distance, angular_size)* function in *gravi_plot_functions* module.\n",
    "The disk angular sizes (${\\delta}[mas]$) provided by LITpro are given as FWHM of the minor axis of the elongated Gaussian. \n",
    "It is convention to use this FWHM as the diameter of the disk. \n",
    "\n"
   ]
  },
  {
   "cell_type": "code",
   "execution_count": 58,
   "metadata": {},
   "outputs": [],
   "source": [
    "#Calculate disk radius in au units\n",
    "disk_radius_cont=[]\n",
    "disk_radius_cont_error=[]\n",
    "disk_radius_Brg=[]\n",
    "disk_radius_Brg_error=[]\n",
    "\n",
    "disk_radius_cont,  disk_radius_cont_error = disk_size_error_calculator(egauss_model_results['distance_pc'],egauss_model_results['distance_pc_error_plus'],egauss_model_results['angular_size_cont'],egauss_model_results['angular_size_cont_error'])\n",
    "disk_radius_Brg,  disk_radius_Brg_error = disk_size_error_calculator(egauss_model_results['distance_pc'],egauss_model_results['distance_pc_error_plus'],egauss_model_results['angular_size_Brg'],egauss_model_results['angular_size_Brg_error'])\n",
    "\n",
    "\n",
    "#Add disk radius calculated values to dataframe\n",
    "egauss_model_results['disk_radius_cont']=pd.Series(disk_radius_cont)\n",
    "egauss_model_results['disk_radius_cont_error']=pd.Series(disk_radius_cont_error)\n",
    "egauss_model_results['disk_radius_Brg']=pd.Series(disk_radius_Brg)\n",
    "egauss_model_results['disk_radius_Brg_error']=pd.Series(disk_radius_Brg_error)\n"
   ]
  },
  {
   "cell_type": "markdown",
   "metadata": {},
   "source": [
    "### Gaussian disk inclination calculation\n",
    "Use the *disk_inclination_calculator()* function to calculate disk inclinations and their errors. \n"
   ]
  },
  {
   "cell_type": "code",
   "execution_count": 59,
   "metadata": {},
   "outputs": [
    {
     "output_type": "error",
     "ename": "AttributeError",
     "evalue": "'DataFrame' object has no attribute 'to_markdown'",
     "traceback": [
      "\u001b[0;31m---------------------------------------------------------------------------\u001b[0m",
      "\u001b[0;31mAttributeError\u001b[0m                            Traceback (most recent call last)",
      "\u001b[0;32m<ipython-input-59-2385b1b32a68>\u001b[0m in \u001b[0;36m<module>\u001b[0;34m\u001b[0m\n\u001b[1;32m     28\u001b[0m \u001b[0;34m\u001b[0m\u001b[0m\n\u001b[1;32m     29\u001b[0m \u001b[0;31m#print(egauss_model_results)\u001b[0m\u001b[0;34m\u001b[0m\u001b[0;34m\u001b[0m\u001b[0;34m\u001b[0m\u001b[0m\n\u001b[0;32m---> 30\u001b[0;31m \u001b[0mprint\u001b[0m\u001b[0;34m(\u001b[0m\u001b[0megauss_model_results\u001b[0m\u001b[0;34m[\u001b[0m\u001b[0;34m[\u001b[0m\u001b[0;34m'inclination_cont'\u001b[0m\u001b[0;34m,\u001b[0m\u001b[0;34m'inclination_cont_error'\u001b[0m\u001b[0;34m,\u001b[0m\u001b[0;34m'inclination_Brg'\u001b[0m\u001b[0;34m,\u001b[0m\u001b[0;34m'inclination_Brg_error'\u001b[0m\u001b[0;34m]\u001b[0m\u001b[0;34m]\u001b[0m\u001b[0;34m.\u001b[0m\u001b[0mto_markdown\u001b[0m\u001b[0;34m(\u001b[0m\u001b[0mshowindex\u001b[0m\u001b[0;34m=\u001b[0m\u001b[0;32mFalse\u001b[0m\u001b[0;34m)\u001b[0m\u001b[0;34m)\u001b[0m\u001b[0;34m\u001b[0m\u001b[0;34m\u001b[0m\u001b[0m\n\u001b[0m\u001b[1;32m     31\u001b[0m \u001b[0;31m#print(egauss_model_results.to_latex(index=False))\u001b[0m\u001b[0;34m\u001b[0m\u001b[0;34m\u001b[0m\u001b[0;34m\u001b[0m\u001b[0m\n",
      "\u001b[0;32m/usr/local/anaconda3/lib/python3.7/site-packages/pandas/core/generic.py\u001b[0m in \u001b[0;36m__getattr__\u001b[0;34m(self, name)\u001b[0m\n\u001b[1;32m   5065\u001b[0m             \u001b[0;32mif\u001b[0m \u001b[0mself\u001b[0m\u001b[0;34m.\u001b[0m\u001b[0m_info_axis\u001b[0m\u001b[0;34m.\u001b[0m\u001b[0m_can_hold_identifiers_and_holds_name\u001b[0m\u001b[0;34m(\u001b[0m\u001b[0mname\u001b[0m\u001b[0;34m)\u001b[0m\u001b[0;34m:\u001b[0m\u001b[0;34m\u001b[0m\u001b[0;34m\u001b[0m\u001b[0m\n\u001b[1;32m   5066\u001b[0m                 \u001b[0;32mreturn\u001b[0m \u001b[0mself\u001b[0m\u001b[0;34m[\u001b[0m\u001b[0mname\u001b[0m\u001b[0;34m]\u001b[0m\u001b[0;34m\u001b[0m\u001b[0;34m\u001b[0m\u001b[0m\n\u001b[0;32m-> 5067\u001b[0;31m             \u001b[0;32mreturn\u001b[0m \u001b[0mobject\u001b[0m\u001b[0;34m.\u001b[0m\u001b[0m__getattribute__\u001b[0m\u001b[0;34m(\u001b[0m\u001b[0mself\u001b[0m\u001b[0;34m,\u001b[0m \u001b[0mname\u001b[0m\u001b[0;34m)\u001b[0m\u001b[0;34m\u001b[0m\u001b[0;34m\u001b[0m\u001b[0m\n\u001b[0m\u001b[1;32m   5068\u001b[0m \u001b[0;34m\u001b[0m\u001b[0m\n\u001b[1;32m   5069\u001b[0m     \u001b[0;32mdef\u001b[0m \u001b[0m__setattr__\u001b[0m\u001b[0;34m(\u001b[0m\u001b[0mself\u001b[0m\u001b[0;34m,\u001b[0m \u001b[0mname\u001b[0m\u001b[0;34m,\u001b[0m \u001b[0mvalue\u001b[0m\u001b[0;34m)\u001b[0m\u001b[0;34m:\u001b[0m\u001b[0;34m\u001b[0m\u001b[0;34m\u001b[0m\u001b[0m\n",
      "\u001b[0;31mAttributeError\u001b[0m: 'DataFrame' object has no attribute 'to_markdown'"
     ]
    }
   ],
   "source": [
    "#CONTINUUM\n",
    "#Set LITpro modelled elongation ratios and errors \n",
    "\n",
    "#Set continuum LITpro modelled elongation (mayor_axis/minor_axis) and errors\n",
    "elongation_cont = [1.25,1.49,1.1,1.001,5]\n",
    "elongation_cont_error = [0.03,0.12,0.6,0.06,8]\n",
    "\n",
    "#Set Brg LITpro modelled elongation (mayor_axis/minor_axis) and errors\n",
    "elongation_Brg = [1.00001, 1.00000001, 67, 1.77, 223]\n",
    "elongation_Brg_error = [0.05,0.00000001,250000, 0.09, 1000000]\n",
    "\n",
    "\n",
    "#Calculate disk inclination in [deg]\n",
    "inclination_cont=[]\n",
    "inclination_cont_error=[]\n",
    "inclination_Brg=[]\n",
    "inclination_Brg_error=[]\n",
    "\n",
    "inclination_cont, inclination_cont_error = disk_inclination_calculator(elongation_cont, elongation_cont_error)\n",
    "inclination_Brg, inclination_Brg_error = disk_inclination_calculator(elongation_Brg, elongation_Brg_error)\n",
    "\n",
    "\n",
    "#Add disk radius calculated values to dataframe\n",
    "egauss_model_results['inclination_cont']=pd.Series(inclination_cont)\n",
    "egauss_model_results['inclination_cont_error']=pd.Series(inclination_cont_error)\n",
    "egauss_model_results['inclination_Brg']=pd.Series(inclination_Brg)\n",
    "egauss_model_results['inclination_Brg_error']=pd.Series(inclination_Brg_error)\n",
    "\n",
    "#print(egauss_model_results)\n",
    "print(egauss_model_results[['inclination_cont','inclination_cont_error','inclination_Brg','inclination_Brg_error']].to_markdown(showindex=False))\n",
    "#print(egauss_model_results.to_latex(index=False))\n"
   ]
  },
  {
   "cell_type": "markdown",
   "metadata": {},
   "source": [
    "### Disks radius as a function of luminosity\n",
    "\n",
    "The luminosity of each of the stars is represented with its measured radius of the disk in the continuum,\n",
    "$Br\\gamma$ and the inner disk estimation by [Guzmán et al. 2020]().\n",
    "\n",
    "The input to this function are the numpy array of sources name, logaritmic luminosity \n",
    "disk radius in continuum, disk radius in $Br\\gamma$, logaritmic estimated luminosity and inner disk estimation.\n",
    "\n",
    "These data are:\n",
    "    \n",
    "    \n",
    "|Name    | Log(L) [$L_\\odot$]| Continuum disk radius [mas]| Brg disk radius [mas]|Log(L) (estimated)[$L_\\odot$]| disk radius (estimated) | \n",
    "|:------:|:------:|:------------------------:|:------------------:|:---------------:|:---------------------:|\n",
    "|V590Mon |  1.38  |          5.96            |         6.16       |  1.34           |       0.172           |\n",
    "|PDS281  |  3.59  |          3.5             |         -          |  3.59           |       9.015           |\n",
    "|HD94509 |  2.99  |          0.45            |         0.013      |  3.17           |       5.377           |\n",
    "|DG Cir  |  1.58  |          0.7             |         0.7        |  2.07           |       0.388           |\n",
    "|HD141926|  4.74  |          0.4             |         0.007      |  5.13           |       15.156          |\n",
    "\n",
    "\n"
   ]
  },
  {
   "cell_type": "markdown",
   "metadata": {},
   "source": [
    "## Ring and punctual source\n",
    "### Setting LITpro RING results\n",
    "Angular sizes in LITpro model for elongated ring is given as the minor internal diameter (therefore we divide by 2 to get the radius).\n",
    "\n",
    "The sizes of the function in two orthogonal directions are given by the narrowest internal radius (MINOR\\_INTERNAL\\_DIAMETER) and by the ratio ELONG\\_RATIO between the widest internal diameter and\n",
    "MINOR\\_INTERNAL\\_DIAMETER, in the same way as for an ellipse:\n",
    "\n",
    "$$ ELONG\\_RATIO = MAJOR\\_INTERNAL\\_DIAMETER / MINOR\\_INTERNAL\\_DIAMETER $$\n",
    "\n",
    "In the direction of MINOR_INTERNAL_DIAMETER, the external diameter is MINOR\\_INTERNAL\\_DIAMETER + WIDTH. In the direction of major_diameter, the width is magnified by the ratio ELONG_RATIO, so that the external diameter is the elongated MAJOR\\_INTERNAL\\_DIAMETER + ELONG\\_RATIO * WIDTH.\n",
    "\n",
    "MAJOR_AXIS_POS_ANGLE is measured in degrees, from the positive vertical semi-axis (i.e. North direction) towards to the positive horizontal semi-axis (i.e. East direction).  \n",
    "\n",
    "For avoiding degenerescence, the domain of variation of MAJOR\\_AXIS\\_POS\\_ANGLE is 180 degrees, for ex. from 0 to 180 degrees.\n"
   ]
  },
  {
   "cell_type": "code",
   "execution_count": 60,
   "metadata": {},
   "outputs": [],
   "source": [
    "#Setting results in ering_model_results dataframe\n",
    "\n",
    "#CONTINUUM\n",
    "#Set continuum LITpro modelled elongation (mayor_axis/minor_axis) and errors\n",
    "ring_elongation_cont = [1.537, 1, 1.0992, 1,1]\n",
    "ring_elongation_cont_error = [0.0789, 0, 0.565, 0.0978,0.0493]\n",
    "ering_flux_weight_star_cont = [0.27036, 1, 0.73, 0.03,0.48]\n",
    "ering_flux_weight_star_cont_error = [0.0267, 0.0107, 4.44, 2.26,3.41]\n",
    "ering_flux_weight_ring_cont = [0.72968, 0, 0.27, 0.964,0.52]\n",
    "ering_flux_weight_ring_cont_error = [0.0718, 0.0107, 4.44, 2.26,3.41]\n",
    "ering_flux_weight_bckg_cont = [np.NaN, np.NaN, np.NaN, 0.12762, np.NaN]\n",
    "ering_flux_weight_bckg_cont_error = [np.NaN, np.NaN, np.NaN, 0.00812, np.NaN]\n",
    "ering_major_axis_pos_angle_cont =[65.002, 0, 0, 0,0]\n",
    "ering_major_axis_pos_angle_cont_error =[0.616, 0, 219, 3.88e+06,3.94e+06]\n",
    "#Set continuum LITpro modelled angular sizes (ring diameter) and errors(mas)\n",
    "ering_angular_size_cont = [x/2 for x in [0, 0, 0, 0, 0]]\n",
    "ering_angular_size_cont_error = [x/2 for x in [1.58e+04, 0, 4.2e+05, 7.61e+04,2.5e+06]]\n",
    "ering_width_cont =[3.4262, 0, 0.38008, 0.56075,1.8678]\n",
    "ering_width_cont_error =[7.89e+03, 0, 2.1e+05, 3.8e+04,1.25e+06]\n",
    "\n",
    "\n",
    "#Brg\n",
    "#Set Brg LITpro modelled elongation (mayor_axis/minor_axis) and errors\n",
    "ring_elongation_Brg = [1.8274, 1, 1.5199, 1,np.NaN]\n",
    "ring_elongation_Brg_error = [0.242, 0, 2.17, 0.136,np.NaN]\n",
    "ering_flux_weight_star_Brg = [0.29581, 1, 0.96788, 0.81315,np.NaN]\n",
    "ering_flux_weight_star_Brg_error = [0.0218, 1.76e+06, 1.58, 0.168,np.NaN]\n",
    "ering_flux_weight_ring_Brg = [0.70419, 0, 0.032119, 0.0971,np.NaN]\n",
    "ering_flux_weight_ring_Brg_error = [0.0515, 1.76e+06, 1.58, 0.159,np.NaN]\n",
    "ering_flux_weight_bckg_Brg = [np.NaN, np.NaN, np.NaN, 0.089755, np.NaN]\n",
    "ering_flux_weight_bckg_Brg_error = [np.NaN, np.NaN, np.NaN, 0.009, np.NaN]\n",
    "ering_major_axis_pos_angle_Brg =[63.051, 0, 0, 0,np.NaN]\n",
    "ering_major_axis_pos_angle_Brg_error =[1.22, 0, 255, 5.37e+05,np.NaN]\n",
    "#Set Brg LITpro modelled angular sizes (ring diameter) and errors(mas)\n",
    "ering_angular_size_Brg = [0, 0, 0.12372, 1.6753e-12,np.NaN]\n",
    "ering_angular_size_Brg_error = [3.85e+04, 0, 2.51e+04, 1.89e+06,np.NaN]\n",
    "ering_width_Brg =[2.9845, 0, 5.5499, 2.0142,np.NaN]\n",
    "ering_width_Brg_error =[1.93e+04, 0, 1.26e+04, 9.45e+05,np.NaN]\n",
    "\n",
    "\n",
    "#Set values in one single dataframe\n",
    "ering_model_results = pd.DataFrame(names,columns=['Name'])\n",
    "ering_model_results['log_luminosity']=pd.Series(log_luminosity)\n",
    "ering_model_results['distance_pc']=pd.Series(distance_pc)\n",
    "ering_model_results['distance_pc_error_plus']=pd.Series(distance_pc_error_plus)\n",
    "ering_model_results['distance_pc_error_minus']=pd.Series(distance_pc_error_minus)\n",
    "ering_model_results['angular_size_cont']=pd.Series(ering_angular_size_cont)\n",
    "ering_model_results['angular_size_cont_error']=pd.Series(ering_angular_size_cont_error)\n",
    "ering_model_results['angular_size_Brg']=pd.Series(ering_angular_size_Brg)\n",
    "ering_model_results['angular_size_Brg_error']=pd.Series(ering_angular_size_Brg_error)\n",
    "ering_model_results['width_cont']=pd.Series(ering_width_cont)\n",
    "ering_model_results['width_cont_error']=pd.Series(ering_width_cont_error)\n",
    "ering_model_results['width_Brg']=pd.Series(ering_width_Brg)\n",
    "ering_model_results['width_Brg_error']=pd.Series(ering_width_Brg_error)\n",
    "ering_model_results['elongation_cont']=pd.Series(ring_elongation_cont)\n",
    "ering_model_results['elongation_cont_error']=pd.Series(ring_elongation_cont_error)\n",
    "ering_model_results['elongation_Brg']=pd.Series(ring_elongation_Brg)\n",
    "ering_model_results['elongation_Brg_error']=pd.Series(ring_elongation_cont_error)\n",
    "ering_model_results['major_axis_pos_angle_cont']=pd.Series(ering_major_axis_pos_angle_cont)\n",
    "ering_model_results['major_axis_pos_angle_cont_error']=pd.Series(ering_major_axis_pos_angle_cont_error)\n",
    "ering_model_results['major_axis_pos_angle_Brg']=pd.Series(ering_major_axis_pos_angle_Brg)\n",
    "ering_model_results['major_axis_pos_angle_Brg_error']=pd.Series(ering_major_axis_pos_angle_Brg_error)\n",
    "\n",
    "ering_model_results['ering_flux_weight_star_cont']=pd.Series(ering_flux_weight_star_cont )\n",
    "ering_model_results['ering_flux_weight_star_cont_error']=pd.Series(ering_flux_weight_star_cont_error)\n",
    "ering_model_results['ering_flux_weight_ring_cont']=pd.Series(ering_flux_weight_ring_cont )\n",
    "ering_model_results['ering_flux_weight_ring_cont_error']=pd.Series(ering_flux_weight_ring_cont_error)\n",
    "ering_model_results['ering_flux_weight_bckg_cont']=pd.Series(ering_flux_weight_bckg_cont)\n",
    "ering_model_results['ering_flux_weight_bckg_cont_error']=pd.Series(ering_flux_weight_bckg_cont_error)\n",
    "ering_model_results['ering_flux_weight_star_Brg']=pd.Series(ering_flux_weight_star_Brg)\n",
    "ering_model_results['ering_flux_weight_star_Brg_error']=pd.Series(ering_flux_weight_star_Brg_error)\n",
    "ering_model_results['ering_flux_weight_ring_Brg']=pd.Series(ering_flux_weight_ring_Brg)\n",
    "ering_model_results['ering_flux_weight_ring_Brg_error']=pd.Series(ering_flux_weight_ring_Brg_error)\n",
    "ering_model_results['ering_flux_weight_bckg_Brg']=pd.Series(ering_flux_weight_bckg_Brg)\n",
    "ering_model_results['ering_flux_weight_bckg_Brg_error']=pd.Series(ering_flux_weight_bckg_Brg_error)\n"
   ]
  },
  {
   "cell_type": "markdown",
   "metadata": {},
   "source": [
    "### Ring Sizes\n",
    "Using LITpro results on ring angular sizes (${\\delta}[mas]$),  we calculate its ring radius ($d[au]$) from its distance ($D$) through the *disk_size_calculator(distance, angular_size)* function in *gravi_plot_functions* module.\n",
    "The ring angular sizes (${\\delta}[mas]$) provided by LITpro are given for the minor axis of the elongated ring. \n"
   ]
  },
  {
   "cell_type": "code",
   "execution_count": 61,
   "metadata": {},
   "outputs": [],
   "source": [
    "#Calculate ring radius in au units\n",
    "ring_radius_cont=[]\n",
    "ring_radius_cont_error=[]\n",
    "ring_radius_Brg=[]\n",
    "ring_radius_Brg_error=[]\n",
    "\n",
    "ring_radius_cont,  ring_radius_cont_error = disk_size_error_calculator(ering_model_results['distance_pc'],ering_model_results['distance_pc_error_plus'],ering_model_results['angular_size_cont'],ering_model_results['angular_size_cont_error'])\n",
    "ring_radius_Brg,  ring_radius_Brg_error = disk_size_error_calculator(ering_model_results['distance_pc'],ering_model_results['distance_pc_error_plus'],ering_model_results['angular_size_Brg'],egauss_model_results['angular_size_Brg_error'])\n",
    "\n",
    "\n",
    "#Add ring radius calculated values to dataframe\n",
    "ering_model_results['ring_radius_cont']=pd.Series(ring_radius_cont)\n",
    "ering_model_results['ring_radius_cont_error']=pd.Series(ring_radius_cont_error)\n",
    "ering_model_results['ring_radius_Brg']=pd.Series(ring_radius_Brg)\n",
    "ering_model_results['ring_radius_Brg_error']=pd.Series(ring_radius_Brg_error)\n",
    "\n",
    "#print(egauss_model_results)\n",
    "#print(egauss_model_results[['ring_radius_Brg','ring_radius_Brg_error']].to_markdown(showindex=False))\n",
    "#print(egauss_model_results.to_latex(index=False))"
   ]
  },
  {
   "cell_type": "markdown",
   "metadata": {},
   "source": [
    "### Ring  inclination calculation\n",
    "Use the *disk_inclination_calculator()* function to calculate disk inclinations and their errors. \n"
   ]
  },
  {
   "cell_type": "code",
   "execution_count": 62,
   "metadata": {},
   "outputs": [
    {
     "output_type": "error",
     "ename": "AttributeError",
     "evalue": "'DataFrame' object has no attribute 'to_markdown'",
     "traceback": [
      "\u001b[0;31m---------------------------------------------------------------------------\u001b[0m",
      "\u001b[0;31mAttributeError\u001b[0m                            Traceback (most recent call last)",
      "\u001b[0;32m<ipython-input-62-92ab33dbd67f>\u001b[0m in \u001b[0;36m<module>\u001b[0;34m\u001b[0m\n\u001b[1;32m     16\u001b[0m \u001b[0;34m\u001b[0m\u001b[0m\n\u001b[1;32m     17\u001b[0m \u001b[0;31m#print(ring_model_results)\u001b[0m\u001b[0;34m\u001b[0m\u001b[0;34m\u001b[0m\u001b[0;34m\u001b[0m\u001b[0m\n\u001b[0;32m---> 18\u001b[0;31m \u001b[0mprint\u001b[0m\u001b[0;34m(\u001b[0m\u001b[0mering_model_results\u001b[0m\u001b[0;34m[\u001b[0m\u001b[0;34m[\u001b[0m\u001b[0;34m'inclination_cont'\u001b[0m\u001b[0;34m,\u001b[0m\u001b[0;34m'inclination_cont_error'\u001b[0m\u001b[0;34m,\u001b[0m\u001b[0;34m'inclination_Brg'\u001b[0m\u001b[0;34m,\u001b[0m\u001b[0;34m'inclination_Brg_error'\u001b[0m\u001b[0;34m]\u001b[0m\u001b[0;34m]\u001b[0m\u001b[0;34m.\u001b[0m\u001b[0mto_markdown\u001b[0m\u001b[0;34m(\u001b[0m\u001b[0mshowindex\u001b[0m\u001b[0;34m=\u001b[0m\u001b[0;32mFalse\u001b[0m\u001b[0;34m)\u001b[0m\u001b[0;34m)\u001b[0m\u001b[0;34m\u001b[0m\u001b[0;34m\u001b[0m\u001b[0m\n\u001b[0m\u001b[1;32m     19\u001b[0m \u001b[0;31m#print(ring_model_results.to_latex(index=False))\u001b[0m\u001b[0;34m\u001b[0m\u001b[0;34m\u001b[0m\u001b[0;34m\u001b[0m\u001b[0m\n",
      "\u001b[0;32m/usr/local/anaconda3/lib/python3.7/site-packages/pandas/core/generic.py\u001b[0m in \u001b[0;36m__getattr__\u001b[0;34m(self, name)\u001b[0m\n\u001b[1;32m   5065\u001b[0m             \u001b[0;32mif\u001b[0m \u001b[0mself\u001b[0m\u001b[0;34m.\u001b[0m\u001b[0m_info_axis\u001b[0m\u001b[0;34m.\u001b[0m\u001b[0m_can_hold_identifiers_and_holds_name\u001b[0m\u001b[0;34m(\u001b[0m\u001b[0mname\u001b[0m\u001b[0;34m)\u001b[0m\u001b[0;34m:\u001b[0m\u001b[0;34m\u001b[0m\u001b[0;34m\u001b[0m\u001b[0m\n\u001b[1;32m   5066\u001b[0m                 \u001b[0;32mreturn\u001b[0m \u001b[0mself\u001b[0m\u001b[0;34m[\u001b[0m\u001b[0mname\u001b[0m\u001b[0;34m]\u001b[0m\u001b[0;34m\u001b[0m\u001b[0;34m\u001b[0m\u001b[0m\n\u001b[0;32m-> 5067\u001b[0;31m             \u001b[0;32mreturn\u001b[0m \u001b[0mobject\u001b[0m\u001b[0;34m.\u001b[0m\u001b[0m__getattribute__\u001b[0m\u001b[0;34m(\u001b[0m\u001b[0mself\u001b[0m\u001b[0;34m,\u001b[0m \u001b[0mname\u001b[0m\u001b[0;34m)\u001b[0m\u001b[0;34m\u001b[0m\u001b[0;34m\u001b[0m\u001b[0m\n\u001b[0m\u001b[1;32m   5068\u001b[0m \u001b[0;34m\u001b[0m\u001b[0m\n\u001b[1;32m   5069\u001b[0m     \u001b[0;32mdef\u001b[0m \u001b[0m__setattr__\u001b[0m\u001b[0;34m(\u001b[0m\u001b[0mself\u001b[0m\u001b[0;34m,\u001b[0m \u001b[0mname\u001b[0m\u001b[0;34m,\u001b[0m \u001b[0mvalue\u001b[0m\u001b[0;34m)\u001b[0m\u001b[0;34m:\u001b[0m\u001b[0;34m\u001b[0m\u001b[0;34m\u001b[0m\u001b[0m\n",
      "\u001b[0;31mAttributeError\u001b[0m: 'DataFrame' object has no attribute 'to_markdown'"
     ]
    }
   ],
   "source": [
    "#Calculate ring inclination in [deg]\n",
    "ring_inclination_cont=[]\n",
    "ring_inclination_cont_error=[]\n",
    "ring_inclination_Brg=[]\n",
    "ring_inclination_Brg_error=[]\n",
    "\n",
    "ring_inclination_cont, inclination_cont_error = disk_inclination_calculator(ring_elongation_cont, ring_elongation_cont_error)\n",
    "ring_inclination_Brg, inclination_Brg_error = disk_inclination_calculator(ring_elongation_Brg, ring_elongation_Brg_error)\n",
    "\n",
    "\n",
    "#Add disk radius calculated values to dataframe\n",
    "ering_model_results['inclination_cont']=pd.Series(ring_inclination_cont)\n",
    "ering_model_results['inclination_cont_error']=pd.Series(ring_inclination_cont_error)\n",
    "ering_model_results['inclination_Brg']=pd.Series(ring_inclination_Brg)\n",
    "ering_model_results['inclination_Brg_error']=pd.Series(ring_inclination_Brg_error)\n",
    "\n",
    "#print(ring_model_results)\n",
    "print(ering_model_results[['inclination_cont','inclination_cont_error','inclination_Brg','inclination_Brg_error']].to_markdown(showindex=False))\n",
    "#print(ring_model_results.to_latex(index=False))\n"
   ]
  },
  {
   "cell_type": "code",
   "execution_count": 63,
   "metadata": {
    "tags": []
   },
   "outputs": [
    {
     "output_type": "stream",
     "name": "stdout",
     "text": "\\begin{tabular}{lrrrrrrrrrrrrrrrrrrr}\n\\toprule\n     Name &  distance\\_pc &  distance\\_pc\\_error\\_plus &  distance\\_pc\\_error\\_minus &  ering\\_flux\\_weight\\_star\\_cont &  ering\\_flux\\_weight\\_star\\_cont\\_error &  ering\\_flux\\_weight\\_ring\\_cont &  ering\\_flux\\_weight\\_ring\\_cont\\_error &  ering\\_flux\\_weight\\_bckg\\_cont &  ering\\_flux\\_weight\\_bckg\\_cont\\_error &  angular\\_size\\_cont &  angular\\_size\\_cont\\_error &  ring\\_radius\\_cont &  ring\\_radius\\_cont\\_error &  major\\_axis\\_pos\\_angle\\_cont &  major\\_axis\\_pos\\_angle\\_cont\\_error &  elongation\\_cont &  elongation\\_cont\\_error &  inclination\\_cont &  inclination\\_cont\\_error \\\\\n\\midrule\n  V590Mon &         1722 &                     171 &                      160 &                      0.27036 &                             0.0267 &                      0.72968 &                             0.0718 &                          NaN &                                NaN &                0.0 &                   7900.0 &               0.0 &                13603.80 &                     65.002 &                            0.616 &           1.5370 &                 0.0789 &         49.411781 &                     NaN \\\\\n   PDS281 &          932 &                      47 &                       40 &                      1.00000 &                             0.0107 &                      0.00000 &                             0.0107 &                          NaN &                                NaN &                0.0 &                      0.0 &               0.0 &                    0.00 &                      0.000 &                            0.000 &           1.0000 &                 0.0000 &          0.000000 &                     NaN \\\\\n  HD94509 &         1830 &                     210 &                      150 &                      0.73000 &                             4.4400 &                      0.27000 &                             4.4400 &                          NaN &                                NaN &                0.0 &                 210000.0 &               0.0 &               384300.00 &                      0.000 &                          219.000 &           1.0992 &                 0.5650 &         24.528822 &                     NaN \\\\\n    DGcir &          833 &                      52 &                       43 &                      0.03000 &                             2.2600 &                      0.96400 &                             2.2600 &                      0.12762 &                            0.00812 &                0.0 &                  38050.0 &               0.0 &                31695.65 &                      0.000 &                      3880000.000 &           1.0000 &                 0.0978 &          0.000000 &                     NaN \\\\\n HD141926 &         1340 &                     150 &                      110 &                      0.48000 &                             3.4100 &                      0.52000 &                             3.4100 &                          NaN &                                NaN &                0.0 &                1250000.0 &               0.0 &              1675000.00 &                      0.000 &                      3940000.000 &           1.0000 &                 0.0493 &          0.000000 &                     NaN \\\\\n\\bottomrule\n\\end{tabular}\n\n"
    }
   ],
   "source": [
    "#Setting results in new pandas dataframe to edit\n",
    "ering_model_table=ering_model_results[['Name','distance_pc','distance_pc_error_plus','distance_pc_error_minus','ering_flux_weight_star_cont','ering_flux_weight_star_cont_error',\n",
    "                           'ering_flux_weight_ring_cont','ering_flux_weight_ring_cont_error','ering_flux_weight_bckg_cont','ering_flux_weight_bckg_cont_error',\n",
    "                           'angular_size_cont','angular_size_cont_error','ring_radius_cont','ring_radius_cont_error','major_axis_pos_angle_cont','major_axis_pos_angle_cont_error',\n",
    "                                       'elongation_cont','elongation_cont_error','inclination_cont','inclination_cont_error']]\n",
    "\n",
    "#Edit column names in table\n",
    "#ering_model_table.rename(columns={\"distance_pc\":\"d (pc)\"})\n",
    "#                        , \"ering_flux_weight_star_cont\":\"Flux weight star\", \n",
    "#                         \"ering_flux_weight_ring_cont\":\"Flux weight ring\",\"ering_flux_weight_bckg_cont\":\"Flux weight background\",\n",
    "#                         \"ring_radius_cont\":\"Ring radius (au)\",\"major_axis_pos_angle_cont\":\"Position angle (deg)\",\n",
    "#                         \"elongation_cont\":\"Elongation ratio\", \"inclination_cont\":\"Inclination angle (deg)\"})\n",
    "#\n",
    "\n",
    "\n",
    "#print(egauss_model_results.to_markdown(showindex=False))\n",
    "\n",
    "#print(ering_model_table[['distance_pc','distance_pc_error_plus','distance_pc_error_minus','ering_flux_weight_star_cont']].to_markdown(showindex=False))\n",
    "\n",
    "\n",
    "#print(ering_model_table[['distance_pc','distance_pc_error_plus','distance_pc_error_minus','ering_flux_weight_star_cont','ering_flux_weight_star_cont_error',\n",
    "#                           'ering_flux_weight_ring_cont','ering_flux_weight_ring_cont_error','ering_flux_weight_bckg_cont','ering_flux_weight_bckg_cont_error',\n",
    "#                           'angular_size_cont','angular_size_cont_error','ring_radius_cont',\n",
    "#                           'ring_radius_cont_error','major_axis_pos_angle_cont','major_axis_pos_angle_cont_error',\n",
    "#                           'elongation_cont',\n",
    "#                           'elongation_cont_error']].to_markdown(showindex=False)) \n",
    "\n",
    "#print(ering_model_results[['Name','distance_pc','ering_flux_weight_star_cont','ering_flux_weight_ring_cont',\n",
    "#                           'angular_size_cont','ring_radius_cont',\n",
    "#                           'ring_radius_cont_error','width_cont','major_axis_pos_angle_cont','elongation_cont',\n",
    "#                           'elongation_cont_error']].to_markdown(showindex=False)) \n",
    "#\n",
    "#print(egauss_model_results[['Name','distance_pc',\n",
    "#                           'angular_size_cont','disk_radius_cont',\n",
    "#                           'disk_radius_cont_error']].to_markdown(showindex=False)) \n",
    "#\n",
    "# tabla con nombre estrella, distancia Gaia (en pc), V(mag), Teff(K), log L∗(Lsun), M∗(Msun), y t∗(Myr); con sucaption indicando las refs para las distintas columnas\n",
    "# , V (mag), Teff (K), log L$_{*}$(Lsun), M$_*$ (Msun), y t$_*$ (Myr)\n",
    "print(ering_model_table.to_latex(index=False))\n",
    "ering_model_table.to_excel(\"output.xlsx\", index=False)"
   ]
  },
  {
   "cell_type": "markdown",
   "metadata": {},
   "source": [
    "### Ring results in table 4\n",
    "\n",
    "| Name     |   distance_pc |   ering_flux_weight_star_cont |   ering_flux_weight_ring_cont |   angular_size_cont |   ring_radius_cont |   ring_radius_cont_error |   width_cont |   major_axis_pos_angle_cont |   elongation_cont |   elongation_cont_error |\n",
    "|:---------|--------------:|------------------------------:|------------------------------:|--------------------:|-------------------:|-------------------------:|-------------:|----------------------------:|------------------:|------------------------:|\n",
    "| V590Mon  |          1722 |                       0.27036 |                       0.72968 |                   0 |                  0 |            13603.8       |      3.4262  |                      65.002 |            1.537  |                  0.0789 |\n",
    "| PDS281   |           932 |                       1       |                       0       |                   0 |                  0 |                0         |      0       |                       0     |            1      |                  0      |\n",
    "| HD94509  |          1830 |                       0.73    |                       0.27    |                   0 |                  0 |           384300         |      0.38008 |                       0     |            1.0992 |                  0.565  |\n",
    "| DGcir    |           833 |                       0.03    |                       0.964   |                   0 |                  0 |            31695.7       |      0.56075 |                       0     |            1      |                  0.0978 |\n",
    "| HD141926 |          1340 |                       0.48    |                       0.52    |                   0 |                  0 |                1.675e+06 |      1.8678  |                       0     |            1      |                  0.0493 |\n",
    "\n",
    "\n",
    "| Name     |   log_luminosity |   distance_pc |   distance_pc_error_plus |   distance_pc_error_minus |   angular_size_cont |   angular_size_cont_error |   angular_size_Brg |   angular_size_Brg_error |   width_cont |   width_cont_error |   width_Brg |   width_Brg_error |   elongation_cont |   elongation_cont_error |   elongation_Brg |   elongation_Brg_error |   major_axis_pos_angle_cont |   major_axis_pos_angle_cont_error |   major_axis_pos_angle_Brg |   major_axis_pos_angle_Brg_error |   ering_flux_weight_star_cont |   ering_flux_weight_star_cont_error |   ering_flux_weight_ring_cont |   ering_flux_weight_ring_cont_error |   ering_flux_weight_bckg_cont |   ering_flux_weight_bckg_cont_error |   ering_flux_weight_star_Brg |   ering_flux_weight_star_Brg_error |   ering_flux_weight_ring_Brg |   ering_flux_weight_ring_Brg_error |   ering_flux_weight_bckg_Brg |   ering_flux_weight_bckg_Brg_error |   ring_radius_cont |   ring_radius_cont_error |   ring_radius_Brg |   ring_radius_Brg_error |   inclination_cont |   inclination_cont_error |   inclination_Brg |   inclination_Brg_error |\n",
    "|:---------|-----------------:|--------------:|-------------------------:|--------------------------:|--------------------:|--------------------------:|-------------------:|-------------------------:|-------------:|-------------------:|------------:|------------------:|------------------:|------------------------:|-----------------:|-----------------------:|----------------------------:|----------------------------------:|---------------------------:|---------------------------------:|------------------------------:|------------------------------------:|------------------------------:|------------------------------------:|------------------------------:|------------------------------------:|-----------------------------:|-----------------------------------:|-----------------------------:|-----------------------------------:|-----------------------------:|-----------------------------------:|-------------------:|-------------------------:|------------------:|------------------------:|-------------------:|-------------------------:|------------------:|------------------------:|\n",
    "| V590Mon  |             1.38 |          1722 |                      171 |                       160 |                   0 |               7900        |         0          |             38500        |      3.4262  |        7890        |      2.9845 |             19300 |            1.537  |                  0.0789 |           1.8274 |                 0.0789 |                      65.002 |                          0.616    |                     63.051 |                             1.22 |                       0.27036 |                              0.0267 |                       0.72968 |                              0.0718 |                     nan       |                           nan       |                      0.29581 |                           0.0218   |                     0.70419  |                           0.0515   |                   nan        |                            nan     |                  0 |            13603.8       |       0           |                 0.15498 |            49.4118 |                      nan |           56.8231 |                     nan |\n",
    "| PDS281   |             3.59 |           932 |                       47 |                        40 |                   0 |                  0        |         0          |                 0        |      0       |           0        |      0      |                 0 |            1      |                  0      |           1      |                 0      |                       0     |                          0        |                      0     |                             0    |                       1       |                              0.0107 |                       0       |                              0.0107 |                     nan       |                           nan       |                      1       |                           1.76e+06 |                     0        |                           1.76e+06 |                   nan        |                            nan     |                  0 |                0         |       0           |                 0       |             0      |                      nan |            0      |                     nan |\n",
    "| HD94509  |             2.99 |          1830 |                      210 |                       150 |                   0 |             210000        |         0.12372    |             25100        |      0.38008 |      210000        |      5.5499 |             12600 |            1.0992 |                  0.565  |           1.5199 |                 0.565  |                       0     |                        219        |                      0     |                           255    |                       0.73    |                              4.44   |                       0.27    |                              4.44   |                     nan       |                           nan       |                      0.96788 |                           1.58     |                     0.032119 |                           1.58     |                   nan        |                            nan     |                  0 |           384300         |       0.226408    |                43.946   |            24.5288 |                      nan |           48.8572 |                     nan |\n",
    "| DGcir    |             1.58 |           833 |                       52 |                        43 |                   0 |              38050        |         1.6753e-12 |                 1.89e+06 |      0.56075 |       38000        |      2.0142 |            945000 |            1      |                  0.0978 |           1      |                 0.0978 |                       0     |                          3.88e+06 |                      0     |                        537000    |                       0.03    |                              2.26   |                       0.964   |                              2.26   |                       0.12762 |                             0.00812 |                      0.81315 |                           0.168    |                     0.0971   |                           0.159    |                     0.089755 |                              0.009 |                  0 |            31695.7       |       1.39552e-12 |                 0.12495 |             0      |                      nan |            0      |                     nan |\n",
    "| HD141926 |             4.74 |          1340 |                      150 |                       110 |                   0 |                  1.25e+06 |       nan          |               nan        |      1.8678  |           1.25e+06 |    nan      |               nan |            1      |                  0.0493 |         nan      |                 0.0493 |                       0     |                          3.94e+06 |                    nan     |                           nan    |                       0.48    |                              3.41   |                       0.52    |                              3.41   |                     nan       |                           nan       |                    nan       |                         nan        |                   nan        |                         nan        |                   nan        |                            nan     |                  0 |                1.675e+06 |     nan           |               nan       |             0      |                      nan |          nan      |                     nan |\n",
    "\n",
    "#### Gauss results\n",
    "\n",
    "| Name     |   distance_pc |   angular_size_cont |   disk_radius_cont |   disk_radius_cont_error |\n",
    "|:---------|--------------:|--------------------:|-------------------:|-------------------------:|\n",
    "| V590Mon  |          1722 |               2.98  |            5.13156 |                  0.85398 |\n",
    "| PDS281   |           932 |               1.75  |            1.631   |                  0.22205 |\n",
    "| HD94509  |          1830 |               0.225 |            0.41175 |                  1.9047  |\n",
    "| DGcir    |           833 |               0.35  |            0.29155 |                  0.1015  |\n",
    "| HD141926 |          1340 |               0.2   |            0.268   |                  2.04    |\n",
    "\n",
    "| Name     |   log_luminosity |   estimated_inner_disk |   estimated_luminosity |   distance_pc |   distance_pc_error_plus |   distance_pc_error_minus |   angular_size_cont |   angular_size_cont_error |   angular_size_Brg |   angular_size_Brg_error |   disk_radius_cont |   disk_radius_cont_error |   disk_radius_Brg |   disk_radius_Brg_error |   inclination_cont |   inclination_cont_error |   inclination_Brg |   inclination_Brg_error |\n",
    "|:---------|-----------------:|-----------------------:|-----------------------:|--------------:|-------------------------:|--------------------------:|--------------------:|--------------------------:|-------------------:|-------------------------:|-------------------:|-------------------------:|------------------:|------------------------:|-------------------:|-------------------------:|------------------:|------------------------:|\n",
    "| V590Mon  |             1.38 |                  0.172 |                   1.34 |          1722 |                      171 |                       160 |               2.98  |                     0.2   |             3.08   |                     0.09 |            5.13156 |                  0.85398 |          5.30376  |                 0.68166 |           36.8699  |                 1.9557   |        0.256233   |          143236         |\n",
    "| PDS281   |             3.59 |                  9.015 |                   3.59 |           932 |                       47 |                        40 |               1.75  |                     0.15  |             0      |                     0    |            1.631   |                  0.22205 |          0        |                 0       |           47.8448  |                 2.53826  |        0.00810285 |              28.6479    |\n",
    "| HD94509  |             2.99 |                  5.377 |                   3.17 |          1830 |                      210 |                       150 |               0.225 |                     1.015 |             0.0065 |                    24    |            0.41175 |                  1.9047  |          0.011895 |                43.9214  |           24.62    |               135.291    |       89.1448     |               0.710985  |\n",
    "| DGcir    |             1.58 |                  0.388 |                   2.07 |           833 |                       52 |                        43 |               0.35  |                     0.1   |             0.35   |                     0.15 |            0.29155 |                  0.1015  |          0.29155  |                 0.14315 |            2.56128 |              1714.58     |       55.5997     |               0.771699  |\n",
    "| HD141926 |             4.74 |                 15.156 |                   5.13 |          1340 |                      150 |                       110 |               0.2   |                     1.5   |             0.0035 |                    16.5  |            0.268   |                  2.04    |          0.00469  |                22.1105  |           78.463   |                 0.763944 |       89.7431     |               0.0231692 |"
   ]
  },
  {
   "cell_type": "markdown",
   "metadata": {},
   "source": [
    "### Data from Perraut+2019\n",
    "The following data are retrieved from [Perraut et al. 2019](https://arxiv.org/abs/1911.00611). \n",
    "From all the sources in [Perraut et al. 2019](https://arxiv.org/abs/1911.00611), we took those included\n",
    "in [Fairlamb et al. 2015](http://arxiv.org/abs/1507.05967) or [Mendigutía et al. 2011](http://arxiv.org/abs/1109.3288).\n",
    "The later publications indicates whose sources have been magnetospherically modelled (in green color in the following figure) and whose haven't (only one, in yellow color).\n",
    "\n",
    "| Object   | Simbad_Name   |   FWHM(mas) |   FWHM_error |   log_L |   log_L+error |   log_L-error | magnetospheric     |   distance_pc |\n",
    "|:---------|:--------------|------------:|-------------:|--------:|--------------:|--------------:|:-------------------|--------------:|\n",
    "| HD158643 | * c Oph       |        6.18 |         0.14 |    2.22 |          0.26 |          0.07 | magnetospheric     |           123 |\n",
    "| HD100546 | HD 100546     |        5.02 |         0.12 |    1.37 |          0.07 |          0.05 | magnetospheric     |           110 |\n",
    "| HD114981 | HD 114981     |       12.1  |         0.5  |    3.24 |          0.12 |          0.09 | magnetospheric     |           705 |\n",
    "| HD139614 | HD 139614     |        9.57 |         0.43 |    0.77 |          0.03 |          0.01 | magnetospheric     |           135 |\n",
    "| HD142527 | HD 142527     |        2.52 |         0.06 |    0.96 |          0.03 |          0.01 | magnetospheric     |           157 |\n",
    "| HD142666 | HD 142666     |        1.45 |         0.26 |    0.94 |          0.04 |          0.05 | magnetospheric     |           148 |\n",
    "| HD144432 | HD 144432     |        2.76 |         0.07 |    0.97 |          0.04 |          0.01 | magnetospheric     |           155 |\n",
    "| HD145718 | HD 145718     |        9.14 |         0.66 |    0.9  |          0.05 |          0.04 | magnetospheric     |           153 |\n",
    "| HD150193 | HD 150193     |        5.26 |         0.12 |    1.37 |          0.04 |          0.04 | magnetospheric     |           151 |\n",
    "| HD163296 | HD 163296     |        5.9  |         0.14 |    1.2  |          0.06 |          0.03 | magnetospheric     |           102 |\n",
    "| HD179218 | HD 179218     |       17    |         2.1  |    2.05 |          0.09 |          0.14 | magnetospheric     |           266 |\n",
    "| HD190073 | HD 190073     |        4.08 |         0.1  |    2.9  |          0.16 |          0.2  | magnetospheric     |           871 |\n",
    "| HD58647  | HD 58647      |        3.99 |         0.09 |    2.44 |          0.11 |          0.09 | magnetospheric     |           319 |\n",
    "| HD85567  | HD 85567      |        1.17 |         0.02 |    3.19 |          0.1  |          0.08 | non-magnetospheric |          1023 |\n",
    "| HD95881  | HD 95881      |        2.89 |         0.2  |    2.85 |          0.1  |          0.07 | magnetospheric     |          1168 |\n",
    "| HD97048  | HD 97048      |        4.38 |         0.1  |    1.54 |          0.07 |          0.6  | magnetospheric     |           185 |\n",
    "| HD98922  | HD 98922      |        4.69 |         0.11 |    3.03 |          0.06 |          0.05 | magnetospheric     |           689 |\n",
    "| PDS27    | SS 103        |        1.66 |         0.07 |    4.15 |          0.37 |          0.39 | magnetospheric     |          2550 |\n",
    "| V1818Ori | V* V1818 Ori  |        2.7  |         0.7  |    2.96 |          0.24 |          0.29 | magnetospheric     |           695 |\n",
    "| HD144668 | V* V856 Sco   |        4.08 |         0.1  |    1.72 |          0.05 |          0.04 | magnetospheric     |           161 |\n"
   ]
  },
  {
   "cell_type": "code",
   "execution_count": 64,
   "metadata": {},
   "outputs": [
    {
     "output_type": "error",
     "ename": "FileNotFoundError",
     "evalue": "[Errno 2] File b'./table3_perraut_2019.csv' does not exist: b'./table3_perraut_2019.csv'",
     "traceback": [
      "\u001b[0;31m---------------------------------------------------------------------------\u001b[0m",
      "\u001b[0;31mFileNotFoundError\u001b[0m                         Traceback (most recent call last)",
      "\u001b[0;32m<ipython-input-64-24954cf06dfd>\u001b[0m in \u001b[0;36m<module>\u001b[0;34m\u001b[0m\n\u001b[0;32m----> 1\u001b[0;31m \u001b[0mtable3_perraut_2019\u001b[0m \u001b[0;34m=\u001b[0m \u001b[0mpd\u001b[0m\u001b[0;34m.\u001b[0m\u001b[0mread_csv\u001b[0m\u001b[0;34m(\u001b[0m\u001b[0;34m\"./table3_perraut_2019.csv\"\u001b[0m\u001b[0;34m,\u001b[0m \u001b[0msep\u001b[0m\u001b[0;34m=\u001b[0m\u001b[0;34m';'\u001b[0m\u001b[0;34m,\u001b[0m \u001b[0mheader\u001b[0m\u001b[0;34m=\u001b[0m\u001b[0;36m0\u001b[0m\u001b[0;34m)\u001b[0m\u001b[0;34m\u001b[0m\u001b[0;34m\u001b[0m\u001b[0m\n\u001b[0m\u001b[1;32m      2\u001b[0m \u001b[0;31m#print(table3_perraut_2019.to_markdown(showindex=False))\u001b[0m\u001b[0;34m\u001b[0m\u001b[0;34m\u001b[0m\u001b[0;34m\u001b[0m\u001b[0m\n\u001b[1;32m      3\u001b[0m \u001b[0;34m\u001b[0m\u001b[0m\n",
      "\u001b[0;32m/usr/local/anaconda3/lib/python3.7/site-packages/pandas/io/parsers.py\u001b[0m in \u001b[0;36mparser_f\u001b[0;34m(filepath_or_buffer, sep, delimiter, header, names, index_col, usecols, squeeze, prefix, mangle_dupe_cols, dtype, engine, converters, true_values, false_values, skipinitialspace, skiprows, skipfooter, nrows, na_values, keep_default_na, na_filter, verbose, skip_blank_lines, parse_dates, infer_datetime_format, keep_date_col, date_parser, dayfirst, iterator, chunksize, compression, thousands, decimal, lineterminator, quotechar, quoting, doublequote, escapechar, comment, encoding, dialect, tupleize_cols, error_bad_lines, warn_bad_lines, delim_whitespace, low_memory, memory_map, float_precision)\u001b[0m\n\u001b[1;32m    700\u001b[0m                     skip_blank_lines=skip_blank_lines)\n\u001b[1;32m    701\u001b[0m \u001b[0;34m\u001b[0m\u001b[0m\n\u001b[0;32m--> 702\u001b[0;31m         \u001b[0;32mreturn\u001b[0m \u001b[0m_read\u001b[0m\u001b[0;34m(\u001b[0m\u001b[0mfilepath_or_buffer\u001b[0m\u001b[0;34m,\u001b[0m \u001b[0mkwds\u001b[0m\u001b[0;34m)\u001b[0m\u001b[0;34m\u001b[0m\u001b[0;34m\u001b[0m\u001b[0m\n\u001b[0m\u001b[1;32m    703\u001b[0m \u001b[0;34m\u001b[0m\u001b[0m\n\u001b[1;32m    704\u001b[0m     \u001b[0mparser_f\u001b[0m\u001b[0;34m.\u001b[0m\u001b[0m__name__\u001b[0m \u001b[0;34m=\u001b[0m \u001b[0mname\u001b[0m\u001b[0;34m\u001b[0m\u001b[0;34m\u001b[0m\u001b[0m\n",
      "\u001b[0;32m/usr/local/anaconda3/lib/python3.7/site-packages/pandas/io/parsers.py\u001b[0m in \u001b[0;36m_read\u001b[0;34m(filepath_or_buffer, kwds)\u001b[0m\n\u001b[1;32m    427\u001b[0m \u001b[0;34m\u001b[0m\u001b[0m\n\u001b[1;32m    428\u001b[0m     \u001b[0;31m# Create the parser.\u001b[0m\u001b[0;34m\u001b[0m\u001b[0;34m\u001b[0m\u001b[0;34m\u001b[0m\u001b[0m\n\u001b[0;32m--> 429\u001b[0;31m     \u001b[0mparser\u001b[0m \u001b[0;34m=\u001b[0m \u001b[0mTextFileReader\u001b[0m\u001b[0;34m(\u001b[0m\u001b[0mfilepath_or_buffer\u001b[0m\u001b[0;34m,\u001b[0m \u001b[0;34m**\u001b[0m\u001b[0mkwds\u001b[0m\u001b[0;34m)\u001b[0m\u001b[0;34m\u001b[0m\u001b[0;34m\u001b[0m\u001b[0m\n\u001b[0m\u001b[1;32m    430\u001b[0m \u001b[0;34m\u001b[0m\u001b[0m\n\u001b[1;32m    431\u001b[0m     \u001b[0;32mif\u001b[0m \u001b[0mchunksize\u001b[0m \u001b[0;32mor\u001b[0m \u001b[0miterator\u001b[0m\u001b[0;34m:\u001b[0m\u001b[0;34m\u001b[0m\u001b[0;34m\u001b[0m\u001b[0m\n",
      "\u001b[0;32m/usr/local/anaconda3/lib/python3.7/site-packages/pandas/io/parsers.py\u001b[0m in \u001b[0;36m__init__\u001b[0;34m(self, f, engine, **kwds)\u001b[0m\n\u001b[1;32m    893\u001b[0m             \u001b[0mself\u001b[0m\u001b[0;34m.\u001b[0m\u001b[0moptions\u001b[0m\u001b[0;34m[\u001b[0m\u001b[0;34m'has_index_names'\u001b[0m\u001b[0;34m]\u001b[0m \u001b[0;34m=\u001b[0m \u001b[0mkwds\u001b[0m\u001b[0;34m[\u001b[0m\u001b[0;34m'has_index_names'\u001b[0m\u001b[0;34m]\u001b[0m\u001b[0;34m\u001b[0m\u001b[0;34m\u001b[0m\u001b[0m\n\u001b[1;32m    894\u001b[0m \u001b[0;34m\u001b[0m\u001b[0m\n\u001b[0;32m--> 895\u001b[0;31m         \u001b[0mself\u001b[0m\u001b[0;34m.\u001b[0m\u001b[0m_make_engine\u001b[0m\u001b[0;34m(\u001b[0m\u001b[0mself\u001b[0m\u001b[0;34m.\u001b[0m\u001b[0mengine\u001b[0m\u001b[0;34m)\u001b[0m\u001b[0;34m\u001b[0m\u001b[0;34m\u001b[0m\u001b[0m\n\u001b[0m\u001b[1;32m    896\u001b[0m \u001b[0;34m\u001b[0m\u001b[0m\n\u001b[1;32m    897\u001b[0m     \u001b[0;32mdef\u001b[0m \u001b[0mclose\u001b[0m\u001b[0;34m(\u001b[0m\u001b[0mself\u001b[0m\u001b[0;34m)\u001b[0m\u001b[0;34m:\u001b[0m\u001b[0;34m\u001b[0m\u001b[0;34m\u001b[0m\u001b[0m\n",
      "\u001b[0;32m/usr/local/anaconda3/lib/python3.7/site-packages/pandas/io/parsers.py\u001b[0m in \u001b[0;36m_make_engine\u001b[0;34m(self, engine)\u001b[0m\n\u001b[1;32m   1120\u001b[0m     \u001b[0;32mdef\u001b[0m \u001b[0m_make_engine\u001b[0m\u001b[0;34m(\u001b[0m\u001b[0mself\u001b[0m\u001b[0;34m,\u001b[0m \u001b[0mengine\u001b[0m\u001b[0;34m=\u001b[0m\u001b[0;34m'c'\u001b[0m\u001b[0;34m)\u001b[0m\u001b[0;34m:\u001b[0m\u001b[0;34m\u001b[0m\u001b[0;34m\u001b[0m\u001b[0m\n\u001b[1;32m   1121\u001b[0m         \u001b[0;32mif\u001b[0m \u001b[0mengine\u001b[0m \u001b[0;34m==\u001b[0m \u001b[0;34m'c'\u001b[0m\u001b[0;34m:\u001b[0m\u001b[0;34m\u001b[0m\u001b[0;34m\u001b[0m\u001b[0m\n\u001b[0;32m-> 1122\u001b[0;31m             \u001b[0mself\u001b[0m\u001b[0;34m.\u001b[0m\u001b[0m_engine\u001b[0m \u001b[0;34m=\u001b[0m \u001b[0mCParserWrapper\u001b[0m\u001b[0;34m(\u001b[0m\u001b[0mself\u001b[0m\u001b[0;34m.\u001b[0m\u001b[0mf\u001b[0m\u001b[0;34m,\u001b[0m \u001b[0;34m**\u001b[0m\u001b[0mself\u001b[0m\u001b[0;34m.\u001b[0m\u001b[0moptions\u001b[0m\u001b[0;34m)\u001b[0m\u001b[0;34m\u001b[0m\u001b[0;34m\u001b[0m\u001b[0m\n\u001b[0m\u001b[1;32m   1123\u001b[0m         \u001b[0;32melse\u001b[0m\u001b[0;34m:\u001b[0m\u001b[0;34m\u001b[0m\u001b[0;34m\u001b[0m\u001b[0m\n\u001b[1;32m   1124\u001b[0m             \u001b[0;32mif\u001b[0m \u001b[0mengine\u001b[0m \u001b[0;34m==\u001b[0m \u001b[0;34m'python'\u001b[0m\u001b[0;34m:\u001b[0m\u001b[0;34m\u001b[0m\u001b[0;34m\u001b[0m\u001b[0m\n",
      "\u001b[0;32m/usr/local/anaconda3/lib/python3.7/site-packages/pandas/io/parsers.py\u001b[0m in \u001b[0;36m__init__\u001b[0;34m(self, src, **kwds)\u001b[0m\n\u001b[1;32m   1851\u001b[0m         \u001b[0mkwds\u001b[0m\u001b[0;34m[\u001b[0m\u001b[0;34m'usecols'\u001b[0m\u001b[0;34m]\u001b[0m \u001b[0;34m=\u001b[0m \u001b[0mself\u001b[0m\u001b[0;34m.\u001b[0m\u001b[0musecols\u001b[0m\u001b[0;34m\u001b[0m\u001b[0;34m\u001b[0m\u001b[0m\n\u001b[1;32m   1852\u001b[0m \u001b[0;34m\u001b[0m\u001b[0m\n\u001b[0;32m-> 1853\u001b[0;31m         \u001b[0mself\u001b[0m\u001b[0;34m.\u001b[0m\u001b[0m_reader\u001b[0m \u001b[0;34m=\u001b[0m \u001b[0mparsers\u001b[0m\u001b[0;34m.\u001b[0m\u001b[0mTextReader\u001b[0m\u001b[0;34m(\u001b[0m\u001b[0msrc\u001b[0m\u001b[0;34m,\u001b[0m \u001b[0;34m**\u001b[0m\u001b[0mkwds\u001b[0m\u001b[0;34m)\u001b[0m\u001b[0;34m\u001b[0m\u001b[0;34m\u001b[0m\u001b[0m\n\u001b[0m\u001b[1;32m   1854\u001b[0m         \u001b[0mself\u001b[0m\u001b[0;34m.\u001b[0m\u001b[0munnamed_cols\u001b[0m \u001b[0;34m=\u001b[0m \u001b[0mself\u001b[0m\u001b[0;34m.\u001b[0m\u001b[0m_reader\u001b[0m\u001b[0;34m.\u001b[0m\u001b[0munnamed_cols\u001b[0m\u001b[0;34m\u001b[0m\u001b[0;34m\u001b[0m\u001b[0m\n\u001b[1;32m   1855\u001b[0m \u001b[0;34m\u001b[0m\u001b[0m\n",
      "\u001b[0;32mpandas/_libs/parsers.pyx\u001b[0m in \u001b[0;36mpandas._libs.parsers.TextReader.__cinit__\u001b[0;34m()\u001b[0m\n",
      "\u001b[0;32mpandas/_libs/parsers.pyx\u001b[0m in \u001b[0;36mpandas._libs.parsers.TextReader._setup_parser_source\u001b[0;34m()\u001b[0m\n",
      "\u001b[0;31mFileNotFoundError\u001b[0m: [Errno 2] File b'./table3_perraut_2019.csv' does not exist: b'./table3_perraut_2019.csv'"
     ]
    }
   ],
   "source": [
    "table3_perraut_2019 = pd.read_csv(\"./table3_perraut_2019.csv\", sep=';', header=0)\n",
    "#print(table3_perraut_2019.to_markdown(showindex=False))\n",
    "\n"
   ]
  },
  {
   "cell_type": "markdown",
   "metadata": {},
   "source": [
    "### Data from Millan-Gabet et al. 2006\n",
    "The following data are retrieved from a selection of publications, all of them used in figure 2 of [Millan-Gabet et al. 2006](http://arxiv.org/abs/astro-ph/0603554). The original sources are [Millan-Gabet et al. 2001](http://arxiv.org/abs/astro-ph/0008072), \n",
    "[Danchi et al. 2001](https://iopscience.iop.org/article/10.1086/323530), [Tuthill et al. 2001](astro-ph/0102240), [Eisner et al. 2004](https://iopscience.iop.org/article/10.1086/423314) and [Monnier et al. 2005](https://iopscience.iop.org/article/10.1086/496877).\n",
    "\n",
    "| Object      |    D(pc) |    (+)dD |    (-)dD | Rd(mas)   |   (+)dRd |   (-)dRd |   logL(Lsun) |   (+)dlogL |   (-)dlogL |   ADb |   Adb_error(+) |   Adb_error(-) | logLacc[Lsun]   |   (+)dlogLacc |   (-)dlogLacc | logMdot[Msun yr-1]   |   (+)dlogMdot |   (-)dlogMdot |\n",
    "|:------------|---------:|---------:|---------:|:----------|---------:|---------:|-------------:|-----------:|-----------:|------:|---------------:|---------------:|:----------------|--------------:|--------------:|:---------------------|--------------:|--------------:|\n",
    "| BD-06 1253  |  489.956 |  38.4811 |  38.4811 | 2.5       |     0.1  |     0.1  |         2.06 |       0.09 |       0.12 |  0.87 |           0.05 |           0.05 | <0.79           |        nan    |        nan    | <-6.54               |        nan    |        nan    |\n",
    "| EM* AS 442  |  863.483 |  22.1444 |  22.1444 | 1.13      |     0.15 |     0.08 |         2.42 |       0.05 |       0.05 |  0.48 |           0.07 |           0.07 | 1.91            |          0.12 |          0.12 | -5.49                |          0.15 |          0.15 |\n",
    "| EM* MWC 297 |  375     |  22      |  18      | 21.9      |     1.2  |   nan    |         4.41 |       0.39 |       0.5  |  0.11 |           0.08 |           0.08 | 4.08            |          0.21 |          0.2  | -3.61                |          0.19 |          0.2  |\n",
    "| HD 31648    |  161.773 |   1.9916 |   1.9916 | 3.05      |     0.03 |     0.03 |         1.38 |       0.04 |       0.04 |  0.05 |           0.07 |           0.07 | 0.85            |          0.15 |          0.15 | -6.57                |          0.21 |          0.17 |\n",
    "| HD 58647    |  318.522 |   4.322  |   4.322  | 0.82      |     0.13 |     0.13 |         2.58 |       0.04 |       0.04 |  0.18 |           0.07 |           0.07 | -4.84           |          0.22 |          0.22 | 2.47                 |          0.23 |          0.23 |\n",
    "| HD 141569   |  110.63  |   0.91   |   0.88   | <2        |   nan    |   nan    |         1.34 |       0.06 |       0.07 |  0.05 |           0.05 |           0.05 | 0.22            |          0.17 |          0.18 | -7.35                |          0.18 |          0.15 |\n",
    "| HD 142666   |  148.3   |   2      |   1.9    | 0.29      |     0.05 |     0.04 |         1.08 |       0.1  |       0.11 |  0.18 |           0.07 |           0.07 | 0.12            |          0.18 |          0.18 | -7.24                |          0.17 |          0.17 |\n",
    "| HD 144432   |  155.4   |   2.4    |   2.2    | 0.49      |     0.05 |     0.03 |         1.18 |       0.09 |       0.09 |  0.07 |           0.05 |           0.05 | 0.38            |          0.2  |          0.21 | -6.99                |          0.18 |          0.2  |\n",
    "| HD 150193   |  150.8   |   2.7    |   2.5    | 0.58      |     0.15 |     0.09 |         1.56 |       0.14 |       0.15 |  0.07 |           0.05 |           0.05 | 0.71            |          0.15 |          0.15 | -6.75                |          0.15 |          0.18 |\n",
    "| HD 163296   |  101.496 |   1.1785 |   1.1785 | 0.45      |     0.02 |     0.03 |         1.34 |       0.04 |       0.04 |  0.06 |           0.05 |           0.05 | -7.49           |          0.14 |          0.3  | 0.08                 |          0.14 |          0.3  |\n",
    "| HD 179218   |  266     |   5.6    |   5.2    | 6.7       |     1.5  |     1.5  |         1.98 |       0.07 |       0.07 |  0.05 |           0.05 |           0.05 | 1.08            |          0.13 |          0.13 | -6.31                |          0.12 |          0.12 |\n",
    "| HD 190073   |  870     | 100      |  70      | 3.76      |     0.23 |     0.42 |         2.84 |       0.16 |       0.14 |  0.22 |           0.07 |           0.07 | 2.31            |          0.18 |          0.15 | -4.97                |          0.18 |          0.14 |\n",
    "| V* CQ Tau   |  163.119 |   2.1845 |   2.1845 | 2.75      |     0.1  |     0.11 |         0.89 |       0.02 |       0.02 |  0.02 |           0.07 |           0.07 | -0.84           |        nan    |        nan    | -8.30                |        nan    |        nan    |\n",
    "| V* T Ori    |  408     |  13      |  11      | <1.4      |   nan    |   nan    |         1.7  |       0.18 |       0.18 |  0.09 |           0.07 |           0.07 | 0.92            |          0.18 |          0.18 | -6.48                |          0.15 |          0.17 |\n",
    "| V* UX Ori   |  324.971 |   5.3753 |   5.3753 | 2.36      |     0.43 |     0.2  |         1.18 |       0.11 |       0.15 |  0.87 |           0.05 |           0.05 | <0.13           |        nan    |        nan    | <-7.26               |        nan    |        nan    |\n",
    "| V* WW Vul   |  504.032 |   9.349  |   9.349  | 0.99      |     0.13 |     0.08 |         1.54 |       0.06 |       0.06 |  0.08 |           0.07 |           0.07 | 0.95            |          0.15 |          0.15 | -6.51                |          0.21 |          0.19 |\n",
    "| V* Z CMa    | 1050     | nan      | nan      | 4.15      |     0.25 |     0.25 |         2.38 |       0.27 |       0.89 |  1.08 |           0.05 |           0.05 | -3.01           |          0.2  |          0.19 | 4.05                 |          0.22 |          0.22 |"
   ]
  },
  {
   "cell_type": "code",
   "execution_count": 65,
   "metadata": {},
   "outputs": [
    {
     "output_type": "error",
     "ename": "FileNotFoundError",
     "evalue": "[Errno 2] File b'./table4_millan_2006.csv' does not exist: b'./table4_millan_2006.csv'",
     "traceback": [
      "\u001b[0;31m---------------------------------------------------------------------------\u001b[0m",
      "\u001b[0;31mFileNotFoundError\u001b[0m                         Traceback (most recent call last)",
      "\u001b[0;32m<ipython-input-65-769c81cd3047>\u001b[0m in \u001b[0;36m<module>\u001b[0;34m\u001b[0m\n\u001b[0;32m----> 1\u001b[0;31m \u001b[0mtable4_millan_gabet_2006\u001b[0m \u001b[0;34m=\u001b[0m \u001b[0mpd\u001b[0m\u001b[0;34m.\u001b[0m\u001b[0mread_csv\u001b[0m\u001b[0;34m(\u001b[0m\u001b[0;34m\"./table4_millan_2006.csv\"\u001b[0m\u001b[0;34m,\u001b[0m \u001b[0msep\u001b[0m\u001b[0;34m=\u001b[0m\u001b[0;34m';'\u001b[0m\u001b[0;34m,\u001b[0m \u001b[0mheader\u001b[0m\u001b[0;34m=\u001b[0m\u001b[0;36m0\u001b[0m\u001b[0;34m)\u001b[0m\u001b[0;34m\u001b[0m\u001b[0;34m\u001b[0m\u001b[0m\n\u001b[0m\u001b[1;32m      2\u001b[0m \u001b[0mprint\u001b[0m\u001b[0;34m(\u001b[0m\u001b[0mtable4_millan_gabet_2006\u001b[0m\u001b[0;34m[\u001b[0m\u001b[0;34m[\u001b[0m\u001b[0;34m'Object'\u001b[0m\u001b[0;34m,\u001b[0m\u001b[0;34m'Rd(mas)'\u001b[0m\u001b[0;34m,\u001b[0m\u001b[0;34m'logL(Lsun)'\u001b[0m\u001b[0;34m]\u001b[0m\u001b[0;34m]\u001b[0m\u001b[0;34m.\u001b[0m\u001b[0mto_markdown\u001b[0m\u001b[0;34m(\u001b[0m\u001b[0mshowindex\u001b[0m\u001b[0;34m=\u001b[0m\u001b[0;32mFalse\u001b[0m\u001b[0;34m)\u001b[0m\u001b[0;34m)\u001b[0m\u001b[0;34m\u001b[0m\u001b[0;34m\u001b[0m\u001b[0m\n\u001b[1;32m      3\u001b[0m \u001b[0;31m#print(table4_millan_gabet_2006.to_markdown(showindex=False))\u001b[0m\u001b[0;34m\u001b[0m\u001b[0;34m\u001b[0m\u001b[0;34m\u001b[0m\u001b[0m\n",
      "\u001b[0;32m/usr/local/anaconda3/lib/python3.7/site-packages/pandas/io/parsers.py\u001b[0m in \u001b[0;36mparser_f\u001b[0;34m(filepath_or_buffer, sep, delimiter, header, names, index_col, usecols, squeeze, prefix, mangle_dupe_cols, dtype, engine, converters, true_values, false_values, skipinitialspace, skiprows, skipfooter, nrows, na_values, keep_default_na, na_filter, verbose, skip_blank_lines, parse_dates, infer_datetime_format, keep_date_col, date_parser, dayfirst, iterator, chunksize, compression, thousands, decimal, lineterminator, quotechar, quoting, doublequote, escapechar, comment, encoding, dialect, tupleize_cols, error_bad_lines, warn_bad_lines, delim_whitespace, low_memory, memory_map, float_precision)\u001b[0m\n\u001b[1;32m    700\u001b[0m                     skip_blank_lines=skip_blank_lines)\n\u001b[1;32m    701\u001b[0m \u001b[0;34m\u001b[0m\u001b[0m\n\u001b[0;32m--> 702\u001b[0;31m         \u001b[0;32mreturn\u001b[0m \u001b[0m_read\u001b[0m\u001b[0;34m(\u001b[0m\u001b[0mfilepath_or_buffer\u001b[0m\u001b[0;34m,\u001b[0m \u001b[0mkwds\u001b[0m\u001b[0;34m)\u001b[0m\u001b[0;34m\u001b[0m\u001b[0;34m\u001b[0m\u001b[0m\n\u001b[0m\u001b[1;32m    703\u001b[0m \u001b[0;34m\u001b[0m\u001b[0m\n\u001b[1;32m    704\u001b[0m     \u001b[0mparser_f\u001b[0m\u001b[0;34m.\u001b[0m\u001b[0m__name__\u001b[0m \u001b[0;34m=\u001b[0m \u001b[0mname\u001b[0m\u001b[0;34m\u001b[0m\u001b[0;34m\u001b[0m\u001b[0m\n",
      "\u001b[0;32m/usr/local/anaconda3/lib/python3.7/site-packages/pandas/io/parsers.py\u001b[0m in \u001b[0;36m_read\u001b[0;34m(filepath_or_buffer, kwds)\u001b[0m\n\u001b[1;32m    427\u001b[0m \u001b[0;34m\u001b[0m\u001b[0m\n\u001b[1;32m    428\u001b[0m     \u001b[0;31m# Create the parser.\u001b[0m\u001b[0;34m\u001b[0m\u001b[0;34m\u001b[0m\u001b[0;34m\u001b[0m\u001b[0m\n\u001b[0;32m--> 429\u001b[0;31m     \u001b[0mparser\u001b[0m \u001b[0;34m=\u001b[0m \u001b[0mTextFileReader\u001b[0m\u001b[0;34m(\u001b[0m\u001b[0mfilepath_or_buffer\u001b[0m\u001b[0;34m,\u001b[0m \u001b[0;34m**\u001b[0m\u001b[0mkwds\u001b[0m\u001b[0;34m)\u001b[0m\u001b[0;34m\u001b[0m\u001b[0;34m\u001b[0m\u001b[0m\n\u001b[0m\u001b[1;32m    430\u001b[0m \u001b[0;34m\u001b[0m\u001b[0m\n\u001b[1;32m    431\u001b[0m     \u001b[0;32mif\u001b[0m \u001b[0mchunksize\u001b[0m \u001b[0;32mor\u001b[0m \u001b[0miterator\u001b[0m\u001b[0;34m:\u001b[0m\u001b[0;34m\u001b[0m\u001b[0;34m\u001b[0m\u001b[0m\n",
      "\u001b[0;32m/usr/local/anaconda3/lib/python3.7/site-packages/pandas/io/parsers.py\u001b[0m in \u001b[0;36m__init__\u001b[0;34m(self, f, engine, **kwds)\u001b[0m\n\u001b[1;32m    893\u001b[0m             \u001b[0mself\u001b[0m\u001b[0;34m.\u001b[0m\u001b[0moptions\u001b[0m\u001b[0;34m[\u001b[0m\u001b[0;34m'has_index_names'\u001b[0m\u001b[0;34m]\u001b[0m \u001b[0;34m=\u001b[0m \u001b[0mkwds\u001b[0m\u001b[0;34m[\u001b[0m\u001b[0;34m'has_index_names'\u001b[0m\u001b[0;34m]\u001b[0m\u001b[0;34m\u001b[0m\u001b[0;34m\u001b[0m\u001b[0m\n\u001b[1;32m    894\u001b[0m \u001b[0;34m\u001b[0m\u001b[0m\n\u001b[0;32m--> 895\u001b[0;31m         \u001b[0mself\u001b[0m\u001b[0;34m.\u001b[0m\u001b[0m_make_engine\u001b[0m\u001b[0;34m(\u001b[0m\u001b[0mself\u001b[0m\u001b[0;34m.\u001b[0m\u001b[0mengine\u001b[0m\u001b[0;34m)\u001b[0m\u001b[0;34m\u001b[0m\u001b[0;34m\u001b[0m\u001b[0m\n\u001b[0m\u001b[1;32m    896\u001b[0m \u001b[0;34m\u001b[0m\u001b[0m\n\u001b[1;32m    897\u001b[0m     \u001b[0;32mdef\u001b[0m \u001b[0mclose\u001b[0m\u001b[0;34m(\u001b[0m\u001b[0mself\u001b[0m\u001b[0;34m)\u001b[0m\u001b[0;34m:\u001b[0m\u001b[0;34m\u001b[0m\u001b[0;34m\u001b[0m\u001b[0m\n",
      "\u001b[0;32m/usr/local/anaconda3/lib/python3.7/site-packages/pandas/io/parsers.py\u001b[0m in \u001b[0;36m_make_engine\u001b[0;34m(self, engine)\u001b[0m\n\u001b[1;32m   1120\u001b[0m     \u001b[0;32mdef\u001b[0m \u001b[0m_make_engine\u001b[0m\u001b[0;34m(\u001b[0m\u001b[0mself\u001b[0m\u001b[0;34m,\u001b[0m \u001b[0mengine\u001b[0m\u001b[0;34m=\u001b[0m\u001b[0;34m'c'\u001b[0m\u001b[0;34m)\u001b[0m\u001b[0;34m:\u001b[0m\u001b[0;34m\u001b[0m\u001b[0;34m\u001b[0m\u001b[0m\n\u001b[1;32m   1121\u001b[0m         \u001b[0;32mif\u001b[0m \u001b[0mengine\u001b[0m \u001b[0;34m==\u001b[0m \u001b[0;34m'c'\u001b[0m\u001b[0;34m:\u001b[0m\u001b[0;34m\u001b[0m\u001b[0;34m\u001b[0m\u001b[0m\n\u001b[0;32m-> 1122\u001b[0;31m             \u001b[0mself\u001b[0m\u001b[0;34m.\u001b[0m\u001b[0m_engine\u001b[0m \u001b[0;34m=\u001b[0m \u001b[0mCParserWrapper\u001b[0m\u001b[0;34m(\u001b[0m\u001b[0mself\u001b[0m\u001b[0;34m.\u001b[0m\u001b[0mf\u001b[0m\u001b[0;34m,\u001b[0m \u001b[0;34m**\u001b[0m\u001b[0mself\u001b[0m\u001b[0;34m.\u001b[0m\u001b[0moptions\u001b[0m\u001b[0;34m)\u001b[0m\u001b[0;34m\u001b[0m\u001b[0;34m\u001b[0m\u001b[0m\n\u001b[0m\u001b[1;32m   1123\u001b[0m         \u001b[0;32melse\u001b[0m\u001b[0;34m:\u001b[0m\u001b[0;34m\u001b[0m\u001b[0;34m\u001b[0m\u001b[0m\n\u001b[1;32m   1124\u001b[0m             \u001b[0;32mif\u001b[0m \u001b[0mengine\u001b[0m \u001b[0;34m==\u001b[0m \u001b[0;34m'python'\u001b[0m\u001b[0;34m:\u001b[0m\u001b[0;34m\u001b[0m\u001b[0;34m\u001b[0m\u001b[0m\n",
      "\u001b[0;32m/usr/local/anaconda3/lib/python3.7/site-packages/pandas/io/parsers.py\u001b[0m in \u001b[0;36m__init__\u001b[0;34m(self, src, **kwds)\u001b[0m\n\u001b[1;32m   1851\u001b[0m         \u001b[0mkwds\u001b[0m\u001b[0;34m[\u001b[0m\u001b[0;34m'usecols'\u001b[0m\u001b[0;34m]\u001b[0m \u001b[0;34m=\u001b[0m \u001b[0mself\u001b[0m\u001b[0;34m.\u001b[0m\u001b[0musecols\u001b[0m\u001b[0;34m\u001b[0m\u001b[0;34m\u001b[0m\u001b[0m\n\u001b[1;32m   1852\u001b[0m \u001b[0;34m\u001b[0m\u001b[0m\n\u001b[0;32m-> 1853\u001b[0;31m         \u001b[0mself\u001b[0m\u001b[0;34m.\u001b[0m\u001b[0m_reader\u001b[0m \u001b[0;34m=\u001b[0m \u001b[0mparsers\u001b[0m\u001b[0;34m.\u001b[0m\u001b[0mTextReader\u001b[0m\u001b[0;34m(\u001b[0m\u001b[0msrc\u001b[0m\u001b[0;34m,\u001b[0m \u001b[0;34m**\u001b[0m\u001b[0mkwds\u001b[0m\u001b[0;34m)\u001b[0m\u001b[0;34m\u001b[0m\u001b[0;34m\u001b[0m\u001b[0m\n\u001b[0m\u001b[1;32m   1854\u001b[0m         \u001b[0mself\u001b[0m\u001b[0;34m.\u001b[0m\u001b[0munnamed_cols\u001b[0m \u001b[0;34m=\u001b[0m \u001b[0mself\u001b[0m\u001b[0;34m.\u001b[0m\u001b[0m_reader\u001b[0m\u001b[0;34m.\u001b[0m\u001b[0munnamed_cols\u001b[0m\u001b[0;34m\u001b[0m\u001b[0;34m\u001b[0m\u001b[0m\n\u001b[1;32m   1855\u001b[0m \u001b[0;34m\u001b[0m\u001b[0m\n",
      "\u001b[0;32mpandas/_libs/parsers.pyx\u001b[0m in \u001b[0;36mpandas._libs.parsers.TextReader.__cinit__\u001b[0;34m()\u001b[0m\n",
      "\u001b[0;32mpandas/_libs/parsers.pyx\u001b[0m in \u001b[0;36mpandas._libs.parsers.TextReader._setup_parser_source\u001b[0;34m()\u001b[0m\n",
      "\u001b[0;31mFileNotFoundError\u001b[0m: [Errno 2] File b'./table4_millan_2006.csv' does not exist: b'./table4_millan_2006.csv'"
     ]
    }
   ],
   "source": [
    "table4_millan_gabet_2006 = pd.read_csv(\"./table4_millan_2006.csv\", sep=';', header=0)\n",
    "print(table4_millan_gabet_2006[['Object','Rd(mas)','logL(Lsun)']].to_markdown(showindex=False))\n",
    "#print(table4_millan_gabet_2006.to_markdown(showindex=False))\n"
   ]
  },
  {
   "cell_type": "markdown",
   "metadata": {},
   "source": [
    "### Figure Disks radius as a function of luminosity"
   ]
  },
  {
   "cell_type": "code",
   "execution_count": 66,
   "metadata": {},
   "outputs": [
    {
     "output_type": "error",
     "ename": "FileNotFoundError",
     "evalue": "[Errno 2] File b'./table3_perraut_2019.csv' does not exist: b'./table3_perraut_2019.csv'",
     "traceback": [
      "\u001b[0;31m---------------------------------------------------------------------------\u001b[0m",
      "\u001b[0;31mFileNotFoundError\u001b[0m                         Traceback (most recent call last)",
      "\u001b[0;32m<ipython-input-66-6567e7cb72d4>\u001b[0m in \u001b[0;36m<module>\u001b[0;34m\u001b[0m\n\u001b[1;32m      3\u001b[0m \u001b[0;34m\u001b[0m\u001b[0m\n\u001b[1;32m      4\u001b[0m \u001b[0;31m#Data from Perraut+2019\u001b[0m\u001b[0;34m\u001b[0m\u001b[0;34m\u001b[0m\u001b[0;34m\u001b[0m\u001b[0m\n\u001b[0;32m----> 5\u001b[0;31m \u001b[0mtable3_perraut_2019\u001b[0m \u001b[0;34m=\u001b[0m \u001b[0mpd\u001b[0m\u001b[0;34m.\u001b[0m\u001b[0mread_csv\u001b[0m\u001b[0;34m(\u001b[0m\u001b[0;34m\"./table3_perraut_2019.csv\"\u001b[0m\u001b[0;34m,\u001b[0m \u001b[0msep\u001b[0m\u001b[0;34m=\u001b[0m\u001b[0;34m';'\u001b[0m\u001b[0;34m,\u001b[0m \u001b[0mheader\u001b[0m\u001b[0;34m=\u001b[0m\u001b[0;36m0\u001b[0m\u001b[0;34m)\u001b[0m\u001b[0;34m\u001b[0m\u001b[0;34m\u001b[0m\u001b[0m\n\u001b[0m\u001b[1;32m      6\u001b[0m \u001b[0mtable3_perraut_2019_non_magnetic\u001b[0m \u001b[0;34m=\u001b[0m \u001b[0mpd\u001b[0m\u001b[0;34m.\u001b[0m\u001b[0mread_csv\u001b[0m\u001b[0;34m(\u001b[0m\u001b[0;34m\"./table3_perraut_2019_non_magnetosferic.csv\"\u001b[0m\u001b[0;34m,\u001b[0m \u001b[0msep\u001b[0m\u001b[0;34m=\u001b[0m\u001b[0;34m';'\u001b[0m\u001b[0;34m,\u001b[0m \u001b[0mheader\u001b[0m\u001b[0;34m=\u001b[0m\u001b[0;36m0\u001b[0m\u001b[0;34m)\u001b[0m\u001b[0;34m\u001b[0m\u001b[0;34m\u001b[0m\u001b[0m\n\u001b[1;32m      7\u001b[0m \u001b[0;34m\u001b[0m\u001b[0m\n",
      "\u001b[0;32m/usr/local/anaconda3/lib/python3.7/site-packages/pandas/io/parsers.py\u001b[0m in \u001b[0;36mparser_f\u001b[0;34m(filepath_or_buffer, sep, delimiter, header, names, index_col, usecols, squeeze, prefix, mangle_dupe_cols, dtype, engine, converters, true_values, false_values, skipinitialspace, skiprows, skipfooter, nrows, na_values, keep_default_na, na_filter, verbose, skip_blank_lines, parse_dates, infer_datetime_format, keep_date_col, date_parser, dayfirst, iterator, chunksize, compression, thousands, decimal, lineterminator, quotechar, quoting, doublequote, escapechar, comment, encoding, dialect, tupleize_cols, error_bad_lines, warn_bad_lines, delim_whitespace, low_memory, memory_map, float_precision)\u001b[0m\n\u001b[1;32m    700\u001b[0m                     skip_blank_lines=skip_blank_lines)\n\u001b[1;32m    701\u001b[0m \u001b[0;34m\u001b[0m\u001b[0m\n\u001b[0;32m--> 702\u001b[0;31m         \u001b[0;32mreturn\u001b[0m \u001b[0m_read\u001b[0m\u001b[0;34m(\u001b[0m\u001b[0mfilepath_or_buffer\u001b[0m\u001b[0;34m,\u001b[0m \u001b[0mkwds\u001b[0m\u001b[0;34m)\u001b[0m\u001b[0;34m\u001b[0m\u001b[0;34m\u001b[0m\u001b[0m\n\u001b[0m\u001b[1;32m    703\u001b[0m \u001b[0;34m\u001b[0m\u001b[0m\n\u001b[1;32m    704\u001b[0m     \u001b[0mparser_f\u001b[0m\u001b[0;34m.\u001b[0m\u001b[0m__name__\u001b[0m \u001b[0;34m=\u001b[0m \u001b[0mname\u001b[0m\u001b[0;34m\u001b[0m\u001b[0;34m\u001b[0m\u001b[0m\n",
      "\u001b[0;32m/usr/local/anaconda3/lib/python3.7/site-packages/pandas/io/parsers.py\u001b[0m in \u001b[0;36m_read\u001b[0;34m(filepath_or_buffer, kwds)\u001b[0m\n\u001b[1;32m    427\u001b[0m \u001b[0;34m\u001b[0m\u001b[0m\n\u001b[1;32m    428\u001b[0m     \u001b[0;31m# Create the parser.\u001b[0m\u001b[0;34m\u001b[0m\u001b[0;34m\u001b[0m\u001b[0;34m\u001b[0m\u001b[0m\n\u001b[0;32m--> 429\u001b[0;31m     \u001b[0mparser\u001b[0m \u001b[0;34m=\u001b[0m \u001b[0mTextFileReader\u001b[0m\u001b[0;34m(\u001b[0m\u001b[0mfilepath_or_buffer\u001b[0m\u001b[0;34m,\u001b[0m \u001b[0;34m**\u001b[0m\u001b[0mkwds\u001b[0m\u001b[0;34m)\u001b[0m\u001b[0;34m\u001b[0m\u001b[0;34m\u001b[0m\u001b[0m\n\u001b[0m\u001b[1;32m    430\u001b[0m \u001b[0;34m\u001b[0m\u001b[0m\n\u001b[1;32m    431\u001b[0m     \u001b[0;32mif\u001b[0m \u001b[0mchunksize\u001b[0m \u001b[0;32mor\u001b[0m \u001b[0miterator\u001b[0m\u001b[0;34m:\u001b[0m\u001b[0;34m\u001b[0m\u001b[0;34m\u001b[0m\u001b[0m\n",
      "\u001b[0;32m/usr/local/anaconda3/lib/python3.7/site-packages/pandas/io/parsers.py\u001b[0m in \u001b[0;36m__init__\u001b[0;34m(self, f, engine, **kwds)\u001b[0m\n\u001b[1;32m    893\u001b[0m             \u001b[0mself\u001b[0m\u001b[0;34m.\u001b[0m\u001b[0moptions\u001b[0m\u001b[0;34m[\u001b[0m\u001b[0;34m'has_index_names'\u001b[0m\u001b[0;34m]\u001b[0m \u001b[0;34m=\u001b[0m \u001b[0mkwds\u001b[0m\u001b[0;34m[\u001b[0m\u001b[0;34m'has_index_names'\u001b[0m\u001b[0;34m]\u001b[0m\u001b[0;34m\u001b[0m\u001b[0;34m\u001b[0m\u001b[0m\n\u001b[1;32m    894\u001b[0m \u001b[0;34m\u001b[0m\u001b[0m\n\u001b[0;32m--> 895\u001b[0;31m         \u001b[0mself\u001b[0m\u001b[0;34m.\u001b[0m\u001b[0m_make_engine\u001b[0m\u001b[0;34m(\u001b[0m\u001b[0mself\u001b[0m\u001b[0;34m.\u001b[0m\u001b[0mengine\u001b[0m\u001b[0;34m)\u001b[0m\u001b[0;34m\u001b[0m\u001b[0;34m\u001b[0m\u001b[0m\n\u001b[0m\u001b[1;32m    896\u001b[0m \u001b[0;34m\u001b[0m\u001b[0m\n\u001b[1;32m    897\u001b[0m     \u001b[0;32mdef\u001b[0m \u001b[0mclose\u001b[0m\u001b[0;34m(\u001b[0m\u001b[0mself\u001b[0m\u001b[0;34m)\u001b[0m\u001b[0;34m:\u001b[0m\u001b[0;34m\u001b[0m\u001b[0;34m\u001b[0m\u001b[0m\n",
      "\u001b[0;32m/usr/local/anaconda3/lib/python3.7/site-packages/pandas/io/parsers.py\u001b[0m in \u001b[0;36m_make_engine\u001b[0;34m(self, engine)\u001b[0m\n\u001b[1;32m   1120\u001b[0m     \u001b[0;32mdef\u001b[0m \u001b[0m_make_engine\u001b[0m\u001b[0;34m(\u001b[0m\u001b[0mself\u001b[0m\u001b[0;34m,\u001b[0m \u001b[0mengine\u001b[0m\u001b[0;34m=\u001b[0m\u001b[0;34m'c'\u001b[0m\u001b[0;34m)\u001b[0m\u001b[0;34m:\u001b[0m\u001b[0;34m\u001b[0m\u001b[0;34m\u001b[0m\u001b[0m\n\u001b[1;32m   1121\u001b[0m         \u001b[0;32mif\u001b[0m \u001b[0mengine\u001b[0m \u001b[0;34m==\u001b[0m \u001b[0;34m'c'\u001b[0m\u001b[0;34m:\u001b[0m\u001b[0;34m\u001b[0m\u001b[0;34m\u001b[0m\u001b[0m\n\u001b[0;32m-> 1122\u001b[0;31m             \u001b[0mself\u001b[0m\u001b[0;34m.\u001b[0m\u001b[0m_engine\u001b[0m \u001b[0;34m=\u001b[0m \u001b[0mCParserWrapper\u001b[0m\u001b[0;34m(\u001b[0m\u001b[0mself\u001b[0m\u001b[0;34m.\u001b[0m\u001b[0mf\u001b[0m\u001b[0;34m,\u001b[0m \u001b[0;34m**\u001b[0m\u001b[0mself\u001b[0m\u001b[0;34m.\u001b[0m\u001b[0moptions\u001b[0m\u001b[0;34m)\u001b[0m\u001b[0;34m\u001b[0m\u001b[0;34m\u001b[0m\u001b[0m\n\u001b[0m\u001b[1;32m   1123\u001b[0m         \u001b[0;32melse\u001b[0m\u001b[0;34m:\u001b[0m\u001b[0;34m\u001b[0m\u001b[0;34m\u001b[0m\u001b[0m\n\u001b[1;32m   1124\u001b[0m             \u001b[0;32mif\u001b[0m \u001b[0mengine\u001b[0m \u001b[0;34m==\u001b[0m \u001b[0;34m'python'\u001b[0m\u001b[0;34m:\u001b[0m\u001b[0;34m\u001b[0m\u001b[0;34m\u001b[0m\u001b[0m\n",
      "\u001b[0;32m/usr/local/anaconda3/lib/python3.7/site-packages/pandas/io/parsers.py\u001b[0m in \u001b[0;36m__init__\u001b[0;34m(self, src, **kwds)\u001b[0m\n\u001b[1;32m   1851\u001b[0m         \u001b[0mkwds\u001b[0m\u001b[0;34m[\u001b[0m\u001b[0;34m'usecols'\u001b[0m\u001b[0;34m]\u001b[0m \u001b[0;34m=\u001b[0m \u001b[0mself\u001b[0m\u001b[0;34m.\u001b[0m\u001b[0musecols\u001b[0m\u001b[0;34m\u001b[0m\u001b[0;34m\u001b[0m\u001b[0m\n\u001b[1;32m   1852\u001b[0m \u001b[0;34m\u001b[0m\u001b[0m\n\u001b[0;32m-> 1853\u001b[0;31m         \u001b[0mself\u001b[0m\u001b[0;34m.\u001b[0m\u001b[0m_reader\u001b[0m \u001b[0;34m=\u001b[0m \u001b[0mparsers\u001b[0m\u001b[0;34m.\u001b[0m\u001b[0mTextReader\u001b[0m\u001b[0;34m(\u001b[0m\u001b[0msrc\u001b[0m\u001b[0;34m,\u001b[0m \u001b[0;34m**\u001b[0m\u001b[0mkwds\u001b[0m\u001b[0;34m)\u001b[0m\u001b[0;34m\u001b[0m\u001b[0;34m\u001b[0m\u001b[0m\n\u001b[0m\u001b[1;32m   1854\u001b[0m         \u001b[0mself\u001b[0m\u001b[0;34m.\u001b[0m\u001b[0munnamed_cols\u001b[0m \u001b[0;34m=\u001b[0m \u001b[0mself\u001b[0m\u001b[0;34m.\u001b[0m\u001b[0m_reader\u001b[0m\u001b[0;34m.\u001b[0m\u001b[0munnamed_cols\u001b[0m\u001b[0;34m\u001b[0m\u001b[0;34m\u001b[0m\u001b[0m\n\u001b[1;32m   1855\u001b[0m \u001b[0;34m\u001b[0m\u001b[0m\n",
      "\u001b[0;32mpandas/_libs/parsers.pyx\u001b[0m in \u001b[0;36mpandas._libs.parsers.TextReader.__cinit__\u001b[0;34m()\u001b[0m\n",
      "\u001b[0;32mpandas/_libs/parsers.pyx\u001b[0m in \u001b[0;36mpandas._libs.parsers.TextReader._setup_parser_source\u001b[0;34m()\u001b[0m\n",
      "\u001b[0;31mFileNotFoundError\u001b[0m: [Errno 2] File b'./table3_perraut_2019.csv' does not exist: b'./table3_perraut_2019.csv'"
     ]
    }
   ],
   "source": [
    "import seaborn as sns\n",
    "luminosity=np.power(10,log_luminosity)\n",
    "\n",
    "#Data from Perraut+2019\n",
    "table3_perraut_2019 = pd.read_csv(\"./table3_perraut_2019.csv\", sep=';', header=0)\n",
    "table3_perraut_2019_non_magnetic = pd.read_csv(\"./table3_perraut_2019_non_magnetosferic.csv\", sep=';', header=0)\n",
    "    \n",
    "disk_radius_perraut = disk_size_calculator(table3_perraut_2019['FWHM(mas)']/2,table3_perraut_2019['distance_pc'])\n",
    "table3_perraut_2019['disk_radius']=pd.Series(disk_radius_perraut)\n",
    "luminosity_perraut=np.power(10,table3_perraut_2019['log_L'])\n",
    "luminosity_perraut_non_magnetosferic=np.power(10,table3_perraut_2019_non_magnetic['log_L'])\n",
    "\n",
    "#Data from Millan-Gabet+2006\n",
    "table4_millan_gabet_2006 = pd.read_csv(\"./table4_millan_2006.csv\", sep=';', header=0)\n",
    "\n",
    "disk_radius_millan = disk_size_calculator(table4_millan_gabet_2006['Rd(mas)'],table4_millan_gabet_2006['distance_pc'])\n",
    "table4_millan_gabet_2006['disk_radius']=pd.Series(disk_radius_millan)\n",
    "log_luminosity_millan = table4_millan_gabet_2006['logL(Lsun)']\n",
    "luminosity_millan = np.power(10,log_luminosity_millan)\n",
    "\n",
    "    \n",
    "fig = plt.figure(figsize=(10, 10))\n",
    "\n",
    "axes = fig.add_axes([0.1, 0.1, 0.8, 0.8]) # left, bottom, width, height (range 0 to 1)\n",
    "\n",
    "#axes.scatter(luminosity, egauss_model_results['disk_radius_cont'],label='Continuum Gaussian model', color='r')\n",
    "#axes.scatter(luminosity, egauss_model_results['disk_radius_Brg'],label='Br$\\gamma$ Gaussian model', color='b')\n",
    "axes.scatter(np.power(10,ering_model_results['log_luminosity']), ering_model_results['width_cont'],label='Continuum Ring model', color='r', marker='x',s=80)\n",
    "axes.scatter(np.power(10,ering_model_results['log_luminosity']), ering_model_results['width_Brg'],label='Br$\\gamma$ Ring model', color='b', marker='x',s=80)\n",
    "\n",
    "#axes.scatter(estimated_luminosity, estimated_inner_disk,label='Jorge\\'s inner disk estimation', color='g')\n",
    "axes.scatter(luminosity_perraut,table3_perraut_2019['disk_radius'],label='Magnetospheric Perraut+2019', color='g')\n",
    "axes.scatter(luminosity_perraut_non_magnetosferic,table3_perraut_2019_non_magnetic['FWHM(mas)']/2,label='Non-Magnetospheric Perraut+2019', color='y')\n",
    "axes.scatter(luminosity_millan,disk_radius_millan,label='Millan-Gabet+2006', color='orange')\n",
    "\n",
    "def inner_disk_radius(Lstar, Ts):\n",
    "    result = 1.1*np.sqrt(Lstar/1000)*(1500/Ts)**2\n",
    "    return result\n",
    "\n",
    "Lstar = np.linspace(-1,1000000,1000000)\n",
    "\n",
    "axes.plot(Lstar, inner_disk_radius(Lstar,1000 ),'--', linewidth=1, color='black')\n",
    "axes.plot(Lstar, inner_disk_radius(Lstar,1500 ),'--', linewidth=1, color='black')\n",
    "axes.plot(Lstar, inner_disk_radius(Lstar,2000 ),'--', linewidth=1, color='black')\n",
    "\n",
    "axes.set_xlabel('Luminosity ($L_\\odot$)', color='#1C2833')\n",
    "axes.set_ylabel('Inner Disk Radius (AU)', color='#1C2833')\n",
    "axes.set_yscale('log')\n",
    "axes.set_xscale('log')\n",
    "axes.legend(loc='upper left')\n",
    "axes.grid()\n",
    "\n",
    "xlim = [1, 1000000]\n",
    "axes.set_xlim(xlim)\n",
    "ylim = [0.01, 150]\n",
    "axes.set_ylim(ylim)\n",
    "\n",
    "plt.text(1.5, 0.08, 'Ts=1000K', fontsize=9)\n",
    "plt.text(1.5, 0.038, 'Ts=1500K', fontsize=9)\n",
    "plt.text(1.5, 0.02, 'Ts=2000K', fontsize=9)\n",
    "\n",
    "#Label each data\n",
    "for i,type in enumerate(names):\n",
    "    if(~np.isnan(np.power(10,ering_model_results['log_luminosity'][i])) and (ering_model_results['width_cont'][i] >0.1) ):\n",
    "        plt.text(np.power(10,ering_model_results['log_luminosity'][i]), ering_model_results['width_cont'][i], names[i], weight='bold', fontsize=9)\n",
    "    if(~np.isnan(np.power(10,ering_model_results['log_luminosity'][i])) and (ering_model_results['width_Brg'][i] >0.1) ):\n",
    "        plt.text(np.power(10,ering_model_results['log_luminosity'][i]), ering_model_results['width_Brg'][i], names[i], weight='bold', fontsize=9)\n",
    "for i,type in enumerate(table3_perraut_2019['Object']):\n",
    "    plt.text(luminosity_perraut[i], table3_perraut_2019['disk_radius'][i], table3_perraut_2019['Object'][i], fontsize=7)\n",
    "\n",
    "for i,type in enumerate(table4_millan_gabet_2006['Object']):\n",
    "    plt.text(luminosity_millan[i], table4_millan_gabet_2006['disk_radius'][i], table4_millan_gabet_2006['Object'][i], fontsize=7)\n",
    "    \n",
    "#Save figure to disk\n",
    "fig.savefig('./figures/figure_luminosity_disk_radius.eps', dpi=300)\n"
   ]
  },
  {
   "cell_type": "markdown",
   "metadata": {},
   "source": [
    "## Final products visualization\n",
    "There are two options for final products visualization: *OIFits Explorer* and *GRAVIQL*.\n",
    "\n",
    "### OIFits Explorer\n",
    "This is a [JMMC](http://www.jmmc.fr/oifitsexplorer_page.htm) Java based OI FITS viewer that must be launched from the Applications menu.\n",
    "\n",
    "![JMMC OIFits caption](./figures/OIFits_caption.png)\n"
   ]
  },
  {
   "cell_type": "markdown",
   "metadata": {},
   "source": [
    "# MACROS\n",
    "\n",
    "### Defined macros:\n",
    "\n",
    "* Macro with continuum removal and incluiding LITpro model results:\n",
    "```console\n",
    "%macro w_cont_model 1-28 31\n",
    "```\n",
    "* Macro without continuum removal and incluiding LITpro model results:\n",
    "```console\n",
    "%macro wo_cont_model 1-13 16-28 31\n",
    "```\n",
    "* Macro without continuum removal and without LITpro model results:\n",
    "```console\n",
    "%macro wo_cont_wo_model 1-13 16-19\n",
    "```\n",
    "* Macro with continuum removal and without LITpro model results:\n",
    "```console\n",
    "%macro w_cont_wo_model 1-19\n",
    "```\n",
    "\n",
    "\n",
    "### Commands to load stored macros:\n",
    "```console\n",
    "%store -r w_cont_model\n",
    "%store -r wo_cont_model\n",
    "%store -r wo_cont_wo_model\n",
    "%store -r w_cont_wo_model\n",
    "```\n",
    "\n",
    "### Commands to launch loaded macros:\n",
    "```console\n",
    "w_cont_model\n",
    "wo_cont_model\n",
    "wo_cont_wo_model\n",
    "w_cont_wo_model\n",
    "```\n",
    "\n"
   ]
  },
  {
   "cell_type": "code",
   "execution_count": 67,
   "metadata": {
    "tags": []
   },
   "outputs": [
    {
     "output_type": "stream",
     "name": "stdout",
     "text": "no stored variable w_cont_model\n"
    }
   ],
   "source": [
    "%store -r w_cont_model"
   ]
  },
  {
   "cell_type": "code",
   "execution_count": 68,
   "metadata": {
    "tags": []
   },
   "outputs": [
    {
     "output_type": "stream",
     "name": "stdout",
     "text": "no stored variable w_cont_model\n"
    },
    {
     "output_type": "error",
     "ename": "NameError",
     "evalue": "name 'w_cont_model' is not defined",
     "traceback": [
      "\u001b[0;31m---------------------------------------------------------------------------\u001b[0m",
      "\u001b[0;31mNameError\u001b[0m                                 Traceback (most recent call last)",
      "\u001b[0;32m<ipython-input-68-4662b3f0ddd5>\u001b[0m in \u001b[0;36m<module>\u001b[0;34m\u001b[0m\n\u001b[1;32m      1\u001b[0m \u001b[0mget_ipython\u001b[0m\u001b[0;34m(\u001b[0m\u001b[0;34m)\u001b[0m\u001b[0;34m.\u001b[0m\u001b[0mrun_line_magic\u001b[0m\u001b[0;34m(\u001b[0m\u001b[0;34m'store'\u001b[0m\u001b[0;34m,\u001b[0m \u001b[0;34m'-r w_cont_model'\u001b[0m\u001b[0;34m)\u001b[0m\u001b[0;34m\u001b[0m\u001b[0;34m\u001b[0m\u001b[0m\n\u001b[0;32m----> 2\u001b[0;31m \u001b[0mw_cont_model\u001b[0m\u001b[0;34m\u001b[0m\u001b[0;34m\u001b[0m\u001b[0m\n\u001b[0m",
      "\u001b[0;31mNameError\u001b[0m: name 'w_cont_model' is not defined"
     ]
    }
   ],
   "source": [
    "%store -r w_cont_model\n",
    "w_cont_model"
   ]
  }
 ],
 "metadata": {
  "celltoolbar": "Slideshow",
  "kernelspec": {
   "display_name": "Python 3",
   "language": "python",
   "name": "python3"
  },
  "language_info": {
   "codemirror_mode": {
    "name": "ipython",
    "version": 3
   },
   "file_extension": ".py",
   "mimetype": "text/x-python",
   "name": "python",
   "nbconvert_exporter": "python",
   "pygments_lexer": "ipython3",
   "version": "3.7.3-final"
  }
 },
 "nbformat": 4,
 "nbformat_minor": 4
}