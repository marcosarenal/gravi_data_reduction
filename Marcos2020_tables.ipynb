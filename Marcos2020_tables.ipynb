{
 "cells": [
  {
   "cell_type": "markdown",
   "metadata": {},
   "source": [
    "# GRAVITY data reduction process: from raw data to science results\n",
    "\n",
    "\n",
    "**Pablo Marcos-Arenal**\n",
    "\n",
    "Centro de Astrobiología (INTA-CSIC)\n",
    "\n",
    "\n",
    "This file intends to cover the tables of the paper related to the near-infrared K- band observations with the GRAVITY interferometer at Very Large Telescope Interferometer (VLTI) at the Paranal Observatory. \n",
    "\n",
    "These observations of Herbig Ae/Be stars provide with spatially and spectrally resolved data of their inner disks.\n",
    "\n"
   ]
  },
  {
   "cell_type": "code",
   "execution_count": 1,
   "metadata": {},
   "outputs": [],
   "source": [
    "# This line configures matplotlib to show figures embedded in the notebook, \n",
    "# instead of opening a new window for each figure. More about that later. \n",
    "# If you are using an old version of IPython, try using '%pylab inline' instead.\n",
    "\n",
    "%matplotlib inline\n",
    "\n",
    "#%matplotlib qt\n",
    "\n",
    "#Import modules\n",
    "import numpy as np\n",
    "import pandas as pd\n",
    "\n"
   ]
  },
  {
   "cell_type": "markdown",
   "metadata": {},
   "source": [
    "# Table A1: Observations\n"
   ]
  },
  {
   "cell_type": "code",
   "execution_count": 3,
   "metadata": {},
   "outputs": [
    {
     "name": "stdout",
     "output_type": "stream",
     "text": [
      "| ('Object', ' ')   | ('Calibrator', '')   | ('RA', '(h:m:s)')   | ('DEC', '(deg:m:s)')   | ('Observation date', ' ')   | ('Type', ' ')   | ('Seeing', ' ')   | ('Telescope', ' ')   |\n",
      "|:------------------|:---------------------|:--------------------|:-----------------------|:----------------------------|:----------------|:------------------|:---------------------|\n",
      "| V590Mon           | HD259163             | 06:40:44.6          | +09:48:02              | 27-10-2018                  | SINGLE          | 0.42''            | U1-U2-U3-U4          |\n",
      "| PDS281            | HD78958              | 08:55:45.9          | -44:25:14              | 20-11-2018                  | SINGLE          | 0.57''            | U1-U2-U3-U4          |\n",
      "| HD94509           | HD94533              | 10:53:27.2          | -58:25:24              | 20-12-2018                  | SINGLE          | 0.36''            | U1-U2-U3-U4          |\n",
      "| DGCir             | HD131662             | 15:03:23.8          | -63:22:59              | 22-01-2019                  | SINGLE          | 0.46''            | U1-U2-U3-U4          |\n",
      "| HD141926          | HD145664             | 15:54:21.8          | -55:19:44              | 21-03-2019                  | SINGLE          | 0.45''            | A0-B2-C1-D0          |\n",
      "\\begin{tabular}{llllllll}\n",
      "\\toprule\n",
      "   Object & Calibrator &          RA &        DEC & Observation date &    Type &  Seeing &    Telescope \\\\\n",
      "          &     (h:m:s) & \\multicolumn{5}{l}{(deg:m:s)} \\\\\n",
      "\\midrule\n",
      "  V590Mon &   HD259163 &  06:40:44.6 &  +09:48:02 &       27-10-2018 &  SINGLE &  0.42'' &  U1-U2-U3-U4 \\\\\n",
      "   PDS281 &    HD78958 &  08:55:45.9 &  -44:25:14 &       20-11-2018 &  SINGLE &  0.57'' &  U1-U2-U3-U4 \\\\\n",
      "  HD94509 &    HD94533 &  10:53:27.2 &  -58:25:24 &       20-12-2018 &  SINGLE &  0.36'' &  U1-U2-U3-U4 \\\\\n",
      "    DGCir &   HD131662 &  15:03:23.8 &  -63:22:59 &       22-01-2019 &  SINGLE &  0.46'' &  U1-U2-U3-U4 \\\\\n",
      " HD141926 &   HD145664 &  15:54:21.8 &  -55:19:44 &       21-03-2019 &  SINGLE &  0.45'' &  A0-B2-C1-D0 \\\\\n",
      "\\bottomrule\n",
      "\\end{tabular}\n",
      "\n"
     ]
    }
   ],
   "source": [
    "table1_draft = pd.read_csv(\"./tables/table1_draft.csv\", sep=';', header=[0,1])\n",
    "\n",
    "#Add calibrator info to table\n",
    "table1_draft.insert(1, \"Calibrator\", ['HD259163', 'HD78958','HD94533', 'HD131662', 'HD145664'], True) \n",
    "# Declare a list that is to be converted into a column \n",
    "#calibrator = ['Delhi', 'Bangalore', 'Chennai', 'Patna'] \n",
    "  \n",
    "# Using 'Address' as the column name \n",
    "# and equating it to the list \n",
    "#df['Calibrator'] = calibrator \n",
    "\n",
    "print(table1_draft.to_markdown(showindex=False))\n",
    "\n",
    "print(table1_draft.to_latex(index=False))\n",
    "\n"
   ]
  },
  {
   "cell_type": "markdown",
   "metadata": {},
   "source": [
    "| ('Object', ' ')   | ('Calibrator', '')   | ('RA', '(h:m:s)')   | ('DEC', '(deg:m:s)')   | ('Observation date', ' ')   | ('Type', ' ')   | ('Seeing', ' ')   | ('Telescope', ' ')   |\n",
    "|:------------------|:---------------------|:--------------------|:-----------------------|:----------------------------|:----------------|:------------------|:---------------------|\n",
    "| V590Mon           | HD259163             | 06:40:44.6          | +09:48:02              | 27-10-2018                  | SINGLE          | 0.42''            | U1-U2-U3-U4          |\n",
    "| PDS281            | HD78958              | 08:55:45.9          | -44:25:14              | 20-11-2018                  | SINGLE          | 0.57''            | U1-U2-U3-U4          |\n",
    "| HD94509           | HD94533              | 10:53:27.2          | -58:25:24              | 20-12-2018                  | SINGLE          | 0.36''            | U1-U2-U3-U4          |\n",
    "| DGCir             | HD131662             | 15:03:23.8          | -63:22:59              | 22-01-2019                  | SINGLE          | 0.46''            | U1-U2-U3-U4          |\n",
    "| HD141926          | HD145664             | 15:54:21.8          | -55:19:44              | 21-03-2019                  | SINGLE          | 0.45''            | A0-B2-C1-D0          |\n"
   ]
  },
  {
   "cell_type": "code",
   "execution_count": null,
   "metadata": {},
   "outputs": [],
   "source": []
  }
 ],
 "metadata": {
  "kernelspec": {
   "display_name": "Python 3",
   "language": "python",
   "name": "python3"
  },
  "language_info": {
   "codemirror_mode": {
    "name": "ipython",
    "version": 3
   },
   "file_extension": ".py",
   "mimetype": "text/x-python",
   "name": "python",
   "nbconvert_exporter": "python",
   "pygments_lexer": "ipython3",
   "version": "3.7.7"
  }
 },
 "nbformat": 4,
 "nbformat_minor": 4
}
